{
 "cells": [
  {
   "cell_type": "code",
   "execution_count": 0,
   "metadata": {
    "application/vnd.databricks.v1+cell": {
     "cellMetadata": {
      "byteLimit": 2048000,
      "rowLimit": 10000
     },
     "inputWidgets": {},
     "nuid": "ba858e8e-3839-4a18-9601-0fa5991e8f48",
     "showTitle": false,
     "tableResultSettingsMap": {},
     "title": ""
    }
   },
   "outputs": [
    {
     "output_type": "stream",
     "name": "stdout",
     "output_type": "stream",
     "text": [
      "Python interpreter will be restarted.\nCollecting spotipy\n  Using cached spotipy-2.25.1-py3-none-any.whl (31 kB)\nRequirement already satisfied: requests>=2.25.0 in /databricks/python3/lib/python3.9/site-packages (from spotipy) (2.27.1)\nRequirement already satisfied: urllib3>=1.26.0 in /databricks/python3/lib/python3.9/site-packages (from spotipy) (1.26.9)\nCollecting redis>=3.5.3\n  Using cached redis-6.2.0-py3-none-any.whl (278 kB)\nCollecting async-timeout>=4.0.3\n  Using cached async_timeout-5.0.1-py3-none-any.whl (6.2 kB)\nRequirement already satisfied: charset-normalizer~=2.0.0 in /databricks/python3/lib/python3.9/site-packages (from requests>=2.25.0->spotipy) (2.0.4)\nRequirement already satisfied: idna<4,>=2.5 in /databricks/python3/lib/python3.9/site-packages (from requests>=2.25.0->spotipy) (3.3)\nRequirement already satisfied: certifi>=2017.4.17 in /databricks/python3/lib/python3.9/site-packages (from requests>=2.25.0->spotipy) (2021.10.8)\nInstalling collected packages: async-timeout, redis, spotipy\nSuccessfully installed async-timeout-5.0.1 redis-6.2.0 spotipy-2.25.1\nPython interpreter will be restarted.\n"
     ]
    }
   ],
   "source": [
    "pip install spotipy --upgrade"
   ]
  },
  {
   "cell_type": "code",
   "execution_count": 0,
   "metadata": {
    "application/vnd.databricks.v1+cell": {
     "cellMetadata": {
      "byteLimit": 2048000,
      "rowLimit": 10000
     },
     "inputWidgets": {},
     "nuid": "f054e221-aa42-427b-bb30-e65062758238",
     "showTitle": false,
     "tableResultSettingsMap": {},
     "title": ""
    }
   },
   "outputs": [
    {
     "output_type": "display_data",
     "data": {
      "application/vnd.databricks.v1+bamboolib_hint": "{\"pd.DataFrames\": [], \"version\": \"0.0.1\"}",
      "text/plain": []
     },
     "metadata": {},
     "output_type": "display_data"
    }
   ],
   "source": [
    "import spotipy\n",
    "from spotipy.oauth2 import SpotifyOAuth,SpotifyClientCredentials\n",
    "import pandas as pd"
   ]
  },
  {
   "cell_type": "code",
   "execution_count": 0,
   "metadata": {
    "application/vnd.databricks.v1+cell": {
     "cellMetadata": {
      "byteLimit": 2048000,
      "rowLimit": 10000
     },
     "inputWidgets": {},
     "nuid": "21d0a8c8-fb59-4075-a244-80c39d1497b8",
     "showTitle": false,
     "tableResultSettingsMap": {},
     "title": ""
    }
   },
   "outputs": [],
   "source": [
    "client_cred_manager=SpotifyClientCredentials(client_id='e90d0e3185874b50b2cda9c0a8023c6f',client_secret='fd296d9f74c841b8bd0d4dbc8082158a')"
   ]
  },
  {
   "cell_type": "code",
   "execution_count": 0,
   "metadata": {
    "application/vnd.databricks.v1+cell": {
     "cellMetadata": {
      "byteLimit": 2048000,
      "rowLimit": 10000
     },
     "inputWidgets": {},
     "nuid": "74f5ab7d-0140-4805-8456-659c8275517e",
     "showTitle": true,
     "tableResultSettingsMap": {},
     "title": "Verify your token"
    }
   },
   "outputs": [
    {
     "output_type": "stream",
     "name": "stdout",
     "output_type": "stream",
     "text": [
      "{'access_token': 'BQBaM4halsFY4BiDDW962dZXirSnEdzODczXaC8WHcJcUjphOpWaSBREJzN3dSgdFuH8f6oHqi6VelrTaJvpSm_3IdnD2UOiYeZDdsafhloqDNif2k8HwBAaFQ0JvXJGanMTpi81Hx0', 'token_type': 'Bearer', 'expires_in': 3600, 'expires_at': 1751792182}\n"
     ]
    },
    {
     "output_type": "stream",
     "name": "stderr",
     "output_type": "stream",
     "text": [
      "<command-234153612769975>:1: DeprecationWarning: You're using 'as_dict = True'.get_access_token will return the token string directly in future versions. Please adjust your code accordingly, or use get_cached_token instead.\n  token_info = client_cred_manager.get_access_token()\n"
     ]
    }
   ],
   "source": [
    "token_info = client_cred_manager.get_access_token()\n",
    "print(token_info)"
   ]
  },
  {
   "cell_type": "code",
   "execution_count": 0,
   "metadata": {
    "application/vnd.databricks.v1+cell": {
     "cellMetadata": {
      "byteLimit": 2048000,
      "rowLimit": 10000
     },
     "inputWidgets": {},
     "nuid": "21b618ed-4c68-4775-ad97-29481269a0f2",
     "showTitle": true,
     "tableResultSettingsMap": {},
     "title": "Creates an object that uses creds and extracts data from Spotify API"
    }
   },
   "outputs": [],
   "source": [
    "sp=spotipy.Spotify(client_credentials_manager=client_cred_manager)"
   ]
  },
  {
   "cell_type": "code",
   "execution_count": 0,
   "metadata": {
    "application/vnd.databricks.v1+cell": {
     "cellMetadata": {
      "byteLimit": 2048000,
      "rowLimit": 10000
     },
     "inputWidgets": {},
     "nuid": "71f25b14-526e-4a48-9a11-4eeaefabcbeb",
     "showTitle": false,
     "tableResultSettingsMap": {},
     "title": ""
    }
   },
   "outputs": [],
   "source": [
    "Auro_10000_playlist_link=\"https://open.spotify.com/playlist/6VOedaf3eNWDOVpa9Qdlvg\"\n"
   ]
  },
  {
   "cell_type": "code",
   "execution_count": 0,
   "metadata": {
    "application/vnd.databricks.v1+cell": {
     "cellMetadata": {
      "byteLimit": 2048000,
      "rowLimit": 10000
     },
     "inputWidgets": {},
     "nuid": "f1028293-11ec-4fff-a631-9c49057a38f6",
     "showTitle": false,
     "tableResultSettingsMap": {},
     "title": ""
    }
   },
   "outputs": [
    {
     "output_type": "stream",
     "name": "stdout",
     "output_type": "stream",
     "text": [
      "['https:', '', 'open.spotify.com', 'playlist', '6VOedaf3eNWDOVpa9Qdlvg']\n"
     ]
    }
   ],
   "source": [
    "list_split=Auro_10000_playlist_link.split('/')\n",
    "print(list_split)"
   ]
  },
  {
   "cell_type": "code",
   "execution_count": 0,
   "metadata": {
    "application/vnd.databricks.v1+cell": {
     "cellMetadata": {
      "byteLimit": 2048000,
      "rowLimit": 10000
     },
     "inputWidgets": {},
     "nuid": "eeb5457e-c973-4b7c-8502-2af266009c08",
     "showTitle": false,
     "tableResultSettingsMap": {},
     "title": ""
    }
   },
   "outputs": [
    {
     "output_type": "stream",
     "name": "stdout",
     "output_type": "stream",
     "text": [
      "6VOedaf3eNWDOVpa9Qdlvg\n"
     ]
    }
   ],
   "source": [
    "play_list_uri=list_split[-1]\n",
    "print(play_list_uri)"
   ]
  },
  {
   "cell_type": "code",
   "execution_count": 0,
   "metadata": {
    "application/vnd.databricks.v1+cell": {
     "cellMetadata": {
      "byteLimit": 2048000,
      "rowLimit": 10000
     },
     "inputWidgets": {},
     "nuid": "be9944e2-8f03-4b09-8994-58e601c3a85b",
     "showTitle": false,
     "tableResultSettingsMap": {},
     "title": ""
    }
   },
   "outputs": [],
   "source": [
    "data=sp.playlist_tracks(play_list_uri)"
   ]
  },
  {
   "cell_type": "code",
   "execution_count": 0,
   "metadata": {
    "application/vnd.databricks.v1+cell": {
     "cellMetadata": {
      "byteLimit": 2048000,
      "rowLimit": 10000
     },
     "inputWidgets": {},
     "nuid": "b2458d74-c3c7-4b93-90d9-258bb555af9c",
     "showTitle": true,
     "tableResultSettingsMap": {},
     "title": "data as is"
    }
   },
   "outputs": [
    {
     "output_type": "stream",
     "name": "stdout",
     "output_type": "stream",
     "text": [
      "Out[9]: dict_keys(['href', 'items', 'limit', 'next', 'offset', 'previous', 'total'])"
     ]
    }
   ],
   "source": [
    "data.keys()"
   ]
  },
  {
   "cell_type": "code",
   "execution_count": 0,
   "metadata": {
    "application/vnd.databricks.v1+cell": {
     "cellMetadata": {
      "byteLimit": 2048000,
      "rowLimit": 10000
     },
     "inputWidgets": {},
     "nuid": "85769f79-6e31-4dbd-8df9-89a46c624df7",
     "showTitle": false,
     "tableResultSettingsMap": {},
     "title": ""
    }
   },
   "outputs": [
    {
     "output_type": "stream",
     "name": "stdout",
     "output_type": "stream",
     "text": [
      "Out[10]: {'href': 'https://api.spotify.com/v1/playlists/6VOedaf3eNWDOVpa9Qdlvg/tracks?offset=0&limit=100&additional_types=track',\n 'items': [{'added_at': '2025-03-07T07:49:17Z',\n   'added_by': {'external_urls': {'spotify': 'https://open.spotify.com/user/31rzz7jr6t3e3mqgitwppkmfg2ve'},\n    'href': 'https://api.spotify.com/v1/users/31rzz7jr6t3e3mqgitwppkmfg2ve',\n    'id': '31rzz7jr6t3e3mqgitwppkmfg2ve',\n    'type': 'user',\n    'uri': 'spotify:user:31rzz7jr6t3e3mqgitwppkmfg2ve'},\n   'is_local': False,\n   'primary_color': None,\n   'track': {'preview_url': None,\n    'available_markets': ['AR',\n     'AU',\n     'AT',\n     'BE',\n     'BO',\n     'BR',\n     'BG',\n     'CA',\n     'CL',\n     'CO',\n     'CR',\n     'CY',\n     'CZ',\n     'DK',\n     'DO',\n     'DE',\n     'EC',\n     'EE',\n     'SV',\n     'FI',\n     'FR',\n     'GR',\n     'GT',\n     'HN',\n     'HK',\n     'HU',\n     'IS',\n     'IE',\n     'IT',\n     'LV',\n     'LT',\n     'LU',\n     'MY',\n     'MT',\n     'MX',\n     'NL',\n     'NZ',\n     'NI',\n     'NO',\n     'PA',\n     'PY',\n     'PE',\n     'PH',\n     'PL',\n     'PT',\n     'SG',\n     'SK',\n     'ES',\n     'SE',\n     'CH',\n     'TW',\n     'TR',\n     'UY',\n     'US',\n     'GB',\n     'AD',\n     'LI',\n     'MC',\n     'ID',\n     'JP',\n     'TH',\n     'VN',\n     'RO',\n     'IL',\n     'ZA',\n     'SA',\n     'AE',\n     'BH',\n     'QA',\n     'OM',\n     'KW',\n     'EG',\n     'MA',\n     'DZ',\n     'TN',\n     'LB',\n     'JO',\n     'PS',\n     'IN',\n     'BY',\n     'KZ',\n     'MD',\n     'UA',\n     'AL',\n     'BA',\n     'HR',\n     'ME',\n     'MK',\n     'RS',\n     'SI',\n     'KR',\n     'BD',\n     'PK',\n     'LK',\n     'GH',\n     'KE',\n     'NG',\n     'TZ',\n     'UG',\n     'AG',\n     'AM',\n     'BS',\n     'BB',\n     'BZ',\n     'BT',\n     'BW',\n     'BF',\n     'CV',\n     'CW',\n     'DM',\n     'FJ',\n     'GM',\n     'GE',\n     'GD',\n     'GW',\n     'GY',\n     'HT',\n     'JM',\n     'KI',\n     'LS',\n     'LR',\n     'MW',\n     'MV',\n     'ML',\n     'MH',\n     'FM',\n     'NA',\n     'NR',\n     'NE',\n     'PW',\n     'PG',\n     'PR',\n     'WS',\n     'SM',\n     'ST',\n     'SN',\n     'SC',\n     'SL',\n     'SB',\n     'KN',\n     'LC',\n     'VC',\n     'SR',\n     'TL',\n     'TO',\n     'TT',\n     'TV',\n     'VU',\n     'AZ',\n     'BN',\n     'BI',\n     'KH',\n     'CM',\n     'TD',\n     'KM',\n     'GQ',\n     'SZ',\n     'GA',\n     'GN',\n     'KG',\n     'LA',\n     'MO',\n     'MR',\n     'MN',\n     'NP',\n     'RW',\n     'TG',\n     'UZ',\n     'ZW',\n     'BJ',\n     'MG',\n     'MU',\n     'MZ',\n     'AO',\n     'CI',\n     'DJ',\n     'ZM',\n     'CD',\n     'CG',\n     'IQ',\n     'LY',\n     'TJ',\n     'VE',\n     'ET',\n     'XK'],\n    'explicit': False,\n    'type': 'track',\n    'episode': False,\n    'track': True,\n    'album': {'available_markets': ['AR',\n      'AU',\n      'AT',\n      'BE',\n      'BO',\n      'BR',\n      'BG',\n      'CA',\n      'CL',\n      'CO',\n      'CR',\n      'CY',\n      'CZ',\n      'DK',\n      'DO',\n      'DE',\n      'EC',\n      'EE',\n      'SV',\n      'FI',\n      'FR',\n      'GR',\n      'GT',\n      'HN',\n      'HK',\n      'HU',\n      'IS',\n      'IE',\n      'IT',\n      'LV',\n      'LT',\n      'LU',\n      'MY',\n      'MT',\n      'MX',\n      'NL',\n      'NZ',\n      'NI',\n      'NO',\n      'PA',\n      'PY',\n      'PE',\n      'PH',\n      'PL',\n      'PT',\n      'SG',\n      'SK',\n      'ES',\n      'SE',\n      'CH',\n      'TW',\n      'TR',\n      'UY',\n      'US',\n      'GB',\n      'AD',\n      'LI',\n      'MC',\n      'ID',\n      'JP',\n      'TH',\n      'VN',\n      'RO',\n      'IL',\n      'ZA',\n      'SA',\n      'AE',\n      'BH',\n      'QA',\n      'OM',\n      'KW',\n      'EG',\n      'MA',\n      'DZ',\n      'TN',\n      'LB',\n      'JO',\n      'PS',\n      'IN',\n      'BY',\n      'KZ',\n      'MD',\n      'UA',\n      'AL',\n      'BA',\n      'HR',\n      'ME',\n      'MK',\n      'RS',\n      'SI',\n      'KR',\n      'BD',\n      'PK',\n      'LK',\n      'GH',\n      'KE',\n      'NG',\n      'TZ',\n      'UG',\n      'AG',\n      'AM',\n      'BS',\n      'BB',\n      'BZ',\n      'BT',\n      'BW',\n      'BF',\n      'CV',\n      'CW',\n      'DM',\n      'FJ',\n      'GM',\n      'GE',\n      'GD',\n      'GW',\n      'GY',\n      'HT',\n      'JM',\n      'KI',\n      'LS',\n      'LR',\n      'MW',\n      'MV',\n      'ML',\n      'MH',\n      'FM',\n      'NA',\n      'NR',\n      'NE',\n      'PW',\n      'PG',\n      'PR',\n      'WS',\n      'SM',\n      'ST',\n      'SN',\n      'SC',\n      'SL',\n      'SB',\n      'KN',\n      'LC',\n      'VC',\n      'SR',\n      'TL',\n      'TO',\n      'TT',\n      'TV',\n      'VU',\n      'AZ',\n      'BN',\n      'BI',\n      'KH',\n      'CM',\n      'TD',\n      'KM',\n      'GQ',\n      'SZ',\n      'GA',\n      'GN',\n      'KG',\n      'LA',\n      'MO',\n      'MR',\n      'MN',\n      'NP',\n      'RW',\n      'TG',\n      'UZ',\n      'ZW',\n      'BJ',\n      'MG',\n      'MU',\n      'MZ',\n      'AO',\n      'CI',\n      'DJ',\n      'ZM',\n      'CD',\n      'CG',\n      'IQ',\n      'LY',\n      'TJ',\n      'VE',\n      'ET',\n      'XK'],\n     'type': 'album',\n     'album_type': 'single',\n     'href': 'https://api.spotify.com/v1/albums/6xUYw5goKIoyJQi9C27UBy',\n     'id': '6xUYw5goKIoyJQi9C27UBy',\n     'images': [{'height': 640,\n       'url': 'https://i.scdn.co/image/ab67616d0000b273becceb2d3f6a694db50fcedf',\n       'width': 640},\n      {'height': 300,\n       'url': 'https://i.scdn.co/image/ab67616d00001e02becceb2d3f6a694db50fcedf',\n       'width': 300},\n      {'height': 64,\n       'url': 'https://i.scdn.co/image/ab67616d00004851becceb2d3f6a694db50fcedf',\n       'width': 64}],\n     'name': 'NUNCA MUDA?',\n     'release_date': '2025-01-09',\n     'release_date_precision': 'day',\n     'uri': 'spotify:album:6xUYw5goKIoyJQi9C27UBy',\n     'artists': [{'external_urls': {'spotify': 'https://open.spotify.com/artist/5dDNNq04RjKXFOADdHd6VX'},\n       'href': 'https://api.spotify.com/v1/artists/5dDNNq04RjKXFOADdHd6VX',\n       'id': '5dDNNq04RjKXFOADdHd6VX',\n       'name': 'Scythermane',\n       'type': 'artist',\n       'uri': 'spotify:artist:5dDNNq04RjKXFOADdHd6VX'},\n      {'external_urls': {'spotify': 'https://open.spotify.com/artist/7lAaAGxYxk2GH8cMbTEwAL'},\n       'href': 'https://api.spotify.com/v1/artists/7lAaAGxYxk2GH8cMbTEwAL',\n       'id': '7lAaAGxYxk2GH8cMbTEwAL',\n       'name': 'NXGHT!',\n       'type': 'artist',\n       'uri': 'spotify:artist:7lAaAGxYxk2GH8cMbTEwAL'},\n      {'external_urls': {'spotify': 'https://open.spotify.com/artist/14hsjenLEdvafsGkk2CEiF'},\n       'href': 'https://api.spotify.com/v1/artists/14hsjenLEdvafsGkk2CEiF',\n       'id': '14hsjenLEdvafsGkk2CEiF',\n       'name': 'MC Fabinho da Osk',\n       'type': 'artist',\n       'uri': 'spotify:artist:14hsjenLEdvafsGkk2CEiF'}],\n     'external_urls': {'spotify': 'https://open.spotify.com/album/6xUYw5goKIoyJQi9C27UBy'},\n     'total_tracks': 6},\n    'artists': [{'external_urls': {'spotify': 'https://open.spotify.com/artist/5dDNNq04RjKXFOADdHd6VX'},\n      'href': 'https://api.spotify.com/v1/artists/5dDNNq04RjKXFOADdHd6VX',\n      'id': '5dDNNq04RjKXFOADdHd6VX',\n      'name': 'Scythermane',\n      'type': 'artist',\n      'uri': 'spotify:artist:5dDNNq04RjKXFOADdHd6VX'},\n     {'external_urls': {'spotify': 'https://open.spotify.com/artist/7lAaAGxYxk2GH8cMbTEwAL'},\n      'href': 'https://api.spotify.com/v1/artists/7lAaAGxYxk2GH8cMbTEwAL',\n      'id': '7lAaAGxYxk2GH8cMbTEwAL',\n      'name': 'NXGHT!',\n      'type': 'artist',\n      'uri': 'spotify:artist:7lAaAGxYxk2GH8cMbTEwAL'},\n     {'external_urls': {'spotify': 'https://open.spotify.com/artist/14hsjenLEdvafsGkk2CEiF'},\n      'href': 'https://api.spotify.com/v1/artists/14hsjenLEdvafsGkk2CEiF',\n      'id': '14hsjenLEdvafsGkk2CEiF',\n      'name': 'MC Fabinho da Osk',\n      'type': 'artist',\n      'uri': 'spotify:artist:14hsjenLEdvafsGkk2CEiF'}],\n    'disc_number': 1,\n    'track_number': 1,\n    'duration_ms': 81500,\n    'external_ids': {'isrc': 'SGW502245352'},\n    'external_urls': {'spotify': 'https://open.spotify.com/track/5EIjpM1B1VsLoKvv2iwd0P'},\n    'href': 'https://api.spotify.com/v1/tracks/5EIjpM1B1VsLoKvv2iwd0P',\n    'id': '5EIjpM1B1VsLoKvv2iwd0P',\n    'name': 'NUNCA MUDA?',\n    'popularity': 86,\n    'uri': 'spotify:track:5EIjpM1B1VsLoKvv2iwd0P',\n    'is_local': False},\n   'video_thumbnail': {'url': None}},\n  {'added_at': '2025-03-07T07:49:21Z',\n   'added_by': {'external_urls': {'spotify': 'https://open.spotify.com/user/31rzz7jr6t3e3mqgitwppkmfg2ve'},\n    'href': 'https://api.spotify.com/v1/users/31rzz7jr6t3e3mqgitwppkmfg2ve',\n    'id': '31rzz7jr6t3e3mqgitwppkmfg2ve',\n    'type': 'user',\n    'uri': 'spotify:user:31rzz7jr6t3e3mqgitwppkmfg2ve'},\n   'is_local': False,\n   'primary_color': None,\n   'track': {'preview_url': None,\n    'available_markets': ['AR',\n     'AU',\n     'AT',\n     'BE',\n     'BO',\n     'BR',\n     'BG',\n     'CA',\n     'CL',\n     'CO',\n     'CR',\n     'CY',\n     'CZ',\n     'DK',\n     'DO',\n     'DE',\n     'EC',\n     'EE',\n     'SV',\n     'FI',\n     'FR',\n     'GR',\n     'GT',\n     'HN',\n     'HK',\n     'HU',\n     'IS',\n     'IE',\n     'IT',\n     'LV',\n     'LT',\n     'LU',\n     'MY',\n     'MT',\n     'MX',\n     'NL',\n     'NZ',\n     'NI',\n     'NO',\n     'PA',\n     'PY',\n     'PE',\n     'PH',\n     'PL',\n     'PT',\n     'SG',\n     'SK',\n     'ES',\n     'SE',\n     'CH',\n     'TW',\n     'TR',\n     'UY',\n     'US',\n     'GB',\n     'AD',\n     'LI',\n     'MC',\n     'ID',\n     'JP',\n     'TH',\n     'VN',\n     'RO',\n     'IL',\n     'ZA',\n     'SA',\n     'AE',\n     'BH',\n     'QA',\n     'OM',\n     'KW',\n     'EG',\n     'MA',\n     'DZ',\n     'TN',\n     'LB',\n     'JO',\n     'PS',\n     'IN',\n     'BY',\n     'KZ',\n     'MD',\n     'UA',\n     'AL',\n     'BA',\n     'HR',\n     'ME',\n     'MK',\n     'RS',\n     'SI',\n     'KR',\n     'BD',\n     'PK',\n     'LK',\n     'GH',\n     'KE',\n     'NG',\n     'TZ',\n     'UG',\n     'AG',\n     'AM',\n     'BS',\n     'BB',\n     'BZ',\n     'BT',\n     'BW',\n     'BF',\n     'CV',\n     'CW',\n     'DM',\n     'FJ',\n     'GM',\n     'GE',\n     'GD',\n     'GW',\n     'GY',\n     'HT',\n     'JM',\n     'KI',\n     'LS',\n     'LR',\n     'MW',\n     'MV',\n     'ML',\n     'MH',\n     'FM',\n     'NA',\n     'NR',\n     'NE',\n     'PW',\n     'PG',\n     'PR',\n     'WS',\n     'SM',\n     'ST',\n     'SN',\n     'SC',\n     'SL',\n     'SB',\n     'KN',\n     'LC',\n     'VC',\n     'SR',\n     'TL',\n     'TO',\n     'TT',\n     'TV',\n     'VU',\n     'AZ',\n     'BN',\n     'BI',\n     'KH',\n     'CM',\n     'TD',\n     'KM',\n     'GQ',\n     'SZ',\n     'GA',\n     'GN',\n     'KG',\n     'LA',\n     'MO',\n     'MR',\n     'MN',\n     'NP',\n     'RW',\n     'TG',\n     'UZ',\n     'ZW',\n     'BJ',\n     'MG',\n     'MU',\n     'MZ',\n     'AO',\n     'CI',\n     'DJ',\n     'ZM',\n     'CD',\n     'CG',\n     'IQ',\n     'LY',\n     'TJ',\n     'VE',\n     'ET',\n     'XK'],\n    'explicit': True,\n    'type': 'track',\n    'episode': False,\n    'track': True,\n    'album': {'available_markets': ['AR',\n      'AU',\n      'AT',\n      'BE',\n      'BO',\n      'BR',\n      'BG',\n      'CA',\n      'CL',\n      'CO',\n      'CR',\n      'CY',\n      'CZ',\n      'DK',\n      'DO',\n      'DE',\n      'EC',\n      'EE',\n      'SV',\n      'FI',\n      'FR',\n      'GR',\n      'GT',\n      'HN',\n      'HK',\n      'HU',\n      'IS',\n      'IE',\n      'IT',\n      'LV',\n      'LT',\n      'LU',\n      'MY',\n      'MT',\n      'MX',\n      'NL',\n      'NZ',\n      'NI',\n      'NO',\n      'PA',\n      'PY',\n      'PE',\n      'PH',\n      'PL',\n      'PT',\n      'SG',\n      'SK',\n      'ES',\n      'SE',\n      'CH',\n      'TW',\n      'TR',\n      'UY',\n      'US',\n      'GB',\n      'AD',\n      'LI',\n      'MC',\n      'ID',\n      'JP',\n      'TH',\n      'VN',\n      'RO',\n      'IL',\n      'ZA',\n      'SA',\n      'AE',\n      'BH',\n      'QA',\n      'OM',\n      'KW',\n      'EG',\n      'MA',\n      'DZ',\n      'TN',\n      'LB',\n      'JO',\n      'PS',\n      'IN',\n      'BY',\n      'KZ',\n      'MD',\n      'UA',\n      'AL',\n      'BA',\n      'HR',\n      'ME',\n      'MK',\n      'RS',\n      'SI',\n      'KR',\n      'BD',\n      'PK',\n      'LK',\n      'GH',\n      'KE',\n      'NG',\n      'TZ',\n      'UG',\n      'AG',\n      'AM',\n      'BS',\n      'BB',\n      'BZ',\n      'BT',\n      'BW',\n      'BF',\n      'CV',\n      'CW',\n      'DM',\n      'FJ',\n      'GM',\n      'GE',\n      'GD',\n      'GW',\n      'GY',\n      'HT',\n      'JM',\n      'KI',\n      'LS',\n      'LR',\n      'MW',\n      'MV',\n      'ML',\n      'MH',\n      'FM',\n      'NA',\n      'NR',\n      'NE',\n      'PW',\n      'PG',\n      'PR',\n      'WS',\n      'SM',\n      'ST',\n      'SN',\n      'SC',\n      'SL',\n      'SB',\n      'KN',\n      'LC',\n      'VC',\n      'SR',\n      'TL',\n      'TO',\n      'TT',\n      'TV',\n      'VU',\n      'AZ',\n      'BN',\n      'BI',\n      'KH',\n      'CM',\n      'TD',\n      'KM',\n      'GQ',\n      'SZ',\n      'GA',\n      'GN',\n      'KG',\n      'LA',\n      'MO',\n      'MR',\n      'MN',\n      'NP',\n      'RW',\n      'TG',\n      'UZ',\n      'ZW',\n      'BJ',\n      'MG',\n      'MU',\n      'MZ',\n      'AO',\n      'CI',\n      'DJ',\n      'ZM',\n      'CD',\n      'CG',\n      'IQ',\n      'LY',\n      'TJ',\n      'VE',\n      'ET',\n      'XK'],\n     'type': 'album',\n     'album_type': 'single',\n     'href': 'https://api.spotify.com/v1/albums/4s7LxMlh6RxgdMhldfMe8u',\n     'id': '4s7LxMlh6RxgdMhldfMe8u',\n     'images': [{'height': 640,\n       'url': 'https://i.scdn.co/image/ab67616d0000b27382b73e1b62eda395d6627542',\n       'width': 640},\n      {'height': 300,\n       'url': 'https://i.scdn.co/image/ab67616d00001e0282b73e1b62eda395d6627542',\n       'width': 300},\n      {'height': 64,\n       'url': 'https://i.scdn.co/image/ab67616d0000485182b73e1b62eda395d6627542',\n       'width': 64}],\n     'name': 'Funk de Beleza',\n     'release_date': '2024-10-04',\n     'release_date_precision': 'day',\n     'uri': 'spotify:album:4s7LxMlh6RxgdMhldfMe8u',\n     'artists': [{'external_urls': {'spotify': 'https://open.spotify.com/artist/3g0UoyvaTaHUrfpHiRqsD1'},\n       'href': 'https://api.spotify.com/v1/artists/3g0UoyvaTaHUrfpHiRqsD1',\n       'id': '3g0UoyvaTaHUrfpHiRqsD1',\n       'name': 'Nateki',\n       'type': 'artist',\n       'uri': 'spotify:artist:3g0UoyvaTaHUrfpHiRqsD1'},\n      {'external_urls': {'spotify': 'https://open.spotify.com/artist/5dDNNq04RjKXFOADdHd6VX'},\n       'href': 'https://api.spotify.com/v1/artists/5dDNNq04RjKXFOADdHd6VX',\n       'id': '5dDNNq04RjKXFOADdHd6VX',\n       'name': 'Scythermane',\n       'type': 'artist',\n       'uri': 'spotify:artist:5dDNNq04RjKXFOADdHd6VX'},\n      {'external_urls': {'spotify': 'https://open.spotify.com/artist/10mKIVPFtg42JIvttHQrzr'},\n       'href': 'https://api.spotify.com/v1/artists/10mKIVPFtg42JIvttHQrzr',\n       'id': '10mKIVPFtg42JIvttHQrzr',\n       'name': 'MC MAYAH',\n       'type': 'artist',\n       'uri': 'spotify:artist:10mKIVPFtg42JIvttHQrzr'}],\n     'external_urls': {'spotify': 'https://open.spotify.com/album/4s7LxMlh6RxgdMhldfMe8u'},\n     'total_tracks': 3},\n    'artists': [{'external_urls': {'spotify': 'https://open.spotify.com/artist/3g0UoyvaTaHUrfpHiRqsD1'},\n      'href': 'https://api.spotify.com/v1/artists/3g0UoyvaTaHUrfpHiRqsD1',\n      'id': '3g0UoyvaTaHUrfpHiRqsD1',\n      'name': 'Nateki',\n      'type': 'artist',\n      'uri': 'spotify:artist:3g0UoyvaTaHUrfpHiRqsD1'},\n     {'external_urls': {'spotify': 'https://open.spotify.com/artist/5dDNNq04RjKXFOADdHd6VX'},\n      'href': 'https://api.spotify.com/v1/artists/5dDNNq04RjKXFOADdHd6VX',\n      'id': '5dDNNq04RjKXFOADdHd6VX',\n      'name': 'Scythermane',\n      'type': 'artist',\n      'uri': 'spotify:artist:5dDNNq04RjKXFOADdHd6VX'},\n     {'external_urls': {'spotify': 'https://open.spotify.com/artist/10mKIVPFtg42JIvttHQrzr'},\n      'href': 'https://api.spotify.com/v1/artists/10mKIVPFtg42JIvttHQrzr',\n      'id': '10mKIVPFtg42JIvttHQrzr',\n      'name': 'MC MAYAH',\n      'type': 'artist',\n      'uri': 'spotify:artist:10mKIVPFtg42JIvttHQrzr'}],\n    'disc_number': 1,\n    'track_number': 2,\n    'duration_ms': 145115,\n    'external_ids': {'isrc': 'QMDA62460503'},\n    'external_urls': {'spotify': 'https://open.spotify.com/track/43jExF2HeZ6cJIGrWF0ie4'},\n    'href': 'https://api.spotify.com/v1/tracks/43jExF2HeZ6cJIGrWF0ie4',\n    'id': '43jExF2HeZ6cJIGrWF0ie4',\n    'name': 'Funk de Beleza - Slowed',\n    'popularity': 85,\n    'uri': 'spotify:track:43jExF2HeZ6cJIGrWF0ie4',\n    'is_local': False},\n   'video_thumbnail': {'url': None}},\n  {'added_at': '2025-04-10T07:43:26Z',\n   'added_by': {'external_urls': {'spotify': 'https://open.spotify.com/user/31rzz7jr6t3e3mqgitwppkmfg2ve'},\n    'href': 'https://api.spotify.com/v1/users/31rzz7jr6t3e3mqgitwppkmfg2ve',\n    'id': '31rzz7jr6t3e3mqgitwppkmfg2ve',\n    'type': 'user',\n    'uri': 'spotify:user:31rzz7jr6t3e3mqgitwppkmfg2ve'},\n   'is_local': False,\n   'primary_color': None,\n   'track': {'preview_url': None,\n    'available_markets': [],\n    'explicit': False,\n    'type': 'track',\n    'episode': False,\n    'track': True,\n    'album': {'available_markets': [],\n     'type': 'album',\n     'album_type': 'single',\n     'href': 'https://api.spotify.com/v1/albums/5D17Gk0J7jPXLvWMszqijF',\n     'id': '5D17Gk0J7jPXLvWMszqijF',\n     'images': [{'height': 640,\n       'url': 'https://i.scdn.co/image/ab67616d0000b2737341f6edbaeea29a38cbee2b',\n       'width': 640},\n      {'height': 300,\n       'url': 'https://i.scdn.co/image/ab67616d00001e027341f6edbaeea29a38cbee2b',\n       'width': 300},\n      {'height': 64,\n       'url': 'https://i.scdn.co/image/ab67616d000048517341f6edbaeea29a38cbee2b',\n       'width': 64}],\n     'name': 'MONTAGEM TOMADA',\n     'release_date': '2025-03-21',\n     'release_date_precision': 'day',\n     'uri': 'spotify:album:5D17Gk0J7jPXLvWMszqijF',\n     'artists': [{'external_urls': {'spotify': 'https://open.spotify.com/artist/7kk9ucvRJim0NMM89Lml2Y'},\n       'href': 'https://api.spotify.com/v1/artists/7kk9ucvRJim0NMM89Lml2Y',\n       'id': '7kk9ucvRJim0NMM89Lml2Y',\n       'name': 'MXZI',\n       'type': 'artist',\n       'uri': 'spotify:artist:7kk9ucvRJim0NMM89Lml2Y'}],\n     'external_urls': {'spotify': 'https://open.spotify.com/album/5D17Gk0J7jPXLvWMszqijF'},\n     'total_tracks': 4},\n    'artists': [{'external_urls': {'spotify': 'https://open.spotify.com/artist/7kk9ucvRJim0NMM89Lml2Y'},\n      'href': 'https://api.spotify.com/v1/artists/7kk9ucvRJim0NMM89Lml2Y',\n      'id': '7kk9ucvRJim0NMM89Lml2Y',\n      'name': 'MXZI',\n      'type': 'artist',\n      'uri': 'spotify:artist:7kk9ucvRJim0NMM89Lml2Y'}],\n    'disc_number': 1,\n    'track_number': 2,\n    'duration_ms': 84901,\n    'external_ids': {'isrc': 'GXD7G2509708'},\n    'external_urls': {'spotify': 'https://open.spotify.com/track/1mfvWzF39LwVpAm8g0LhQT'},\n    'href': 'https://api.spotify.com/v1/tracks/1mfvWzF39LwVpAm8g0LhQT',\n    'id': '1mfvWzF39LwVpAm8g0LhQT',\n    'name': 'MONTAGEM TOMADA - Slowed',\n    'popularity': 62,\n    'uri': 'spotify:track:1mfvWzF39LwVpAm8g0LhQT',\n    'is_local': False},\n   'video_thumbnail': {'url': None}},\n  {'added_at': '2025-03-07T07:52:21Z',\n   'added_by': {'external_urls': {'spotify': 'https://open.spotify.com/user/31rzz7jr6t3e3mqgitwppkmfg2ve'},\n    'href': 'https://api.spotify.com/v1/users/31rzz7jr6t3e3mqgitwppkmfg2ve',\n    'id': '31rzz7jr6t3e3mqgitwppkmfg2ve',\n    'type': 'user',\n    'uri': 'spotify:user:31rzz7jr6t3e3mqgitwppkmfg2ve'},\n   'is_local': False,\n   'primary_color': None,\n   'track': {'preview_url': None,\n    'available_markets': ['AR',\n     'AU',\n     'AT',\n     'BE',\n     'BO',\n     'BR',\n     'BG',\n     'CA',\n     'CL',\n     'CO',\n     'CR',\n     'CY',\n     'CZ',\n     'DK',\n     'DO',\n     'DE',\n     'EC',\n     'EE',\n     'SV',\n     'FI',\n     'FR',\n     'GR',\n     'GT',\n     'HN',\n     'HK',\n     'HU',\n     'IS',\n     'IE',\n     'IT',\n     'LV',\n     'LT',\n     'LU',\n     'MY',\n     'MT',\n     'MX',\n     'NL',\n     'NZ',\n     'NI',\n     'NO',\n     'PA',\n     'PY',\n     'PE',\n     'PH',\n     'PL',\n     'PT',\n     'SG',\n     'SK',\n     'ES',\n     'SE',\n     'CH',\n     'TW',\n     'TR',\n     'UY',\n     'US',\n     'GB',\n     'AD',\n     'LI',\n     'MC',\n     'ID',\n     'JP',\n     'TH',\n     'VN',\n     'RO',\n     'IL',\n     'ZA',\n     'SA',\n     'AE',\n     'BH',\n     'QA',\n     'OM',\n     'KW',\n     'EG',\n     'MA',\n     'DZ',\n     'TN',\n     'LB',\n     'JO',\n     'PS',\n     'IN',\n     'BY',\n     'KZ',\n     'MD',\n     'UA',\n     'AL',\n     'BA',\n     'HR',\n     'ME',\n     'MK',\n     'RS',\n     'SI',\n     'KR',\n     'BD',\n     'PK',\n     'LK',\n     'GH',\n     'KE',\n     'NG',\n     'TZ',\n     'UG',\n     'AG',\n     'AM',\n     'BS',\n     'BB',\n     'BZ',\n     'BT',\n     'BW',\n     'BF',\n     'CV',\n     'CW',\n     'DM',\n     'FJ',\n     'GM',\n     'GE',\n     'GD',\n     'GW',\n     'GY',\n     'HT',\n     'JM',\n     'KI',\n     'LS',\n     'LR',\n     'MW',\n     'MV',\n     'ML',\n     'MH',\n     'FM',\n     'NA',\n     'NR',\n     'NE',\n     'PW',\n     'PG',\n     'PR',\n     'WS',\n     'SM',\n     'ST',\n     'SN',\n     'SC',\n     'SL',\n     'SB',\n     'KN',\n     'LC',\n     'VC',\n     'SR',\n     'TL',\n     'TO',\n     'TT',\n     'TV',\n     'VU',\n     'AZ',\n     'BN',\n     'BI',\n     'KH',\n     'CM',\n     'TD',\n     'KM',\n     'GQ',\n     'SZ',\n     'GA',\n     'GN',\n     'KG',\n     'LA',\n     'MO',\n     'MR',\n     'MN',\n     'NP',\n     'RW',\n     'TG',\n     'UZ',\n     'ZW',\n     'BJ',\n     'MG',\n     'MU',\n     'MZ',\n     'AO',\n     'CI',\n     'DJ',\n     'ZM',\n     'CD',\n     'CG',\n     'IQ',\n     'LY',\n     'TJ',\n     'VE',\n     'ET',\n     'XK'],\n    'explicit': False,\n    'type': 'track',\n    'episode': False,\n    'track': True,\n    'album': {'available_markets': ['AR',\n      'AU',\n      'AT',\n      'BE',\n      'BO',\n      'BR',\n      'BG',\n      'CA',\n      'CL',\n      'CO',\n      'CR',\n      'CY',\n      'CZ',\n      'DK',\n      'DO',\n      'DE',\n      'EC',\n      'EE',\n      'SV',\n      'FI',\n      'FR',\n      'GR',\n      'GT',\n      'HN',\n      'HK',\n      'HU',\n      'IS',\n      'IE',\n      'IT',\n      'LV',\n      'LT',\n      'LU',\n      'MY',\n      'MT',\n      'MX',\n      'NL',\n      'NZ',\n      'NI',\n      'NO',\n      'PA',\n      'PY',\n      'PE',\n      'PH',\n      'PL',\n      'PT',\n      'SG',\n      'SK',\n      'ES',\n      'SE',\n      'CH',\n      'TW',\n      'TR',\n      'UY',\n      'US',\n      'GB',\n      'AD',\n      'LI',\n      'MC',\n      'ID',\n      'JP',\n      'TH',\n      'VN',\n      'RO',\n      'IL',\n      'ZA',\n      'SA',\n      'AE',\n      'BH',\n      'QA',\n      'OM',\n      'KW',\n      'EG',\n      'MA',\n      'DZ',\n      'TN',\n      'LB',\n      'JO',\n      'PS',\n      'IN',\n      'BY',\n      'KZ',\n      'MD',\n      'UA',\n      'AL',\n      'BA',\n      'HR',\n      'ME',\n      'MK',\n      'RS',\n      'SI',\n      'KR',\n      'BD',\n      'PK',\n      'LK',\n      'GH',\n      'KE',\n      'NG',\n      'TZ',\n      'UG',\n      'AG',\n      'AM',\n      'BS',\n      'BB',\n      'BZ',\n      'BT',\n      'BW',\n      'BF',\n      'CV',\n      'CW',\n      'DM',\n      'FJ',\n      'GM',\n      'GE',\n      'GD',\n      'GW',\n      'GY',\n      'HT',\n      'JM',\n      'KI',\n      'LS',\n      'LR',\n      'MW',\n      'MV',\n      'ML',\n      'MH',\n      'FM',\n      'NA',\n      'NR',\n      'NE',\n      'PW',\n      'PG',\n      'PR',\n      'WS',\n      'SM',\n      'ST',\n      'SN',\n      'SC',\n      'SL',\n      'SB',\n      'KN',\n      'LC',\n      'VC',\n      'SR',\n      'TL',\n      'TO',\n      'TT',\n      'TV',\n      'VU',\n      'AZ',\n      'BN',\n      'BI',\n      'KH',\n      'CM',\n      'TD',\n      'KM',\n      'GQ',\n      'SZ',\n      'GA',\n      'GN',\n      'KG',\n      'LA',\n      'MO',\n      'MR',\n      'MN',\n      'NP',\n      'RW',\n      'TG',\n      'UZ',\n      'ZW',\n      'BJ',\n      'MG',\n      'MU',\n      'MZ',\n      'AO',\n      'CI',\n      'DJ',\n      'ZM',\n      'CD',\n      'CG',\n      'IQ',\n      'LY',\n      'TJ',\n      'VE',\n      'ET',\n      'XK'],\n     'type': 'album',\n     'album_type': 'single',\n     'href': 'https://api.spotify.com/v1/albums/6dNugoBYWvUDQDtLurImhw',\n     'id': '6dNugoBYWvUDQDtLurImhw',\n     'images': [{'height': 640,\n       'url': 'https://i.scdn.co/image/ab67616d0000b273000c430c0934b17bbe218e1b',\n       'width': 640},\n      {'height': 300,\n       'url': 'https://i.scdn.co/image/ab67616d00001e02000c430c0934b17bbe218e1b',\n       'width': 300},\n      {'height': 64,\n       'url': 'https://i.scdn.co/image/ab67616d00004851000c430c0934b17bbe218e1b',\n       'width': 64}],\n     'name': 'X-TALI',\n     'release_date': '2024-08-23',\n     'release_date_precision': 'day',\n     'uri': 'spotify:album:6dNugoBYWvUDQDtLurImhw',\n     'artists': [{'external_urls': {'spotify': 'https://open.spotify.com/artist/7qIgmxSjoXEeifSVDh8nIt'},\n       'href': 'https://api.spotify.com/v1/artists/7qIgmxSjoXEeifSVDh8nIt',\n       'id': '7qIgmxSjoXEeifSVDh8nIt',\n       'name': 'MXCCREE',\n       'type': 'artist',\n       'uri': 'spotify:artist:7qIgmxSjoXEeifSVDh8nIt'},\n      {'external_urls': {'spotify': 'https://open.spotify.com/artist/1dX1zejt24Ojiu0lX4T1ZM'},\n       'href': 'https://api.spotify.com/v1/artists/1dX1zejt24Ojiu0lX4T1ZM',\n       'id': '1dX1zejt24Ojiu0lX4T1ZM',\n       'name': 'DJ GL3CHEKY',\n       'type': 'artist',\n       'uri': 'spotify:artist:1dX1zejt24Ojiu0lX4T1ZM'},\n      {'external_urls': {'spotify': 'https://open.spotify.com/artist\n\n*** WARNING: max output size exceeded, skipping output. ***\n\nge/ab67616d000048519c89916016a225674490025b',\n       'width': 64}],\n     'name': 'MONTAGEM BAILÃO',\n     'release_date': '2025-04-04',\n     'release_date_precision': 'day',\n     'uri': 'spotify:album:2VW8krMRkhGJmdlcHbyTfZ',\n     'artists': [{'external_urls': {'spotify': 'https://open.spotify.com/artist/0jrirfCZkRU3iA2sH9JEko'},\n       'href': 'https://api.spotify.com/v1/artists/0jrirfCZkRU3iA2sH9JEko',\n       'id': '0jrirfCZkRU3iA2sH9JEko',\n       'name': 'Repsaj',\n       'type': 'artist',\n       'uri': 'spotify:artist:0jrirfCZkRU3iA2sH9JEko'},\n      {'external_urls': {'spotify': 'https://open.spotify.com/artist/5SCDfg1YoEfI5gFtXqEWah'},\n       'href': 'https://api.spotify.com/v1/artists/5SCDfg1YoEfI5gFtXqEWah',\n       'id': '5SCDfg1YoEfI5gFtXqEWah',\n       'name': 'ATLXS',\n       'type': 'artist',\n       'uri': 'spotify:artist:5SCDfg1YoEfI5gFtXqEWah'},\n      {'external_urls': {'spotify': 'https://open.spotify.com/artist/34giN3qeTOdgDSJIdtIMdm'},\n       'href': 'https://api.spotify.com/v1/artists/34giN3qeTOdgDSJIdtIMdm',\n       'id': '34giN3qeTOdgDSJIdtIMdm',\n       'name': 'Mc Jhey',\n       'type': 'artist',\n       'uri': 'spotify:artist:34giN3qeTOdgDSJIdtIMdm'}],\n     'external_urls': {'spotify': 'https://open.spotify.com/album/2VW8krMRkhGJmdlcHbyTfZ'},\n     'total_tracks': 5},\n    'artists': [{'external_urls': {'spotify': 'https://open.spotify.com/artist/0jrirfCZkRU3iA2sH9JEko'},\n      'href': 'https://api.spotify.com/v1/artists/0jrirfCZkRU3iA2sH9JEko',\n      'id': '0jrirfCZkRU3iA2sH9JEko',\n      'name': 'Repsaj',\n      'type': 'artist',\n      'uri': 'spotify:artist:0jrirfCZkRU3iA2sH9JEko'},\n     {'external_urls': {'spotify': 'https://open.spotify.com/artist/5SCDfg1YoEfI5gFtXqEWah'},\n      'href': 'https://api.spotify.com/v1/artists/5SCDfg1YoEfI5gFtXqEWah',\n      'id': '5SCDfg1YoEfI5gFtXqEWah',\n      'name': 'ATLXS',\n      'type': 'artist',\n      'uri': 'spotify:artist:5SCDfg1YoEfI5gFtXqEWah'},\n     {'external_urls': {'spotify': 'https://open.spotify.com/artist/34giN3qeTOdgDSJIdtIMdm'},\n      'href': 'https://api.spotify.com/v1/artists/34giN3qeTOdgDSJIdtIMdm',\n      'id': '34giN3qeTOdgDSJIdtIMdm',\n      'name': 'Mc Jhey',\n      'type': 'artist',\n      'uri': 'spotify:artist:34giN3qeTOdgDSJIdtIMdm'}],\n    'disc_number': 1,\n    'track_number': 1,\n    'duration_ms': 103727,\n    'external_ids': {'isrc': 'QM6N22544636'},\n    'external_urls': {'spotify': 'https://open.spotify.com/track/1RnPdd7EKKhKN3E4o4DRsh'},\n    'href': 'https://api.spotify.com/v1/tracks/1RnPdd7EKKhKN3E4o4DRsh',\n    'id': '1RnPdd7EKKhKN3E4o4DRsh',\n    'name': 'MONTAGEM BAILÃO',\n    'popularity': 89,\n    'uri': 'spotify:track:1RnPdd7EKKhKN3E4o4DRsh',\n    'is_local': False},\n   'video_thumbnail': {'url': None}},\n  {'added_at': '2025-06-08T08:33:21Z',\n   'added_by': {'external_urls': {'spotify': 'https://open.spotify.com/user/31rzz7jr6t3e3mqgitwppkmfg2ve'},\n    'href': 'https://api.spotify.com/v1/users/31rzz7jr6t3e3mqgitwppkmfg2ve',\n    'id': '31rzz7jr6t3e3mqgitwppkmfg2ve',\n    'type': 'user',\n    'uri': 'spotify:user:31rzz7jr6t3e3mqgitwppkmfg2ve'},\n   'is_local': False,\n   'primary_color': None,\n   'track': {'preview_url': None,\n    'available_markets': ['AR',\n     'AU',\n     'AT',\n     'BE',\n     'BO',\n     'BR',\n     'BG',\n     'CA',\n     'CL',\n     'CO',\n     'CR',\n     'CY',\n     'CZ',\n     'DK',\n     'DO',\n     'DE',\n     'EC',\n     'EE',\n     'SV',\n     'FI',\n     'FR',\n     'GR',\n     'GT',\n     'HN',\n     'HK',\n     'HU',\n     'IS',\n     'IE',\n     'IT',\n     'LV',\n     'LT',\n     'LU',\n     'MY',\n     'MT',\n     'MX',\n     'NL',\n     'NZ',\n     'NI',\n     'NO',\n     'PA',\n     'PY',\n     'PE',\n     'PH',\n     'PL',\n     'PT',\n     'SG',\n     'SK',\n     'ES',\n     'SE',\n     'CH',\n     'TW',\n     'TR',\n     'UY',\n     'US',\n     'GB',\n     'AD',\n     'LI',\n     'MC',\n     'ID',\n     'JP',\n     'TH',\n     'VN',\n     'RO',\n     'IL',\n     'ZA',\n     'SA',\n     'AE',\n     'BH',\n     'QA',\n     'OM',\n     'KW',\n     'EG',\n     'MA',\n     'DZ',\n     'TN',\n     'LB',\n     'JO',\n     'PS',\n     'IN',\n     'BY',\n     'KZ',\n     'MD',\n     'UA',\n     'AL',\n     'BA',\n     'HR',\n     'ME',\n     'MK',\n     'RS',\n     'SI',\n     'KR',\n     'BD',\n     'PK',\n     'LK',\n     'GH',\n     'KE',\n     'NG',\n     'TZ',\n     'UG',\n     'AG',\n     'AM',\n     'BS',\n     'BB',\n     'BZ',\n     'BT',\n     'BW',\n     'BF',\n     'CV',\n     'CW',\n     'DM',\n     'FJ',\n     'GM',\n     'GE',\n     'GD',\n     'GW',\n     'GY',\n     'HT',\n     'JM',\n     'KI',\n     'LS',\n     'LR',\n     'MW',\n     'MV',\n     'ML',\n     'MH',\n     'FM',\n     'NA',\n     'NR',\n     'NE',\n     'PW',\n     'PG',\n     'PR',\n     'WS',\n     'SM',\n     'ST',\n     'SN',\n     'SC',\n     'SL',\n     'SB',\n     'KN',\n     'LC',\n     'VC',\n     'SR',\n     'TL',\n     'TO',\n     'TT',\n     'TV',\n     'VU',\n     'AZ',\n     'BN',\n     'BI',\n     'KH',\n     'CM',\n     'TD',\n     'KM',\n     'GQ',\n     'SZ',\n     'GA',\n     'GN',\n     'KG',\n     'LA',\n     'MO',\n     'MR',\n     'MN',\n     'NP',\n     'RW',\n     'TG',\n     'UZ',\n     'ZW',\n     'BJ',\n     'MG',\n     'MU',\n     'MZ',\n     'AO',\n     'CI',\n     'DJ',\n     'ZM',\n     'CD',\n     'CG',\n     'IQ',\n     'LY',\n     'TJ',\n     'VE',\n     'ET',\n     'XK'],\n    'explicit': False,\n    'type': 'track',\n    'episode': False,\n    'track': True,\n    'album': {'available_markets': ['AR',\n      'AU',\n      'AT',\n      'BE',\n      'BO',\n      'BR',\n      'BG',\n      'CA',\n      'CL',\n      'CO',\n      'CR',\n      'CY',\n      'CZ',\n      'DK',\n      'DO',\n      'DE',\n      'EC',\n      'EE',\n      'SV',\n      'FI',\n      'FR',\n      'GR',\n      'GT',\n      'HN',\n      'HK',\n      'HU',\n      'IS',\n      'IE',\n      'IT',\n      'LV',\n      'LT',\n      'LU',\n      'MY',\n      'MT',\n      'MX',\n      'NL',\n      'NZ',\n      'NI',\n      'NO',\n      'PA',\n      'PY',\n      'PE',\n      'PH',\n      'PL',\n      'PT',\n      'SG',\n      'SK',\n      'ES',\n      'SE',\n      'CH',\n      'TW',\n      'TR',\n      'UY',\n      'US',\n      'GB',\n      'AD',\n      'LI',\n      'MC',\n      'ID',\n      'JP',\n      'TH',\n      'VN',\n      'RO',\n      'IL',\n      'ZA',\n      'SA',\n      'AE',\n      'BH',\n      'QA',\n      'OM',\n      'KW',\n      'EG',\n      'MA',\n      'DZ',\n      'TN',\n      'LB',\n      'JO',\n      'PS',\n      'IN',\n      'BY',\n      'KZ',\n      'MD',\n      'UA',\n      'AL',\n      'BA',\n      'HR',\n      'ME',\n      'MK',\n      'RS',\n      'SI',\n      'KR',\n      'BD',\n      'PK',\n      'LK',\n      'GH',\n      'KE',\n      'NG',\n      'TZ',\n      'UG',\n      'AG',\n      'AM',\n      'BS',\n      'BB',\n      'BZ',\n      'BT',\n      'BW',\n      'BF',\n      'CV',\n      'CW',\n      'DM',\n      'FJ',\n      'GM',\n      'GE',\n      'GD',\n      'GW',\n      'GY',\n      'HT',\n      'JM',\n      'KI',\n      'LS',\n      'LR',\n      'MW',\n      'MV',\n      'ML',\n      'MH',\n      'FM',\n      'NA',\n      'NR',\n      'NE',\n      'PW',\n      'PG',\n      'PR',\n      'WS',\n      'SM',\n      'ST',\n      'SN',\n      'SC',\n      'SL',\n      'SB',\n      'KN',\n      'LC',\n      'VC',\n      'SR',\n      'TL',\n      'TO',\n      'TT',\n      'TV',\n      'VU',\n      'AZ',\n      'BN',\n      'BI',\n      'KH',\n      'CM',\n      'TD',\n      'KM',\n      'GQ',\n      'SZ',\n      'GA',\n      'GN',\n      'KG',\n      'LA',\n      'MO',\n      'MR',\n      'MN',\n      'NP',\n      'RW',\n      'TG',\n      'UZ',\n      'ZW',\n      'BJ',\n      'MG',\n      'MU',\n      'MZ',\n      'AO',\n      'CI',\n      'DJ',\n      'ZM',\n      'CD',\n      'CG',\n      'IQ',\n      'LY',\n      'TJ',\n      'VE',\n      'ET',\n      'XK'],\n     'type': 'album',\n     'album_type': 'single',\n     'href': 'https://api.spotify.com/v1/albums/1l8if9zQ8F0MEHVWYrMREe',\n     'id': '1l8if9zQ8F0MEHVWYrMREe',\n     'images': [{'height': 640,\n       'url': 'https://i.scdn.co/image/ab67616d0000b273427c80da235cb76fc89b8e27',\n       'width': 640},\n      {'height': 300,\n       'url': 'https://i.scdn.co/image/ab67616d00001e02427c80da235cb76fc89b8e27',\n       'width': 300},\n      {'height': 64,\n       'url': 'https://i.scdn.co/image/ab67616d00004851427c80da235cb76fc89b8e27',\n       'width': 64}],\n     'name': 'Montagem Mysterious Game',\n     'release_date': '2023-12-01',\n     'release_date_precision': 'day',\n     'uri': 'spotify:album:1l8if9zQ8F0MEHVWYrMREe',\n     'artists': [{'external_urls': {'spotify': 'https://open.spotify.com/artist/5IpS1TN1Crp8Ym4zjiIrtK'},\n       'href': 'https://api.spotify.com/v1/artists/5IpS1TN1Crp8Ym4zjiIrtK',\n       'id': '5IpS1TN1Crp8Ym4zjiIrtK',\n       'name': 'LXNGVX',\n       'type': 'artist',\n       'uri': 'spotify:artist:5IpS1TN1Crp8Ym4zjiIrtK'}],\n     'external_urls': {'spotify': 'https://open.spotify.com/album/1l8if9zQ8F0MEHVWYrMREe'},\n     'total_tracks': 3},\n    'artists': [{'external_urls': {'spotify': 'https://open.spotify.com/artist/5IpS1TN1Crp8Ym4zjiIrtK'},\n      'href': 'https://api.spotify.com/v1/artists/5IpS1TN1Crp8Ym4zjiIrtK',\n      'id': '5IpS1TN1Crp8Ym4zjiIrtK',\n      'name': 'LXNGVX',\n      'type': 'artist',\n      'uri': 'spotify:artist:5IpS1TN1Crp8Ym4zjiIrtK'}],\n    'disc_number': 1,\n    'track_number': 1,\n    'duration_ms': 103495,\n    'external_ids': {'isrc': 'QZTBF2315869'},\n    'external_urls': {'spotify': 'https://open.spotify.com/track/7vOmSP2647oNUGGEhWd1cr'},\n    'href': 'https://api.spotify.com/v1/tracks/7vOmSP2647oNUGGEhWd1cr',\n    'id': '7vOmSP2647oNUGGEhWd1cr',\n    'name': 'Montagem Mysterious Game',\n    'popularity': 78,\n    'uri': 'spotify:track:7vOmSP2647oNUGGEhWd1cr',\n    'is_local': False},\n   'video_thumbnail': {'url': None}},\n  {'added_at': '2025-06-08T08:36:24Z',\n   'added_by': {'external_urls': {'spotify': 'https://open.spotify.com/user/31rzz7jr6t3e3mqgitwppkmfg2ve'},\n    'href': 'https://api.spotify.com/v1/users/31rzz7jr6t3e3mqgitwppkmfg2ve',\n    'id': '31rzz7jr6t3e3mqgitwppkmfg2ve',\n    'type': 'user',\n    'uri': 'spotify:user:31rzz7jr6t3e3mqgitwppkmfg2ve'},\n   'is_local': False,\n   'primary_color': None,\n   'track': {'preview_url': None,\n    'available_markets': ['AR',\n     'AU',\n     'AT',\n     'BE',\n     'BO',\n     'BR',\n     'BG',\n     'CA',\n     'CL',\n     'CO',\n     'CR',\n     'CY',\n     'CZ',\n     'DK',\n     'DO',\n     'DE',\n     'EC',\n     'EE',\n     'SV',\n     'FI',\n     'FR',\n     'GR',\n     'GT',\n     'HN',\n     'HK',\n     'HU',\n     'IS',\n     'IE',\n     'IT',\n     'LV',\n     'LT',\n     'LU',\n     'MY',\n     'MT',\n     'MX',\n     'NL',\n     'NZ',\n     'NI',\n     'NO',\n     'PA',\n     'PY',\n     'PE',\n     'PH',\n     'PL',\n     'PT',\n     'SG',\n     'SK',\n     'ES',\n     'SE',\n     'CH',\n     'TW',\n     'TR',\n     'UY',\n     'US',\n     'GB',\n     'AD',\n     'LI',\n     'MC',\n     'ID',\n     'JP',\n     'TH',\n     'VN',\n     'RO',\n     'IL',\n     'ZA',\n     'SA',\n     'AE',\n     'BH',\n     'QA',\n     'OM',\n     'KW',\n     'EG',\n     'MA',\n     'DZ',\n     'TN',\n     'LB',\n     'JO',\n     'PS',\n     'IN',\n     'BY',\n     'KZ',\n     'MD',\n     'UA',\n     'AL',\n     'BA',\n     'HR',\n     'ME',\n     'MK',\n     'RS',\n     'SI',\n     'KR',\n     'BD',\n     'PK',\n     'LK',\n     'GH',\n     'KE',\n     'NG',\n     'TZ',\n     'UG',\n     'AG',\n     'AM',\n     'BS',\n     'BB',\n     'BZ',\n     'BT',\n     'BW',\n     'BF',\n     'CV',\n     'CW',\n     'DM',\n     'FJ',\n     'GM',\n     'GE',\n     'GD',\n     'GW',\n     'GY',\n     'HT',\n     'JM',\n     'KI',\n     'LS',\n     'LR',\n     'MW',\n     'MV',\n     'ML',\n     'MH',\n     'FM',\n     'NA',\n     'NR',\n     'NE',\n     'PW',\n     'PG',\n     'PR',\n     'WS',\n     'SM',\n     'ST',\n     'SN',\n     'SC',\n     'SL',\n     'SB',\n     'KN',\n     'LC',\n     'VC',\n     'SR',\n     'TL',\n     'TO',\n     'TT',\n     'TV',\n     'VU',\n     'AZ',\n     'BN',\n     'BI',\n     'KH',\n     'CM',\n     'TD',\n     'KM',\n     'GQ',\n     'SZ',\n     'GA',\n     'GN',\n     'KG',\n     'LA',\n     'MO',\n     'MR',\n     'MN',\n     'NP',\n     'RW',\n     'TG',\n     'UZ',\n     'ZW',\n     'BJ',\n     'MG',\n     'MU',\n     'MZ',\n     'AO',\n     'CI',\n     'DJ',\n     'ZM',\n     'CD',\n     'CG',\n     'IQ',\n     'LY',\n     'TJ',\n     'VE',\n     'ET',\n     'XK'],\n    'explicit': True,\n    'type': 'track',\n    'episode': False,\n    'track': True,\n    'album': {'available_markets': ['AR',\n      'AU',\n      'AT',\n      'BE',\n      'BO',\n      'BR',\n      'BG',\n      'CA',\n      'CL',\n      'CO',\n      'CR',\n      'CY',\n      'CZ',\n      'DK',\n      'DO',\n      'DE',\n      'EC',\n      'EE',\n      'SV',\n      'FI',\n      'FR',\n      'GR',\n      'GT',\n      'HN',\n      'HK',\n      'HU',\n      'IS',\n      'IE',\n      'IT',\n      'LV',\n      'LT',\n      'LU',\n      'MY',\n      'MT',\n      'MX',\n      'NL',\n      'NZ',\n      'NI',\n      'NO',\n      'PA',\n      'PY',\n      'PE',\n      'PH',\n      'PL',\n      'PT',\n      'SG',\n      'SK',\n      'ES',\n      'SE',\n      'CH',\n      'TW',\n      'TR',\n      'UY',\n      'US',\n      'GB',\n      'AD',\n      'LI',\n      'MC',\n      'ID',\n      'JP',\n      'TH',\n      'VN',\n      'RO',\n      'IL',\n      'ZA',\n      'SA',\n      'AE',\n      'BH',\n      'QA',\n      'OM',\n      'KW',\n      'EG',\n      'MA',\n      'DZ',\n      'TN',\n      'LB',\n      'JO',\n      'PS',\n      'IN',\n      'BY',\n      'KZ',\n      'MD',\n      'UA',\n      'AL',\n      'BA',\n      'HR',\n      'ME',\n      'MK',\n      'RS',\n      'SI',\n      'KR',\n      'BD',\n      'PK',\n      'LK',\n      'GH',\n      'KE',\n      'NG',\n      'TZ',\n      'UG',\n      'AG',\n      'AM',\n      'BS',\n      'BB',\n      'BZ',\n      'BT',\n      'BW',\n      'BF',\n      'CV',\n      'CW',\n      'DM',\n      'FJ',\n      'GM',\n      'GE',\n      'GD',\n      'GW',\n      'GY',\n      'HT',\n      'JM',\n      'KI',\n      'LS',\n      'LR',\n      'MW',\n      'MV',\n      'ML',\n      'MH',\n      'FM',\n      'NA',\n      'NR',\n      'NE',\n      'PW',\n      'PG',\n      'PR',\n      'WS',\n      'SM',\n      'ST',\n      'SN',\n      'SC',\n      'SL',\n      'SB',\n      'KN',\n      'LC',\n      'VC',\n      'SR',\n      'TL',\n      'TO',\n      'TT',\n      'TV',\n      'VU',\n      'AZ',\n      'BN',\n      'BI',\n      'KH',\n      'CM',\n      'TD',\n      'KM',\n      'GQ',\n      'SZ',\n      'GA',\n      'GN',\n      'KG',\n      'LA',\n      'MO',\n      'MR',\n      'MN',\n      'NP',\n      'RW',\n      'TG',\n      'UZ',\n      'ZW',\n      'BJ',\n      'MG',\n      'MU',\n      'MZ',\n      'AO',\n      'CI',\n      'DJ',\n      'ZM',\n      'CD',\n      'CG',\n      'IQ',\n      'LY',\n      'TJ',\n      'VE',\n      'ET',\n      'XK'],\n     'type': 'album',\n     'album_type': 'single',\n     'href': 'https://api.spotify.com/v1/albums/6s28IiIJ7ElbJfTPn03D6Y',\n     'id': '6s28IiIJ7ElbJfTPn03D6Y',\n     'images': [{'height': 640,\n       'url': 'https://i.scdn.co/image/ab67616d0000b273000f7d682ef4e13557c202aa',\n       'width': 640},\n      {'height': 300,\n       'url': 'https://i.scdn.co/image/ab67616d00001e02000f7d682ef4e13557c202aa',\n       'width': 300},\n      {'height': 64,\n       'url': 'https://i.scdn.co/image/ab67616d00004851000f7d682ef4e13557c202aa',\n       'width': 64}],\n     'name': 'THOMAS',\n     'release_date': '2024-04-12',\n     'release_date_precision': 'day',\n     'uri': 'spotify:album:6s28IiIJ7ElbJfTPn03D6Y',\n     'artists': [{'external_urls': {'spotify': 'https://open.spotify.com/artist/33rnQWadiG2aauIwIxPxfB'},\n       'href': 'https://api.spotify.com/v1/artists/33rnQWadiG2aauIwIxPxfB',\n       'id': '33rnQWadiG2aauIwIxPxfB',\n       'name': 'ZWE1HVNDXR',\n       'type': 'artist',\n       'uri': 'spotify:artist:33rnQWadiG2aauIwIxPxfB'},\n      {'external_urls': {'spotify': 'https://open.spotify.com/artist/2APh66XEiqOiDt3bKhBWmn'},\n       'href': 'https://api.spotify.com/v1/artists/2APh66XEiqOiDt3bKhBWmn',\n       'id': '2APh66XEiqOiDt3bKhBWmn',\n       'name': 'NONTHENSE',\n       'type': 'artist',\n       'uri': 'spotify:artist:2APh66XEiqOiDt3bKhBWmn'},\n      {'external_urls': {'spotify': 'https://open.spotify.com/artist/7dUNKhz7HdxExteqcREGLi'},\n       'href': 'https://api.spotify.com/v1/artists/7dUNKhz7HdxExteqcREGLi',\n       'id': '7dUNKhz7HdxExteqcREGLi',\n       'name': 'Mc Denny',\n       'type': 'artist',\n       'uri': 'spotify:artist:7dUNKhz7HdxExteqcREGLi'}],\n     'external_urls': {'spotify': 'https://open.spotify.com/album/6s28IiIJ7ElbJfTPn03D6Y'},\n     'total_tracks': 1},\n    'artists': [{'external_urls': {'spotify': 'https://open.spotify.com/artist/33rnQWadiG2aauIwIxPxfB'},\n      'href': 'https://api.spotify.com/v1/artists/33rnQWadiG2aauIwIxPxfB',\n      'id': '33rnQWadiG2aauIwIxPxfB',\n      'name': 'ZWE1HVNDXR',\n      'type': 'artist',\n      'uri': 'spotify:artist:33rnQWadiG2aauIwIxPxfB'},\n     {'external_urls': {'spotify': 'https://open.spotify.com/artist/2APh66XEiqOiDt3bKhBWmn'},\n      'href': 'https://api.spotify.com/v1/artists/2APh66XEiqOiDt3bKhBWmn',\n      'id': '2APh66XEiqOiDt3bKhBWmn',\n      'name': 'NONTHENSE',\n      'type': 'artist',\n      'uri': 'spotify:artist:2APh66XEiqOiDt3bKhBWmn'},\n     {'external_urls': {'spotify': 'https://open.spotify.com/artist/7dUNKhz7HdxExteqcREGLi'},\n      'href': 'https://api.spotify.com/v1/artists/7dUNKhz7HdxExteqcREGLi',\n      'id': '7dUNKhz7HdxExteqcREGLi',\n      'name': 'Mc Denny',\n      'type': 'artist',\n      'uri': 'spotify:artist:7dUNKhz7HdxExteqcREGLi'}],\n    'disc_number': 1,\n    'track_number': 1,\n    'duration_ms': 90603,\n    'external_ids': {'isrc': 'QM6MZ2422626'},\n    'external_urls': {'spotify': 'https://open.spotify.com/track/3cjg55upztjI5bIsBQqSN1'},\n    'href': 'https://api.spotify.com/v1/tracks/3cjg55upztjI5bIsBQqSN1',\n    'id': '3cjg55upztjI5bIsBQqSN1',\n    'name': 'THOMAS',\n    'popularity': 68,\n    'uri': 'spotify:track:3cjg55upztjI5bIsBQqSN1',\n    'is_local': False},\n   'video_thumbnail': {'url': None}},\n  {'added_at': '2025-07-04T12:50:36Z',\n   'added_by': {'external_urls': {'spotify': 'https://open.spotify.com/user/31rzz7jr6t3e3mqgitwppkmfg2ve'},\n    'href': 'https://api.spotify.com/v1/users/31rzz7jr6t3e3mqgitwppkmfg2ve',\n    'id': '31rzz7jr6t3e3mqgitwppkmfg2ve',\n    'type': 'user',\n    'uri': 'spotify:user:31rzz7jr6t3e3mqgitwppkmfg2ve'},\n   'is_local': False,\n   'primary_color': None,\n   'track': {'preview_url': None,\n    'available_markets': ['AR',\n     'AU',\n     'AT',\n     'BE',\n     'BO',\n     'BR',\n     'BG',\n     'CA',\n     'CL',\n     'CO',\n     'CR',\n     'CY',\n     'CZ',\n     'DK',\n     'DO',\n     'DE',\n     'EC',\n     'EE',\n     'SV',\n     'FI',\n     'FR',\n     'GR',\n     'GT',\n     'HN',\n     'HK',\n     'HU',\n     'IS',\n     'IE',\n     'IT',\n     'LV',\n     'LT',\n     'LU',\n     'MY',\n     'MT',\n     'MX',\n     'NL',\n     'NZ',\n     'NI',\n     'NO',\n     'PA',\n     'PY',\n     'PE',\n     'PH',\n     'PL',\n     'PT',\n     'SG',\n     'SK',\n     'ES',\n     'SE',\n     'CH',\n     'TW',\n     'TR',\n     'UY',\n     'US',\n     'GB',\n     'AD',\n     'LI',\n     'MC',\n     'ID',\n     'JP',\n     'TH',\n     'VN',\n     'RO',\n     'IL',\n     'ZA',\n     'SA',\n     'AE',\n     'BH',\n     'QA',\n     'OM',\n     'KW',\n     'EG',\n     'MA',\n     'DZ',\n     'TN',\n     'LB',\n     'JO',\n     'PS',\n     'IN',\n     'BY',\n     'KZ',\n     'MD',\n     'UA',\n     'AL',\n     'BA',\n     'HR',\n     'ME',\n     'MK',\n     'RS',\n     'SI',\n     'KR',\n     'BD',\n     'PK',\n     'LK',\n     'GH',\n     'KE',\n     'NG',\n     'TZ',\n     'UG',\n     'AG',\n     'AM',\n     'BS',\n     'BB',\n     'BZ',\n     'BT',\n     'BW',\n     'BF',\n     'CV',\n     'CW',\n     'DM',\n     'FJ',\n     'GM',\n     'GE',\n     'GD',\n     'GW',\n     'GY',\n     'HT',\n     'JM',\n     'KI',\n     'LS',\n     'LR',\n     'MW',\n     'MV',\n     'ML',\n     'MH',\n     'FM',\n     'NA',\n     'NR',\n     'NE',\n     'PW',\n     'PG',\n     'PR',\n     'WS',\n     'SM',\n     'ST',\n     'SN',\n     'SC',\n     'SL',\n     'SB',\n     'KN',\n     'LC',\n     'VC',\n     'SR',\n     'TL',\n     'TO',\n     'TT',\n     'TV',\n     'VU',\n     'AZ',\n     'BN',\n     'BI',\n     'KH',\n     'CM',\n     'TD',\n     'KM',\n     'GQ',\n     'SZ',\n     'GA',\n     'GN',\n     'KG',\n     'LA',\n     'MO',\n     'MR',\n     'MN',\n     'NP',\n     'RW',\n     'TG',\n     'UZ',\n     'ZW',\n     'BJ',\n     'MG',\n     'MU',\n     'MZ',\n     'AO',\n     'CI',\n     'DJ',\n     'ZM',\n     'CD',\n     'CG',\n     'IQ',\n     'LY',\n     'TJ',\n     'VE',\n     'ET',\n     'XK'],\n    'explicit': False,\n    'type': 'track',\n    'episode': False,\n    'track': True,\n    'album': {'available_markets': ['AR',\n      'AU',\n      'AT',\n      'BE',\n      'BO',\n      'BR',\n      'BG',\n      'CA',\n      'CL',\n      'CO',\n      'CR',\n      'CY',\n      'CZ',\n      'DK',\n      'DO',\n      'DE',\n      'EC',\n      'EE',\n      'SV',\n      'FI',\n      'FR',\n      'GR',\n      'GT',\n      'HN',\n      'HK',\n      'HU',\n      'IS',\n      'IE',\n      'IT',\n      'LV',\n      'LT',\n      'LU',\n      'MY',\n      'MT',\n      'MX',\n      'NL',\n      'NZ',\n      'NI',\n      'NO',\n      'PA',\n      'PY',\n      'PE',\n      'PH',\n      'PL',\n      'PT',\n      'SG',\n      'SK',\n      'ES',\n      'SE',\n      'CH',\n      'TW',\n      'TR',\n      'UY',\n      'US',\n      'GB',\n      'AD',\n      'LI',\n      'MC',\n      'ID',\n      'JP',\n      'TH',\n      'VN',\n      'RO',\n      'IL',\n      'ZA',\n      'SA',\n      'AE',\n      'BH',\n      'QA',\n      'OM',\n      'KW',\n      'EG',\n      'MA',\n      'DZ',\n      'TN',\n      'LB',\n      'JO',\n      'PS',\n      'IN',\n      'BY',\n      'KZ',\n      'MD',\n      'UA',\n      'AL',\n      'BA',\n      'HR',\n      'ME',\n      'MK',\n      'RS',\n      'SI',\n      'KR',\n      'BD',\n      'PK',\n      'LK',\n      'GH',\n      'KE',\n      'NG',\n      'TZ',\n      'UG',\n      'AG',\n      'AM',\n      'BS',\n      'BB',\n      'BZ',\n      'BT',\n      'BW',\n      'BF',\n      'CV',\n      'CW',\n      'DM',\n      'FJ',\n      'GM',\n      'GE',\n      'GD',\n      'GW',\n      'GY',\n      'HT',\n      'JM',\n      'KI',\n      'LS',\n      'LR',\n      'MW',\n      'MV',\n      'ML',\n      'MH',\n      'FM',\n      'NA',\n      'NR',\n      'NE',\n      'PW',\n      'PG',\n      'PR',\n      'WS',\n      'SM',\n      'ST',\n      'SN',\n      'SC',\n      'SL',\n      'SB',\n      'KN',\n      'LC',\n      'VC',\n      'SR',\n      'TL',\n      'TO',\n      'TT',\n      'TV',\n      'VU',\n      'AZ',\n      'BN',\n      'BI',\n      'KH',\n      'CM',\n      'TD',\n      'KM',\n      'GQ',\n      'SZ',\n      'GA',\n      'GN',\n      'KG',\n      'LA',\n      'MO',\n      'MR',\n      'MN',\n      'NP',\n      'RW',\n      'TG',\n      'UZ',\n      'ZW',\n      'BJ',\n      'MG',\n      'MU',\n      'MZ',\n      'AO',\n      'CI',\n      'DJ',\n      'ZM',\n      'CD',\n      'CG',\n      'IQ',\n      'LY',\n      'TJ',\n      'VE',\n      'ET',\n      'XK'],\n     'type': 'album',\n     'album_type': 'single',\n     'href': 'https://api.spotify.com/v1/albums/4F2WvpcBhSzlbn3WIITz2B',\n     'id': '4F2WvpcBhSzlbn3WIITz2B',\n     'images': [{'height': 640,\n       'url': 'https://i.scdn.co/image/ab67616d0000b27352ee7cdba039596030ee8ab2',\n       'width': 640},\n      {'height': 300,\n       'url': 'https://i.scdn.co/image/ab67616d00001e0252ee7cdba039596030ee8ab2',\n       'width': 300},\n      {'height': 64,\n       'url': 'https://i.scdn.co/image/ab67616d0000485152ee7cdba039596030ee8ab2',\n       'width': 64}],\n     'name': 'MAZKO',\n     'release_date': '2024-10-25',\n     'release_date_precision': 'day',\n     'uri': 'spotify:album:4F2WvpcBhSzlbn3WIITz2B',\n     'artists': [{'external_urls': {'spotify': 'https://open.spotify.com/artist/0oV5Z0bl2CEOKxeN8FZHi7'},\n       'href': 'https://api.spotify.com/v1/artists/0oV5Z0bl2CEOKxeN8FZHi7',\n       'id': '0oV5Z0bl2CEOKxeN8FZHi7',\n       'name': 'S4nri0',\n       'type': 'artist',\n       'uri': 'spotify:artist:0oV5Z0bl2CEOKxeN8FZHi7'},\n      {'external_urls': {'spotify': 'https://open.spotify.com/artist/4fVQieL685dgYwFDrcYxsz'},\n       'href': 'https://api.spotify.com/v1/artists/4fVQieL685dgYwFDrcYxsz',\n       'id': '4fVQieL685dgYwFDrcYxsz',\n       'name': 'MC LyC4N',\n       'type': 'artist',\n       'uri': 'spotify:artist:4fVQieL685dgYwFDrcYxsz'}],\n     'external_urls': {'spotify': 'https://open.spotify.com/album/4F2WvpcBhSzlbn3WIITz2B'},\n     'total_tracks': 3},\n    'artists': [{'external_urls': {'spotify': 'https://open.spotify.com/artist/0oV5Z0bl2CEOKxeN8FZHi7'},\n      'href': 'https://api.spotify.com/v1/artists/0oV5Z0bl2CEOKxeN8FZHi7',\n      'id': '0oV5Z0bl2CEOKxeN8FZHi7',\n      'name': 'S4nri0',\n      'type': 'artist',\n      'uri': 'spotify:artist:0oV5Z0bl2CEOKxeN8FZHi7'},\n     {'external_urls': {'spotify': 'https://open.spotify.com/artist/4fVQieL685dgYwFDrcYxsz'},\n      'href': 'https://api.spotify.com/v1/artists/4fVQieL685dgYwFDrcYxsz',\n      'id': '4fVQieL685dgYwFDrcYxsz',\n      'name': 'MC LyC4N',\n      'type': 'artist',\n      'uri': 'spotify:artist:4fVQieL685dgYwFDrcYxsz'}],\n    'disc_number': 1,\n    'track_number': 1,\n    'duration_ms': 75692,\n    'external_ids': {'isrc': 'CA5KR2499395'},\n    'external_urls': {'spotify': 'https://open.spotify.com/track/7xsDWgQfb3szawKuUZyk5N'},\n    'href': 'https://api.spotify.com/v1/tracks/7xsDWgQfb3szawKuUZyk5N',\n    'id': '7xsDWgQfb3szawKuUZyk5N',\n    'name': 'MAZKO',\n    'popularity': 79,\n    'uri': 'spotify:track:7xsDWgQfb3szawKuUZyk5N',\n    'is_local': False},\n   'video_thumbnail': {'url': None}}],\n 'limit': 100,\n 'next': None,\n 'offset': 0,\n 'previous': None,\n 'total': 69}"
     ]
    }
   ],
   "source": [
    "data #under items we have different song , album & artist information , so looping through items would be over main task"
   ]
  },
  {
   "cell_type": "code",
   "execution_count": 0,
   "metadata": {
    "application/vnd.databricks.v1+cell": {
     "cellMetadata": {
      "byteLimit": 2048000,
      "rowLimit": 10000
     },
     "inputWidgets": {},
     "nuid": "c08e24e2-b0a1-4267-bb9a-5a0479328e04",
     "showTitle": false,
     "tableResultSettingsMap": {},
     "title": ""
    }
   },
   "outputs": [
    {
     "output_type": "stream",
     "name": "stdout",
     "output_type": "stream",
     "text": [
      "Out[11]: [{'added_at': '2025-03-07T07:49:17Z',\n  'added_by': {'external_urls': {'spotify': 'https://open.spotify.com/user/31rzz7jr6t3e3mqgitwppkmfg2ve'},\n   'href': 'https://api.spotify.com/v1/users/31rzz7jr6t3e3mqgitwppkmfg2ve',\n   'id': '31rzz7jr6t3e3mqgitwppkmfg2ve',\n   'type': 'user',\n   'uri': 'spotify:user:31rzz7jr6t3e3mqgitwppkmfg2ve'},\n  'is_local': False,\n  'primary_color': None,\n  'track': {'preview_url': None,\n   'available_markets': ['AR',\n    'AU',\n    'AT',\n    'BE',\n    'BO',\n    'BR',\n    'BG',\n    'CA',\n    'CL',\n    'CO',\n    'CR',\n    'CY',\n    'CZ',\n    'DK',\n    'DO',\n    'DE',\n    'EC',\n    'EE',\n    'SV',\n    'FI',\n    'FR',\n    'GR',\n    'GT',\n    'HN',\n    'HK',\n    'HU',\n    'IS',\n    'IE',\n    'IT',\n    'LV',\n    'LT',\n    'LU',\n    'MY',\n    'MT',\n    'MX',\n    'NL',\n    'NZ',\n    'NI',\n    'NO',\n    'PA',\n    'PY',\n    'PE',\n    'PH',\n    'PL',\n    'PT',\n    'SG',\n    'SK',\n    'ES',\n    'SE',\n    'CH',\n    'TW',\n    'TR',\n    'UY',\n    'US',\n    'GB',\n    'AD',\n    'LI',\n    'MC',\n    'ID',\n    'JP',\n    'TH',\n    'VN',\n    'RO',\n    'IL',\n    'ZA',\n    'SA',\n    'AE',\n    'BH',\n    'QA',\n    'OM',\n    'KW',\n    'EG',\n    'MA',\n    'DZ',\n    'TN',\n    'LB',\n    'JO',\n    'PS',\n    'IN',\n    'BY',\n    'KZ',\n    'MD',\n    'UA',\n    'AL',\n    'BA',\n    'HR',\n    'ME',\n    'MK',\n    'RS',\n    'SI',\n    'KR',\n    'BD',\n    'PK',\n    'LK',\n    'GH',\n    'KE',\n    'NG',\n    'TZ',\n    'UG',\n    'AG',\n    'AM',\n    'BS',\n    'BB',\n    'BZ',\n    'BT',\n    'BW',\n    'BF',\n    'CV',\n    'CW',\n    'DM',\n    'FJ',\n    'GM',\n    'GE',\n    'GD',\n    'GW',\n    'GY',\n    'HT',\n    'JM',\n    'KI',\n    'LS',\n    'LR',\n    'MW',\n    'MV',\n    'ML',\n    'MH',\n    'FM',\n    'NA',\n    'NR',\n    'NE',\n    'PW',\n    'PG',\n    'PR',\n    'WS',\n    'SM',\n    'ST',\n    'SN',\n    'SC',\n    'SL',\n    'SB',\n    'KN',\n    'LC',\n    'VC',\n    'SR',\n    'TL',\n    'TO',\n    'TT',\n    'TV',\n    'VU',\n    'AZ',\n    'BN',\n    'BI',\n    'KH',\n    'CM',\n    'TD',\n    'KM',\n    'GQ',\n    'SZ',\n    'GA',\n    'GN',\n    'KG',\n    'LA',\n    'MO',\n    'MR',\n    'MN',\n    'NP',\n    'RW',\n    'TG',\n    'UZ',\n    'ZW',\n    'BJ',\n    'MG',\n    'MU',\n    'MZ',\n    'AO',\n    'CI',\n    'DJ',\n    'ZM',\n    'CD',\n    'CG',\n    'IQ',\n    'LY',\n    'TJ',\n    'VE',\n    'ET',\n    'XK'],\n   'explicit': False,\n   'type': 'track',\n   'episode': False,\n   'track': True,\n   'album': {'available_markets': ['AR',\n     'AU',\n     'AT',\n     'BE',\n     'BO',\n     'BR',\n     'BG',\n     'CA',\n     'CL',\n     'CO',\n     'CR',\n     'CY',\n     'CZ',\n     'DK',\n     'DO',\n     'DE',\n     'EC',\n     'EE',\n     'SV',\n     'FI',\n     'FR',\n     'GR',\n     'GT',\n     'HN',\n     'HK',\n     'HU',\n     'IS',\n     'IE',\n     'IT',\n     'LV',\n     'LT',\n     'LU',\n     'MY',\n     'MT',\n     'MX',\n     'NL',\n     'NZ',\n     'NI',\n     'NO',\n     'PA',\n     'PY',\n     'PE',\n     'PH',\n     'PL',\n     'PT',\n     'SG',\n     'SK',\n     'ES',\n     'SE',\n     'CH',\n     'TW',\n     'TR',\n     'UY',\n     'US',\n     'GB',\n     'AD',\n     'LI',\n     'MC',\n     'ID',\n     'JP',\n     'TH',\n     'VN',\n     'RO',\n     'IL',\n     'ZA',\n     'SA',\n     'AE',\n     'BH',\n     'QA',\n     'OM',\n     'KW',\n     'EG',\n     'MA',\n     'DZ',\n     'TN',\n     'LB',\n     'JO',\n     'PS',\n     'IN',\n     'BY',\n     'KZ',\n     'MD',\n     'UA',\n     'AL',\n     'BA',\n     'HR',\n     'ME',\n     'MK',\n     'RS',\n     'SI',\n     'KR',\n     'BD',\n     'PK',\n     'LK',\n     'GH',\n     'KE',\n     'NG',\n     'TZ',\n     'UG',\n     'AG',\n     'AM',\n     'BS',\n     'BB',\n     'BZ',\n     'BT',\n     'BW',\n     'BF',\n     'CV',\n     'CW',\n     'DM',\n     'FJ',\n     'GM',\n     'GE',\n     'GD',\n     'GW',\n     'GY',\n     'HT',\n     'JM',\n     'KI',\n     'LS',\n     'LR',\n     'MW',\n     'MV',\n     'ML',\n     'MH',\n     'FM',\n     'NA',\n     'NR',\n     'NE',\n     'PW',\n     'PG',\n     'PR',\n     'WS',\n     'SM',\n     'ST',\n     'SN',\n     'SC',\n     'SL',\n     'SB',\n     'KN',\n     'LC',\n     'VC',\n     'SR',\n     'TL',\n     'TO',\n     'TT',\n     'TV',\n     'VU',\n     'AZ',\n     'BN',\n     'BI',\n     'KH',\n     'CM',\n     'TD',\n     'KM',\n     'GQ',\n     'SZ',\n     'GA',\n     'GN',\n     'KG',\n     'LA',\n     'MO',\n     'MR',\n     'MN',\n     'NP',\n     'RW',\n     'TG',\n     'UZ',\n     'ZW',\n     'BJ',\n     'MG',\n     'MU',\n     'MZ',\n     'AO',\n     'CI',\n     'DJ',\n     'ZM',\n     'CD',\n     'CG',\n     'IQ',\n     'LY',\n     'TJ',\n     'VE',\n     'ET',\n     'XK'],\n    'type': 'album',\n    'album_type': 'single',\n    'href': 'https://api.spotify.com/v1/albums/6xUYw5goKIoyJQi9C27UBy',\n    'id': '6xUYw5goKIoyJQi9C27UBy',\n    'images': [{'height': 640,\n      'url': 'https://i.scdn.co/image/ab67616d0000b273becceb2d3f6a694db50fcedf',\n      'width': 640},\n     {'height': 300,\n      'url': 'https://i.scdn.co/image/ab67616d00001e02becceb2d3f6a694db50fcedf',\n      'width': 300},\n     {'height': 64,\n      'url': 'https://i.scdn.co/image/ab67616d00004851becceb2d3f6a694db50fcedf',\n      'width': 64}],\n    'name': 'NUNCA MUDA?',\n    'release_date': '2025-01-09',\n    'release_date_precision': 'day',\n    'uri': 'spotify:album:6xUYw5goKIoyJQi9C27UBy',\n    'artists': [{'external_urls': {'spotify': 'https://open.spotify.com/artist/5dDNNq04RjKXFOADdHd6VX'},\n      'href': 'https://api.spotify.com/v1/artists/5dDNNq04RjKXFOADdHd6VX',\n      'id': '5dDNNq04RjKXFOADdHd6VX',\n      'name': 'Scythermane',\n      'type': 'artist',\n      'uri': 'spotify:artist:5dDNNq04RjKXFOADdHd6VX'},\n     {'external_urls': {'spotify': 'https://open.spotify.com/artist/7lAaAGxYxk2GH8cMbTEwAL'},\n      'href': 'https://api.spotify.com/v1/artists/7lAaAGxYxk2GH8cMbTEwAL',\n      'id': '7lAaAGxYxk2GH8cMbTEwAL',\n      'name': 'NXGHT!',\n      'type': 'artist',\n      'uri': 'spotify:artist:7lAaAGxYxk2GH8cMbTEwAL'},\n     {'external_urls': {'spotify': 'https://open.spotify.com/artist/14hsjenLEdvafsGkk2CEiF'},\n      'href': 'https://api.spotify.com/v1/artists/14hsjenLEdvafsGkk2CEiF',\n      'id': '14hsjenLEdvafsGkk2CEiF',\n      'name': 'MC Fabinho da Osk',\n      'type': 'artist',\n      'uri': 'spotify:artist:14hsjenLEdvafsGkk2CEiF'}],\n    'external_urls': {'spotify': 'https://open.spotify.com/album/6xUYw5goKIoyJQi9C27UBy'},\n    'total_tracks': 6},\n   'artists': [{'external_urls': {'spotify': 'https://open.spotify.com/artist/5dDNNq04RjKXFOADdHd6VX'},\n     'href': 'https://api.spotify.com/v1/artists/5dDNNq04RjKXFOADdHd6VX',\n     'id': '5dDNNq04RjKXFOADdHd6VX',\n     'name': 'Scythermane',\n     'type': 'artist',\n     'uri': 'spotify:artist:5dDNNq04RjKXFOADdHd6VX'},\n    {'external_urls': {'spotify': 'https://open.spotify.com/artist/7lAaAGxYxk2GH8cMbTEwAL'},\n     'href': 'https://api.spotify.com/v1/artists/7lAaAGxYxk2GH8cMbTEwAL',\n     'id': '7lAaAGxYxk2GH8cMbTEwAL',\n     'name': 'NXGHT!',\n     'type': 'artist',\n     'uri': 'spotify:artist:7lAaAGxYxk2GH8cMbTEwAL'},\n    {'external_urls': {'spotify': 'https://open.spotify.com/artist/14hsjenLEdvafsGkk2CEiF'},\n     'href': 'https://api.spotify.com/v1/artists/14hsjenLEdvafsGkk2CEiF',\n     'id': '14hsjenLEdvafsGkk2CEiF',\n     'name': 'MC Fabinho da Osk',\n     'type': 'artist',\n     'uri': 'spotify:artist:14hsjenLEdvafsGkk2CEiF'}],\n   'disc_number': 1,\n   'track_number': 1,\n   'duration_ms': 81500,\n   'external_ids': {'isrc': 'SGW502245352'},\n   'external_urls': {'spotify': 'https://open.spotify.com/track/5EIjpM1B1VsLoKvv2iwd0P'},\n   'href': 'https://api.spotify.com/v1/tracks/5EIjpM1B1VsLoKvv2iwd0P',\n   'id': '5EIjpM1B1VsLoKvv2iwd0P',\n   'name': 'NUNCA MUDA?',\n   'popularity': 86,\n   'uri': 'spotify:track:5EIjpM1B1VsLoKvv2iwd0P',\n   'is_local': False},\n  'video_thumbnail': {'url': None}},\n {'added_at': '2025-03-07T07:49:21Z',\n  'added_by': {'external_urls': {'spotify': 'https://open.spotify.com/user/31rzz7jr6t3e3mqgitwppkmfg2ve'},\n   'href': 'https://api.spotify.com/v1/users/31rzz7jr6t3e3mqgitwppkmfg2ve',\n   'id': '31rzz7jr6t3e3mqgitwppkmfg2ve',\n   'type': 'user',\n   'uri': 'spotify:user:31rzz7jr6t3e3mqgitwppkmfg2ve'},\n  'is_local': False,\n  'primary_color': None,\n  'track': {'preview_url': None,\n   'available_markets': ['AR',\n    'AU',\n    'AT',\n    'BE',\n    'BO',\n    'BR',\n    'BG',\n    'CA',\n    'CL',\n    'CO',\n    'CR',\n    'CY',\n    'CZ',\n    'DK',\n    'DO',\n    'DE',\n    'EC',\n    'EE',\n    'SV',\n    'FI',\n    'FR',\n    'GR',\n    'GT',\n    'HN',\n    'HK',\n    'HU',\n    'IS',\n    'IE',\n    'IT',\n    'LV',\n    'LT',\n    'LU',\n    'MY',\n    'MT',\n    'MX',\n    'NL',\n    'NZ',\n    'NI',\n    'NO',\n    'PA',\n    'PY',\n    'PE',\n    'PH',\n    'PL',\n    'PT',\n    'SG',\n    'SK',\n    'ES',\n    'SE',\n    'CH',\n    'TW',\n    'TR',\n    'UY',\n    'US',\n    'GB',\n    'AD',\n    'LI',\n    'MC',\n    'ID',\n    'JP',\n    'TH',\n    'VN',\n    'RO',\n    'IL',\n    'ZA',\n    'SA',\n    'AE',\n    'BH',\n    'QA',\n    'OM',\n    'KW',\n    'EG',\n    'MA',\n    'DZ',\n    'TN',\n    'LB',\n    'JO',\n    'PS',\n    'IN',\n    'BY',\n    'KZ',\n    'MD',\n    'UA',\n    'AL',\n    'BA',\n    'HR',\n    'ME',\n    'MK',\n    'RS',\n    'SI',\n    'KR',\n    'BD',\n    'PK',\n    'LK',\n    'GH',\n    'KE',\n    'NG',\n    'TZ',\n    'UG',\n    'AG',\n    'AM',\n    'BS',\n    'BB',\n    'BZ',\n    'BT',\n    'BW',\n    'BF',\n    'CV',\n    'CW',\n    'DM',\n    'FJ',\n    'GM',\n    'GE',\n    'GD',\n    'GW',\n    'GY',\n    'HT',\n    'JM',\n    'KI',\n    'LS',\n    'LR',\n    'MW',\n    'MV',\n    'ML',\n    'MH',\n    'FM',\n    'NA',\n    'NR',\n    'NE',\n    'PW',\n    'PG',\n    'PR',\n    'WS',\n    'SM',\n    'ST',\n    'SN',\n    'SC',\n    'SL',\n    'SB',\n    'KN',\n    'LC',\n    'VC',\n    'SR',\n    'TL',\n    'TO',\n    'TT',\n    'TV',\n    'VU',\n    'AZ',\n    'BN',\n    'BI',\n    'KH',\n    'CM',\n    'TD',\n    'KM',\n    'GQ',\n    'SZ',\n    'GA',\n    'GN',\n    'KG',\n    'LA',\n    'MO',\n    'MR',\n    'MN',\n    'NP',\n    'RW',\n    'TG',\n    'UZ',\n    'ZW',\n    'BJ',\n    'MG',\n    'MU',\n    'MZ',\n    'AO',\n    'CI',\n    'DJ',\n    'ZM',\n    'CD',\n    'CG',\n    'IQ',\n    'LY',\n    'TJ',\n    'VE',\n    'ET',\n    'XK'],\n   'explicit': True,\n   'type': 'track',\n   'episode': False,\n   'track': True,\n   'album': {'available_markets': ['AR',\n     'AU',\n     'AT',\n     'BE',\n     'BO',\n     'BR',\n     'BG',\n     'CA',\n     'CL',\n     'CO',\n     'CR',\n     'CY',\n     'CZ',\n     'DK',\n     'DO',\n     'DE',\n     'EC',\n     'EE',\n     'SV',\n     'FI',\n     'FR',\n     'GR',\n     'GT',\n     'HN',\n     'HK',\n     'HU',\n     'IS',\n     'IE',\n     'IT',\n     'LV',\n     'LT',\n     'LU',\n     'MY',\n     'MT',\n     'MX',\n     'NL',\n     'NZ',\n     'NI',\n     'NO',\n     'PA',\n     'PY',\n     'PE',\n     'PH',\n     'PL',\n     'PT',\n     'SG',\n     'SK',\n     'ES',\n     'SE',\n     'CH',\n     'TW',\n     'TR',\n     'UY',\n     'US',\n     'GB',\n     'AD',\n     'LI',\n     'MC',\n     'ID',\n     'JP',\n     'TH',\n     'VN',\n     'RO',\n     'IL',\n     'ZA',\n     'SA',\n     'AE',\n     'BH',\n     'QA',\n     'OM',\n     'KW',\n     'EG',\n     'MA',\n     'DZ',\n     'TN',\n     'LB',\n     'JO',\n     'PS',\n     'IN',\n     'BY',\n     'KZ',\n     'MD',\n     'UA',\n     'AL',\n     'BA',\n     'HR',\n     'ME',\n     'MK',\n     'RS',\n     'SI',\n     'KR',\n     'BD',\n     'PK',\n     'LK',\n     'GH',\n     'KE',\n     'NG',\n     'TZ',\n     'UG',\n     'AG',\n     'AM',\n     'BS',\n     'BB',\n     'BZ',\n     'BT',\n     'BW',\n     'BF',\n     'CV',\n     'CW',\n     'DM',\n     'FJ',\n     'GM',\n     'GE',\n     'GD',\n     'GW',\n     'GY',\n     'HT',\n     'JM',\n     'KI',\n     'LS',\n     'LR',\n     'MW',\n     'MV',\n     'ML',\n     'MH',\n     'FM',\n     'NA',\n     'NR',\n     'NE',\n     'PW',\n     'PG',\n     'PR',\n     'WS',\n     'SM',\n     'ST',\n     'SN',\n     'SC',\n     'SL',\n     'SB',\n     'KN',\n     'LC',\n     'VC',\n     'SR',\n     'TL',\n     'TO',\n     'TT',\n     'TV',\n     'VU',\n     'AZ',\n     'BN',\n     'BI',\n     'KH',\n     'CM',\n     'TD',\n     'KM',\n     'GQ',\n     'SZ',\n     'GA',\n     'GN',\n     'KG',\n     'LA',\n     'MO',\n     'MR',\n     'MN',\n     'NP',\n     'RW',\n     'TG',\n     'UZ',\n     'ZW',\n     'BJ',\n     'MG',\n     'MU',\n     'MZ',\n     'AO',\n     'CI',\n     'DJ',\n     'ZM',\n     'CD',\n     'CG',\n     'IQ',\n     'LY',\n     'TJ',\n     'VE',\n     'ET',\n     'XK'],\n    'type': 'album',\n    'album_type': 'single',\n    'href': 'https://api.spotify.com/v1/albums/4s7LxMlh6RxgdMhldfMe8u',\n    'id': '4s7LxMlh6RxgdMhldfMe8u',\n    'images': [{'height': 640,\n      'url': 'https://i.scdn.co/image/ab67616d0000b27382b73e1b62eda395d6627542',\n      'width': 640},\n     {'height': 300,\n      'url': 'https://i.scdn.co/image/ab67616d00001e0282b73e1b62eda395d6627542',\n      'width': 300},\n     {'height': 64,\n      'url': 'https://i.scdn.co/image/ab67616d0000485182b73e1b62eda395d6627542',\n      'width': 64}],\n    'name': 'Funk de Beleza',\n    'release_date': '2024-10-04',\n    'release_date_precision': 'day',\n    'uri': 'spotify:album:4s7LxMlh6RxgdMhldfMe8u',\n    'artists': [{'external_urls': {'spotify': 'https://open.spotify.com/artist/3g0UoyvaTaHUrfpHiRqsD1'},\n      'href': 'https://api.spotify.com/v1/artists/3g0UoyvaTaHUrfpHiRqsD1',\n      'id': '3g0UoyvaTaHUrfpHiRqsD1',\n      'name': 'Nateki',\n      'type': 'artist',\n      'uri': 'spotify:artist:3g0UoyvaTaHUrfpHiRqsD1'},\n     {'external_urls': {'spotify': 'https://open.spotify.com/artist/5dDNNq04RjKXFOADdHd6VX'},\n      'href': 'https://api.spotify.com/v1/artists/5dDNNq04RjKXFOADdHd6VX',\n      'id': '5dDNNq04RjKXFOADdHd6VX',\n      'name': 'Scythermane',\n      'type': 'artist',\n      'uri': 'spotify:artist:5dDNNq04RjKXFOADdHd6VX'},\n     {'external_urls': {'spotify': 'https://open.spotify.com/artist/10mKIVPFtg42JIvttHQrzr'},\n      'href': 'https://api.spotify.com/v1/artists/10mKIVPFtg42JIvttHQrzr',\n      'id': '10mKIVPFtg42JIvttHQrzr',\n      'name': 'MC MAYAH',\n      'type': 'artist',\n      'uri': 'spotify:artist:10mKIVPFtg42JIvttHQrzr'}],\n    'external_urls': {'spotify': 'https://open.spotify.com/album/4s7LxMlh6RxgdMhldfMe8u'},\n    'total_tracks': 3},\n   'artists': [{'external_urls': {'spotify': 'https://open.spotify.com/artist/3g0UoyvaTaHUrfpHiRqsD1'},\n     'href': 'https://api.spotify.com/v1/artists/3g0UoyvaTaHUrfpHiRqsD1',\n     'id': '3g0UoyvaTaHUrfpHiRqsD1',\n     'name': 'Nateki',\n     'type': 'artist',\n     'uri': 'spotify:artist:3g0UoyvaTaHUrfpHiRqsD1'},\n    {'external_urls': {'spotify': 'https://open.spotify.com/artist/5dDNNq04RjKXFOADdHd6VX'},\n     'href': 'https://api.spotify.com/v1/artists/5dDNNq04RjKXFOADdHd6VX',\n     'id': '5dDNNq04RjKXFOADdHd6VX',\n     'name': 'Scythermane',\n     'type': 'artist',\n     'uri': 'spotify:artist:5dDNNq04RjKXFOADdHd6VX'},\n    {'external_urls': {'spotify': 'https://open.spotify.com/artist/10mKIVPFtg42JIvttHQrzr'},\n     'href': 'https://api.spotify.com/v1/artists/10mKIVPFtg42JIvttHQrzr',\n     'id': '10mKIVPFtg42JIvttHQrzr',\n     'name': 'MC MAYAH',\n     'type': 'artist',\n     'uri': 'spotify:artist:10mKIVPFtg42JIvttHQrzr'}],\n   'disc_number': 1,\n   'track_number': 2,\n   'duration_ms': 145115,\n   'external_ids': {'isrc': 'QMDA62460503'},\n   'external_urls': {'spotify': 'https://open.spotify.com/track/43jExF2HeZ6cJIGrWF0ie4'},\n   'href': 'https://api.spotify.com/v1/tracks/43jExF2HeZ6cJIGrWF0ie4',\n   'id': '43jExF2HeZ6cJIGrWF0ie4',\n   'name': 'Funk de Beleza - Slowed',\n   'popularity': 85,\n   'uri': 'spotify:track:43jExF2HeZ6cJIGrWF0ie4',\n   'is_local': False},\n  'video_thumbnail': {'url': None}},\n {'added_at': '2025-04-10T07:43:26Z',\n  'added_by': {'external_urls': {'spotify': 'https://open.spotify.com/user/31rzz7jr6t3e3mqgitwppkmfg2ve'},\n   'href': 'https://api.spotify.com/v1/users/31rzz7jr6t3e3mqgitwppkmfg2ve',\n   'id': '31rzz7jr6t3e3mqgitwppkmfg2ve',\n   'type': 'user',\n   'uri': 'spotify:user:31rzz7jr6t3e3mqgitwppkmfg2ve'},\n  'is_local': False,\n  'primary_color': None,\n  'track': {'preview_url': None,\n   'available_markets': [],\n   'explicit': False,\n   'type': 'track',\n   'episode': False,\n   'track': True,\n   'album': {'available_markets': [],\n    'type': 'album',\n    'album_type': 'single',\n    'href': 'https://api.spotify.com/v1/albums/5D17Gk0J7jPXLvWMszqijF',\n    'id': '5D17Gk0J7jPXLvWMszqijF',\n    'images': [{'height': 640,\n      'url': 'https://i.scdn.co/image/ab67616d0000b2737341f6edbaeea29a38cbee2b',\n      'width': 640},\n     {'height': 300,\n      'url': 'https://i.scdn.co/image/ab67616d00001e027341f6edbaeea29a38cbee2b',\n      'width': 300},\n     {'height': 64,\n      'url': 'https://i.scdn.co/image/ab67616d000048517341f6edbaeea29a38cbee2b',\n      'width': 64}],\n    'name': 'MONTAGEM TOMADA',\n    'release_date': '2025-03-21',\n    'release_date_precision': 'day',\n    'uri': 'spotify:album:5D17Gk0J7jPXLvWMszqijF',\n    'artists': [{'external_urls': {'spotify': 'https://open.spotify.com/artist/7kk9ucvRJim0NMM89Lml2Y'},\n      'href': 'https://api.spotify.com/v1/artists/7kk9ucvRJim0NMM89Lml2Y',\n      'id': '7kk9ucvRJim0NMM89Lml2Y',\n      'name': 'MXZI',\n      'type': 'artist',\n      'uri': 'spotify:artist:7kk9ucvRJim0NMM89Lml2Y'}],\n    'external_urls': {'spotify': 'https://open.spotify.com/album/5D17Gk0J7jPXLvWMszqijF'},\n    'total_tracks': 4},\n   'artists': [{'external_urls': {'spotify': 'https://open.spotify.com/artist/7kk9ucvRJim0NMM89Lml2Y'},\n     'href': 'https://api.spotify.com/v1/artists/7kk9ucvRJim0NMM89Lml2Y',\n     'id': '7kk9ucvRJim0NMM89Lml2Y',\n     'name': 'MXZI',\n     'type': 'artist',\n     'uri': 'spotify:artist:7kk9ucvRJim0NMM89Lml2Y'}],\n   'disc_number': 1,\n   'track_number': 2,\n   'duration_ms': 84901,\n   'external_ids': {'isrc': 'GXD7G2509708'},\n   'external_urls': {'spotify': 'https://open.spotify.com/track/1mfvWzF39LwVpAm8g0LhQT'},\n   'href': 'https://api.spotify.com/v1/tracks/1mfvWzF39LwVpAm8g0LhQT',\n   'id': '1mfvWzF39LwVpAm8g0LhQT',\n   'name': 'MONTAGEM TOMADA - Slowed',\n   'popularity': 62,\n   'uri': 'spotify:track:1mfvWzF39LwVpAm8g0LhQT',\n   'is_local': False},\n  'video_thumbnail': {'url': None}},\n {'added_at': '2025-03-07T07:52:21Z',\n  'added_by': {'external_urls': {'spotify': 'https://open.spotify.com/user/31rzz7jr6t3e3mqgitwppkmfg2ve'},\n   'href': 'https://api.spotify.com/v1/users/31rzz7jr6t3e3mqgitwppkmfg2ve',\n   'id': '31rzz7jr6t3e3mqgitwppkmfg2ve',\n   'type': 'user',\n   'uri': 'spotify:user:31rzz7jr6t3e3mqgitwppkmfg2ve'},\n  'is_local': False,\n  'primary_color': None,\n  'track': {'preview_url': None,\n   'available_markets': ['AR',\n    'AU',\n    'AT',\n    'BE',\n    'BO',\n    'BR',\n    'BG',\n    'CA',\n    'CL',\n    'CO',\n    'CR',\n    'CY',\n    'CZ',\n    'DK',\n    'DO',\n    'DE',\n    'EC',\n    'EE',\n    'SV',\n    'FI',\n    'FR',\n    'GR',\n    'GT',\n    'HN',\n    'HK',\n    'HU',\n    'IS',\n    'IE',\n    'IT',\n    'LV',\n    'LT',\n    'LU',\n    'MY',\n    'MT',\n    'MX',\n    'NL',\n    'NZ',\n    'NI',\n    'NO',\n    'PA',\n    'PY',\n    'PE',\n    'PH',\n    'PL',\n    'PT',\n    'SG',\n    'SK',\n    'ES',\n    'SE',\n    'CH',\n    'TW',\n    'TR',\n    'UY',\n    'US',\n    'GB',\n    'AD',\n    'LI',\n    'MC',\n    'ID',\n    'JP',\n    'TH',\n    'VN',\n    'RO',\n    'IL',\n    'ZA',\n    'SA',\n    'AE',\n    'BH',\n    'QA',\n    'OM',\n    'KW',\n    'EG',\n    'MA',\n    'DZ',\n    'TN',\n    'LB',\n    'JO',\n    'PS',\n    'IN',\n    'BY',\n    'KZ',\n    'MD',\n    'UA',\n    'AL',\n    'BA',\n    'HR',\n    'ME',\n    'MK',\n    'RS',\n    'SI',\n    'KR',\n    'BD',\n    'PK',\n    'LK',\n    'GH',\n    'KE',\n    'NG',\n    'TZ',\n    'UG',\n    'AG',\n    'AM',\n    'BS',\n    'BB',\n    'BZ',\n    'BT',\n    'BW',\n    'BF',\n    'CV',\n    'CW',\n    'DM',\n    'FJ',\n    'GM',\n    'GE',\n    'GD',\n    'GW',\n    'GY',\n    'HT',\n    'JM',\n    'KI',\n    'LS',\n    'LR',\n    'MW',\n    'MV',\n    'ML',\n    'MH',\n    'FM',\n    'NA',\n    'NR',\n    'NE',\n    'PW',\n    'PG',\n    'PR',\n    'WS',\n    'SM',\n    'ST',\n    'SN',\n    'SC',\n    'SL',\n    'SB',\n    'KN',\n    'LC',\n    'VC',\n    'SR',\n    'TL',\n    'TO',\n    'TT',\n    'TV',\n    'VU',\n    'AZ',\n    'BN',\n    'BI',\n    'KH',\n    'CM',\n    'TD',\n    'KM',\n    'GQ',\n    'SZ',\n    'GA',\n    'GN',\n    'KG',\n    'LA',\n    'MO',\n    'MR',\n    'MN',\n    'NP',\n    'RW',\n    'TG',\n    'UZ',\n    'ZW',\n    'BJ',\n    'MG',\n    'MU',\n    'MZ',\n    'AO',\n    'CI',\n    'DJ',\n    'ZM',\n    'CD',\n    'CG',\n    'IQ',\n    'LY',\n    'TJ',\n    'VE',\n    'ET',\n    'XK'],\n   'explicit': False,\n   'type': 'track',\n   'episode': False,\n   'track': True,\n   'album': {'available_markets': ['AR',\n     'AU',\n     'AT',\n     'BE',\n     'BO',\n     'BR',\n     'BG',\n     'CA',\n     'CL',\n     'CO',\n     'CR',\n     'CY',\n     'CZ',\n     'DK',\n     'DO',\n     'DE',\n     'EC',\n     'EE',\n     'SV',\n     'FI',\n     'FR',\n     'GR',\n     'GT',\n     'HN',\n     'HK',\n     'HU',\n     'IS',\n     'IE',\n     'IT',\n     'LV',\n     'LT',\n     'LU',\n     'MY',\n     'MT',\n     'MX',\n     'NL',\n     'NZ',\n     'NI',\n     'NO',\n     'PA',\n     'PY',\n     'PE',\n     'PH',\n     'PL',\n     'PT',\n     'SG',\n     'SK',\n     'ES',\n     'SE',\n     'CH',\n     'TW',\n     'TR',\n     'UY',\n     'US',\n     'GB',\n     'AD',\n     'LI',\n     'MC',\n     'ID',\n     'JP',\n     'TH',\n     'VN',\n     'RO',\n     'IL',\n     'ZA',\n     'SA',\n     'AE',\n     'BH',\n     'QA',\n     'OM',\n     'KW',\n     'EG',\n     'MA',\n     'DZ',\n     'TN',\n     'LB',\n     'JO',\n     'PS',\n     'IN',\n     'BY',\n     'KZ',\n     'MD',\n     'UA',\n     'AL',\n     'BA',\n     'HR',\n     'ME',\n     'MK',\n     'RS',\n     'SI',\n     'KR',\n     'BD',\n     'PK',\n     'LK',\n     'GH',\n     'KE',\n     'NG',\n     'TZ',\n     'UG',\n     'AG',\n     'AM',\n     'BS',\n     'BB',\n     'BZ',\n     'BT',\n     'BW',\n     'BF',\n     'CV',\n     'CW',\n     'DM',\n     'FJ',\n     'GM',\n     'GE',\n     'GD',\n     'GW',\n     'GY',\n     'HT',\n     'JM',\n     'KI',\n     'LS',\n     'LR',\n     'MW',\n     'MV',\n     'ML',\n     'MH',\n     'FM',\n     'NA',\n     'NR',\n     'NE',\n     'PW',\n     'PG',\n     'PR',\n     'WS',\n     'SM',\n     'ST',\n     'SN',\n     'SC',\n     'SL',\n     'SB',\n     'KN',\n     'LC',\n     'VC',\n     'SR',\n     'TL',\n     'TO',\n     'TT',\n     'TV',\n     'VU',\n     'AZ',\n     'BN',\n     'BI',\n     'KH',\n     'CM',\n     'TD',\n     'KM',\n     'GQ',\n     'SZ',\n     'GA',\n     'GN',\n     'KG',\n     'LA',\n     'MO',\n     'MR',\n     'MN',\n     'NP',\n     'RW',\n     'TG',\n     'UZ',\n     'ZW',\n     'BJ',\n     'MG',\n     'MU',\n     'MZ',\n     'AO',\n     'CI',\n     'DJ',\n     'ZM',\n     'CD',\n     'CG',\n     'IQ',\n     'LY',\n     'TJ',\n     'VE',\n     'ET',\n     'XK'],\n    'type': 'album',\n    'album_type': 'single',\n    'href': 'https://api.spotify.com/v1/albums/6dNugoBYWvUDQDtLurImhw',\n    'id': '6dNugoBYWvUDQDtLurImhw',\n    'images': [{'height': 640,\n      'url': 'https://i.scdn.co/image/ab67616d0000b273000c430c0934b17bbe218e1b',\n      'width': 640},\n     {'height': 300,\n      'url': 'https://i.scdn.co/image/ab67616d00001e02000c430c0934b17bbe218e1b',\n      'width': 300},\n     {'height': 64,\n      'url': 'https://i.scdn.co/image/ab67616d00004851000c430c0934b17bbe218e1b',\n      'width': 64}],\n    'name': 'X-TALI',\n    'release_date': '2024-08-23',\n    'release_date_precision': 'day',\n    'uri': 'spotify:album:6dNugoBYWvUDQDtLurImhw',\n    'artists': [{'external_urls': {'spotify': 'https://open.spotify.com/artist/7qIgmxSjoXEeifSVDh8nIt'},\n      'href': 'https://api.spotify.com/v1/artists/7qIgmxSjoXEeifSVDh8nIt',\n      'id': '7qIgmxSjoXEeifSVDh8nIt',\n      'name': 'MXCCREE',\n      'type': 'artist',\n      'uri': 'spotify:artist:7qIgmxSjoXEeifSVDh8nIt'},\n     {'external_urls': {'spotify': 'https://open.spotify.com/artist/1dX1zejt24Ojiu0lX4T1ZM'},\n      'href': 'https://api.spotify.com/v1/artists/1dX1zejt24Ojiu0lX4T1ZM',\n      'id': '1dX1zejt24Ojiu0lX4T1ZM',\n      'name': 'DJ GL3CHEKY',\n      'type': 'artist',\n      'uri': 'spotify:artist:1dX1zejt24Ojiu0lX4T1ZM'},\n     {'external_urls': {'spotify': 'https://open.spotify.com/artist/0Vxqvpm9tpZcz6d4egDtjX'},\n      'href': 'https://api.spotify.com/v1/artists/0Vxqvpm9tpZcz6d4egDtjX',\n      'id': '0Vxqvpm9tpZcz6d4egDtjX',\n      'name': 'MC PR',\n      'type': 'artist',\n      'uri': 'spotify:artist:0Vxqvpm9tpZcz6d4egDtjX'}],\n    'external_urls': {'spotify': 'https://open.spotify.com/album/6dNugoBYWvUDQDtLurImhw'},\n    'total_tracks': 1},\n   'artists': [{'external_urls': {'spotify': 'https://open.spotify.com/artist/7qIgmxSjoXEeifSVDh8nIt'},\n     'href': 'https://api.spotify.com/v1/artists/7qIgmxSjoXEeifSVDh8nIt',\n     'id': '7qIgmxSjoXEeifSVDh8nIt',\n     'name': 'MXCCREE',\n     'type': 'artist',\n     'uri': 'spotify:artist:7qIgmxSjoXEeifSVDh8nIt'},\n    {'external_urls': {'spotify': 'https://open.spotify.com/artist/1dX1zejt24Ojiu0lX4T1ZM'},\n     'href': 'https://api.spotify.com/v1/artists/1dX1zejt24Ojiu0lX4T1ZM',\n     'id': '1dX1zejt24Ojiu0lX4T1ZM',\n     'name': 'DJ GL3CHEKY',\n     'type': 'artist',\n     'uri': 'spotify:artist:1dX1zejt24Ojiu0lX4T1ZM'},\n    {'external_urls': {'spotify': 'https://open.spotify.com/artist/0Vxqvpm9tpZcz6d4egDtjX'},\n     'href': 'https://api.spotify.com/v1/artists/0Vxqvpm9tpZcz6d4egDtjX',\n     'id': '0Vxqvpm9tpZcz6d4egDtjX',\n     'name': 'MC PR',\n     'type': 'artist',\n     'uri': 'spotify:artist:0Vxqvpm9tpZcz6d4egDtjX'}],\n   'disc_number': 1,\n   'track_number': 1,\n   'duration_ms': 72352,\n   'external_ids': {'isrc': 'GBKQU2479457'},\n   'external_urls': {'spotify': 'https://open.spotify.com/track/6yIkBXij6NSjmRGRpQupqO'},\n   'href': \n\n*** WARNING: max output size exceeded, skipping output. ***\n\n    'NG',\n     'TZ',\n     'UG',\n     'AG',\n     'AM',\n     'BS',\n     'BB',\n     'BZ',\n     'BT',\n     'BW',\n     'BF',\n     'CV',\n     'CW',\n     'DM',\n     'FJ',\n     'GM',\n     'GE',\n     'GD',\n     'GW',\n     'GY',\n     'HT',\n     'JM',\n     'KI',\n     'LS',\n     'LR',\n     'MW',\n     'MV',\n     'ML',\n     'MH',\n     'FM',\n     'NA',\n     'NR',\n     'NE',\n     'PW',\n     'PG',\n     'PR',\n     'WS',\n     'SM',\n     'ST',\n     'SN',\n     'SC',\n     'SL',\n     'SB',\n     'KN',\n     'LC',\n     'VC',\n     'SR',\n     'TL',\n     'TO',\n     'TT',\n     'TV',\n     'VU',\n     'AZ',\n     'BN',\n     'BI',\n     'KH',\n     'CM',\n     'TD',\n     'KM',\n     'GQ',\n     'SZ',\n     'GA',\n     'GN',\n     'KG',\n     'LA',\n     'MO',\n     'MR',\n     'MN',\n     'NP',\n     'RW',\n     'TG',\n     'UZ',\n     'ZW',\n     'BJ',\n     'MG',\n     'MU',\n     'MZ',\n     'AO',\n     'CI',\n     'DJ',\n     'ZM',\n     'CD',\n     'CG',\n     'IQ',\n     'LY',\n     'TJ',\n     'VE',\n     'ET',\n     'XK'],\n    'type': 'album',\n    'album_type': 'single',\n    'href': 'https://api.spotify.com/v1/albums/2VW8krMRkhGJmdlcHbyTfZ',\n    'id': '2VW8krMRkhGJmdlcHbyTfZ',\n    'images': [{'height': 640,\n      'url': 'https://i.scdn.co/image/ab67616d0000b2739c89916016a225674490025b',\n      'width': 640},\n     {'height': 300,\n      'url': 'https://i.scdn.co/image/ab67616d00001e029c89916016a225674490025b',\n      'width': 300},\n     {'height': 64,\n      'url': 'https://i.scdn.co/image/ab67616d000048519c89916016a225674490025b',\n      'width': 64}],\n    'name': 'MONTAGEM BAILÃO',\n    'release_date': '2025-04-04',\n    'release_date_precision': 'day',\n    'uri': 'spotify:album:2VW8krMRkhGJmdlcHbyTfZ',\n    'artists': [{'external_urls': {'spotify': 'https://open.spotify.com/artist/0jrirfCZkRU3iA2sH9JEko'},\n      'href': 'https://api.spotify.com/v1/artists/0jrirfCZkRU3iA2sH9JEko',\n      'id': '0jrirfCZkRU3iA2sH9JEko',\n      'name': 'Repsaj',\n      'type': 'artist',\n      'uri': 'spotify:artist:0jrirfCZkRU3iA2sH9JEko'},\n     {'external_urls': {'spotify': 'https://open.spotify.com/artist/5SCDfg1YoEfI5gFtXqEWah'},\n      'href': 'https://api.spotify.com/v1/artists/5SCDfg1YoEfI5gFtXqEWah',\n      'id': '5SCDfg1YoEfI5gFtXqEWah',\n      'name': 'ATLXS',\n      'type': 'artist',\n      'uri': 'spotify:artist:5SCDfg1YoEfI5gFtXqEWah'},\n     {'external_urls': {'spotify': 'https://open.spotify.com/artist/34giN3qeTOdgDSJIdtIMdm'},\n      'href': 'https://api.spotify.com/v1/artists/34giN3qeTOdgDSJIdtIMdm',\n      'id': '34giN3qeTOdgDSJIdtIMdm',\n      'name': 'Mc Jhey',\n      'type': 'artist',\n      'uri': 'spotify:artist:34giN3qeTOdgDSJIdtIMdm'}],\n    'external_urls': {'spotify': 'https://open.spotify.com/album/2VW8krMRkhGJmdlcHbyTfZ'},\n    'total_tracks': 5},\n   'artists': [{'external_urls': {'spotify': 'https://open.spotify.com/artist/0jrirfCZkRU3iA2sH9JEko'},\n     'href': 'https://api.spotify.com/v1/artists/0jrirfCZkRU3iA2sH9JEko',\n     'id': '0jrirfCZkRU3iA2sH9JEko',\n     'name': 'Repsaj',\n     'type': 'artist',\n     'uri': 'spotify:artist:0jrirfCZkRU3iA2sH9JEko'},\n    {'external_urls': {'spotify': 'https://open.spotify.com/artist/5SCDfg1YoEfI5gFtXqEWah'},\n     'href': 'https://api.spotify.com/v1/artists/5SCDfg1YoEfI5gFtXqEWah',\n     'id': '5SCDfg1YoEfI5gFtXqEWah',\n     'name': 'ATLXS',\n     'type': 'artist',\n     'uri': 'spotify:artist:5SCDfg1YoEfI5gFtXqEWah'},\n    {'external_urls': {'spotify': 'https://open.spotify.com/artist/34giN3qeTOdgDSJIdtIMdm'},\n     'href': 'https://api.spotify.com/v1/artists/34giN3qeTOdgDSJIdtIMdm',\n     'id': '34giN3qeTOdgDSJIdtIMdm',\n     'name': 'Mc Jhey',\n     'type': 'artist',\n     'uri': 'spotify:artist:34giN3qeTOdgDSJIdtIMdm'}],\n   'disc_number': 1,\n   'track_number': 1,\n   'duration_ms': 103727,\n   'external_ids': {'isrc': 'QM6N22544636'},\n   'external_urls': {'spotify': 'https://open.spotify.com/track/1RnPdd7EKKhKN3E4o4DRsh'},\n   'href': 'https://api.spotify.com/v1/tracks/1RnPdd7EKKhKN3E4o4DRsh',\n   'id': '1RnPdd7EKKhKN3E4o4DRsh',\n   'name': 'MONTAGEM BAILÃO',\n   'popularity': 89,\n   'uri': 'spotify:track:1RnPdd7EKKhKN3E4o4DRsh',\n   'is_local': False},\n  'video_thumbnail': {'url': None}},\n {'added_at': '2025-06-08T08:33:21Z',\n  'added_by': {'external_urls': {'spotify': 'https://open.spotify.com/user/31rzz7jr6t3e3mqgitwppkmfg2ve'},\n   'href': 'https://api.spotify.com/v1/users/31rzz7jr6t3e3mqgitwppkmfg2ve',\n   'id': '31rzz7jr6t3e3mqgitwppkmfg2ve',\n   'type': 'user',\n   'uri': 'spotify:user:31rzz7jr6t3e3mqgitwppkmfg2ve'},\n  'is_local': False,\n  'primary_color': None,\n  'track': {'preview_url': None,\n   'available_markets': ['AR',\n    'AU',\n    'AT',\n    'BE',\n    'BO',\n    'BR',\n    'BG',\n    'CA',\n    'CL',\n    'CO',\n    'CR',\n    'CY',\n    'CZ',\n    'DK',\n    'DO',\n    'DE',\n    'EC',\n    'EE',\n    'SV',\n    'FI',\n    'FR',\n    'GR',\n    'GT',\n    'HN',\n    'HK',\n    'HU',\n    'IS',\n    'IE',\n    'IT',\n    'LV',\n    'LT',\n    'LU',\n    'MY',\n    'MT',\n    'MX',\n    'NL',\n    'NZ',\n    'NI',\n    'NO',\n    'PA',\n    'PY',\n    'PE',\n    'PH',\n    'PL',\n    'PT',\n    'SG',\n    'SK',\n    'ES',\n    'SE',\n    'CH',\n    'TW',\n    'TR',\n    'UY',\n    'US',\n    'GB',\n    'AD',\n    'LI',\n    'MC',\n    'ID',\n    'JP',\n    'TH',\n    'VN',\n    'RO',\n    'IL',\n    'ZA',\n    'SA',\n    'AE',\n    'BH',\n    'QA',\n    'OM',\n    'KW',\n    'EG',\n    'MA',\n    'DZ',\n    'TN',\n    'LB',\n    'JO',\n    'PS',\n    'IN',\n    'BY',\n    'KZ',\n    'MD',\n    'UA',\n    'AL',\n    'BA',\n    'HR',\n    'ME',\n    'MK',\n    'RS',\n    'SI',\n    'KR',\n    'BD',\n    'PK',\n    'LK',\n    'GH',\n    'KE',\n    'NG',\n    'TZ',\n    'UG',\n    'AG',\n    'AM',\n    'BS',\n    'BB',\n    'BZ',\n    'BT',\n    'BW',\n    'BF',\n    'CV',\n    'CW',\n    'DM',\n    'FJ',\n    'GM',\n    'GE',\n    'GD',\n    'GW',\n    'GY',\n    'HT',\n    'JM',\n    'KI',\n    'LS',\n    'LR',\n    'MW',\n    'MV',\n    'ML',\n    'MH',\n    'FM',\n    'NA',\n    'NR',\n    'NE',\n    'PW',\n    'PG',\n    'PR',\n    'WS',\n    'SM',\n    'ST',\n    'SN',\n    'SC',\n    'SL',\n    'SB',\n    'KN',\n    'LC',\n    'VC',\n    'SR',\n    'TL',\n    'TO',\n    'TT',\n    'TV',\n    'VU',\n    'AZ',\n    'BN',\n    'BI',\n    'KH',\n    'CM',\n    'TD',\n    'KM',\n    'GQ',\n    'SZ',\n    'GA',\n    'GN',\n    'KG',\n    'LA',\n    'MO',\n    'MR',\n    'MN',\n    'NP',\n    'RW',\n    'TG',\n    'UZ',\n    'ZW',\n    'BJ',\n    'MG',\n    'MU',\n    'MZ',\n    'AO',\n    'CI',\n    'DJ',\n    'ZM',\n    'CD',\n    'CG',\n    'IQ',\n    'LY',\n    'TJ',\n    'VE',\n    'ET',\n    'XK'],\n   'explicit': False,\n   'type': 'track',\n   'episode': False,\n   'track': True,\n   'album': {'available_markets': ['AR',\n     'AU',\n     'AT',\n     'BE',\n     'BO',\n     'BR',\n     'BG',\n     'CA',\n     'CL',\n     'CO',\n     'CR',\n     'CY',\n     'CZ',\n     'DK',\n     'DO',\n     'DE',\n     'EC',\n     'EE',\n     'SV',\n     'FI',\n     'FR',\n     'GR',\n     'GT',\n     'HN',\n     'HK',\n     'HU',\n     'IS',\n     'IE',\n     'IT',\n     'LV',\n     'LT',\n     'LU',\n     'MY',\n     'MT',\n     'MX',\n     'NL',\n     'NZ',\n     'NI',\n     'NO',\n     'PA',\n     'PY',\n     'PE',\n     'PH',\n     'PL',\n     'PT',\n     'SG',\n     'SK',\n     'ES',\n     'SE',\n     'CH',\n     'TW',\n     'TR',\n     'UY',\n     'US',\n     'GB',\n     'AD',\n     'LI',\n     'MC',\n     'ID',\n     'JP',\n     'TH',\n     'VN',\n     'RO',\n     'IL',\n     'ZA',\n     'SA',\n     'AE',\n     'BH',\n     'QA',\n     'OM',\n     'KW',\n     'EG',\n     'MA',\n     'DZ',\n     'TN',\n     'LB',\n     'JO',\n     'PS',\n     'IN',\n     'BY',\n     'KZ',\n     'MD',\n     'UA',\n     'AL',\n     'BA',\n     'HR',\n     'ME',\n     'MK',\n     'RS',\n     'SI',\n     'KR',\n     'BD',\n     'PK',\n     'LK',\n     'GH',\n     'KE',\n     'NG',\n     'TZ',\n     'UG',\n     'AG',\n     'AM',\n     'BS',\n     'BB',\n     'BZ',\n     'BT',\n     'BW',\n     'BF',\n     'CV',\n     'CW',\n     'DM',\n     'FJ',\n     'GM',\n     'GE',\n     'GD',\n     'GW',\n     'GY',\n     'HT',\n     'JM',\n     'KI',\n     'LS',\n     'LR',\n     'MW',\n     'MV',\n     'ML',\n     'MH',\n     'FM',\n     'NA',\n     'NR',\n     'NE',\n     'PW',\n     'PG',\n     'PR',\n     'WS',\n     'SM',\n     'ST',\n     'SN',\n     'SC',\n     'SL',\n     'SB',\n     'KN',\n     'LC',\n     'VC',\n     'SR',\n     'TL',\n     'TO',\n     'TT',\n     'TV',\n     'VU',\n     'AZ',\n     'BN',\n     'BI',\n     'KH',\n     'CM',\n     'TD',\n     'KM',\n     'GQ',\n     'SZ',\n     'GA',\n     'GN',\n     'KG',\n     'LA',\n     'MO',\n     'MR',\n     'MN',\n     'NP',\n     'RW',\n     'TG',\n     'UZ',\n     'ZW',\n     'BJ',\n     'MG',\n     'MU',\n     'MZ',\n     'AO',\n     'CI',\n     'DJ',\n     'ZM',\n     'CD',\n     'CG',\n     'IQ',\n     'LY',\n     'TJ',\n     'VE',\n     'ET',\n     'XK'],\n    'type': 'album',\n    'album_type': 'single',\n    'href': 'https://api.spotify.com/v1/albums/1l8if9zQ8F0MEHVWYrMREe',\n    'id': '1l8if9zQ8F0MEHVWYrMREe',\n    'images': [{'height': 640,\n      'url': 'https://i.scdn.co/image/ab67616d0000b273427c80da235cb76fc89b8e27',\n      'width': 640},\n     {'height': 300,\n      'url': 'https://i.scdn.co/image/ab67616d00001e02427c80da235cb76fc89b8e27',\n      'width': 300},\n     {'height': 64,\n      'url': 'https://i.scdn.co/image/ab67616d00004851427c80da235cb76fc89b8e27',\n      'width': 64}],\n    'name': 'Montagem Mysterious Game',\n    'release_date': '2023-12-01',\n    'release_date_precision': 'day',\n    'uri': 'spotify:album:1l8if9zQ8F0MEHVWYrMREe',\n    'artists': [{'external_urls': {'spotify': 'https://open.spotify.com/artist/5IpS1TN1Crp8Ym4zjiIrtK'},\n      'href': 'https://api.spotify.com/v1/artists/5IpS1TN1Crp8Ym4zjiIrtK',\n      'id': '5IpS1TN1Crp8Ym4zjiIrtK',\n      'name': 'LXNGVX',\n      'type': 'artist',\n      'uri': 'spotify:artist:5IpS1TN1Crp8Ym4zjiIrtK'}],\n    'external_urls': {'spotify': 'https://open.spotify.com/album/1l8if9zQ8F0MEHVWYrMREe'},\n    'total_tracks': 3},\n   'artists': [{'external_urls': {'spotify': 'https://open.spotify.com/artist/5IpS1TN1Crp8Ym4zjiIrtK'},\n     'href': 'https://api.spotify.com/v1/artists/5IpS1TN1Crp8Ym4zjiIrtK',\n     'id': '5IpS1TN1Crp8Ym4zjiIrtK',\n     'name': 'LXNGVX',\n     'type': 'artist',\n     'uri': 'spotify:artist:5IpS1TN1Crp8Ym4zjiIrtK'}],\n   'disc_number': 1,\n   'track_number': 1,\n   'duration_ms': 103495,\n   'external_ids': {'isrc': 'QZTBF2315869'},\n   'external_urls': {'spotify': 'https://open.spotify.com/track/7vOmSP2647oNUGGEhWd1cr'},\n   'href': 'https://api.spotify.com/v1/tracks/7vOmSP2647oNUGGEhWd1cr',\n   'id': '7vOmSP2647oNUGGEhWd1cr',\n   'name': 'Montagem Mysterious Game',\n   'popularity': 78,\n   'uri': 'spotify:track:7vOmSP2647oNUGGEhWd1cr',\n   'is_local': False},\n  'video_thumbnail': {'url': None}},\n {'added_at': '2025-06-08T08:36:24Z',\n  'added_by': {'external_urls': {'spotify': 'https://open.spotify.com/user/31rzz7jr6t3e3mqgitwppkmfg2ve'},\n   'href': 'https://api.spotify.com/v1/users/31rzz7jr6t3e3mqgitwppkmfg2ve',\n   'id': '31rzz7jr6t3e3mqgitwppkmfg2ve',\n   'type': 'user',\n   'uri': 'spotify:user:31rzz7jr6t3e3mqgitwppkmfg2ve'},\n  'is_local': False,\n  'primary_color': None,\n  'track': {'preview_url': None,\n   'available_markets': ['AR',\n    'AU',\n    'AT',\n    'BE',\n    'BO',\n    'BR',\n    'BG',\n    'CA',\n    'CL',\n    'CO',\n    'CR',\n    'CY',\n    'CZ',\n    'DK',\n    'DO',\n    'DE',\n    'EC',\n    'EE',\n    'SV',\n    'FI',\n    'FR',\n    'GR',\n    'GT',\n    'HN',\n    'HK',\n    'HU',\n    'IS',\n    'IE',\n    'IT',\n    'LV',\n    'LT',\n    'LU',\n    'MY',\n    'MT',\n    'MX',\n    'NL',\n    'NZ',\n    'NI',\n    'NO',\n    'PA',\n    'PY',\n    'PE',\n    'PH',\n    'PL',\n    'PT',\n    'SG',\n    'SK',\n    'ES',\n    'SE',\n    'CH',\n    'TW',\n    'TR',\n    'UY',\n    'US',\n    'GB',\n    'AD',\n    'LI',\n    'MC',\n    'ID',\n    'JP',\n    'TH',\n    'VN',\n    'RO',\n    'IL',\n    'ZA',\n    'SA',\n    'AE',\n    'BH',\n    'QA',\n    'OM',\n    'KW',\n    'EG',\n    'MA',\n    'DZ',\n    'TN',\n    'LB',\n    'JO',\n    'PS',\n    'IN',\n    'BY',\n    'KZ',\n    'MD',\n    'UA',\n    'AL',\n    'BA',\n    'HR',\n    'ME',\n    'MK',\n    'RS',\n    'SI',\n    'KR',\n    'BD',\n    'PK',\n    'LK',\n    'GH',\n    'KE',\n    'NG',\n    'TZ',\n    'UG',\n    'AG',\n    'AM',\n    'BS',\n    'BB',\n    'BZ',\n    'BT',\n    'BW',\n    'BF',\n    'CV',\n    'CW',\n    'DM',\n    'FJ',\n    'GM',\n    'GE',\n    'GD',\n    'GW',\n    'GY',\n    'HT',\n    'JM',\n    'KI',\n    'LS',\n    'LR',\n    'MW',\n    'MV',\n    'ML',\n    'MH',\n    'FM',\n    'NA',\n    'NR',\n    'NE',\n    'PW',\n    'PG',\n    'PR',\n    'WS',\n    'SM',\n    'ST',\n    'SN',\n    'SC',\n    'SL',\n    'SB',\n    'KN',\n    'LC',\n    'VC',\n    'SR',\n    'TL',\n    'TO',\n    'TT',\n    'TV',\n    'VU',\n    'AZ',\n    'BN',\n    'BI',\n    'KH',\n    'CM',\n    'TD',\n    'KM',\n    'GQ',\n    'SZ',\n    'GA',\n    'GN',\n    'KG',\n    'LA',\n    'MO',\n    'MR',\n    'MN',\n    'NP',\n    'RW',\n    'TG',\n    'UZ',\n    'ZW',\n    'BJ',\n    'MG',\n    'MU',\n    'MZ',\n    'AO',\n    'CI',\n    'DJ',\n    'ZM',\n    'CD',\n    'CG',\n    'IQ',\n    'LY',\n    'TJ',\n    'VE',\n    'ET',\n    'XK'],\n   'explicit': True,\n   'type': 'track',\n   'episode': False,\n   'track': True,\n   'album': {'available_markets': ['AR',\n     'AU',\n     'AT',\n     'BE',\n     'BO',\n     'BR',\n     'BG',\n     'CA',\n     'CL',\n     'CO',\n     'CR',\n     'CY',\n     'CZ',\n     'DK',\n     'DO',\n     'DE',\n     'EC',\n     'EE',\n     'SV',\n     'FI',\n     'FR',\n     'GR',\n     'GT',\n     'HN',\n     'HK',\n     'HU',\n     'IS',\n     'IE',\n     'IT',\n     'LV',\n     'LT',\n     'LU',\n     'MY',\n     'MT',\n     'MX',\n     'NL',\n     'NZ',\n     'NI',\n     'NO',\n     'PA',\n     'PY',\n     'PE',\n     'PH',\n     'PL',\n     'PT',\n     'SG',\n     'SK',\n     'ES',\n     'SE',\n     'CH',\n     'TW',\n     'TR',\n     'UY',\n     'US',\n     'GB',\n     'AD',\n     'LI',\n     'MC',\n     'ID',\n     'JP',\n     'TH',\n     'VN',\n     'RO',\n     'IL',\n     'ZA',\n     'SA',\n     'AE',\n     'BH',\n     'QA',\n     'OM',\n     'KW',\n     'EG',\n     'MA',\n     'DZ',\n     'TN',\n     'LB',\n     'JO',\n     'PS',\n     'IN',\n     'BY',\n     'KZ',\n     'MD',\n     'UA',\n     'AL',\n     'BA',\n     'HR',\n     'ME',\n     'MK',\n     'RS',\n     'SI',\n     'KR',\n     'BD',\n     'PK',\n     'LK',\n     'GH',\n     'KE',\n     'NG',\n     'TZ',\n     'UG',\n     'AG',\n     'AM',\n     'BS',\n     'BB',\n     'BZ',\n     'BT',\n     'BW',\n     'BF',\n     'CV',\n     'CW',\n     'DM',\n     'FJ',\n     'GM',\n     'GE',\n     'GD',\n     'GW',\n     'GY',\n     'HT',\n     'JM',\n     'KI',\n     'LS',\n     'LR',\n     'MW',\n     'MV',\n     'ML',\n     'MH',\n     'FM',\n     'NA',\n     'NR',\n     'NE',\n     'PW',\n     'PG',\n     'PR',\n     'WS',\n     'SM',\n     'ST',\n     'SN',\n     'SC',\n     'SL',\n     'SB',\n     'KN',\n     'LC',\n     'VC',\n     'SR',\n     'TL',\n     'TO',\n     'TT',\n     'TV',\n     'VU',\n     'AZ',\n     'BN',\n     'BI',\n     'KH',\n     'CM',\n     'TD',\n     'KM',\n     'GQ',\n     'SZ',\n     'GA',\n     'GN',\n     'KG',\n     'LA',\n     'MO',\n     'MR',\n     'MN',\n     'NP',\n     'RW',\n     'TG',\n     'UZ',\n     'ZW',\n     'BJ',\n     'MG',\n     'MU',\n     'MZ',\n     'AO',\n     'CI',\n     'DJ',\n     'ZM',\n     'CD',\n     'CG',\n     'IQ',\n     'LY',\n     'TJ',\n     'VE',\n     'ET',\n     'XK'],\n    'type': 'album',\n    'album_type': 'single',\n    'href': 'https://api.spotify.com/v1/albums/6s28IiIJ7ElbJfTPn03D6Y',\n    'id': '6s28IiIJ7ElbJfTPn03D6Y',\n    'images': [{'height': 640,\n      'url': 'https://i.scdn.co/image/ab67616d0000b273000f7d682ef4e13557c202aa',\n      'width': 640},\n     {'height': 300,\n      'url': 'https://i.scdn.co/image/ab67616d00001e02000f7d682ef4e13557c202aa',\n      'width': 300},\n     {'height': 64,\n      'url': 'https://i.scdn.co/image/ab67616d00004851000f7d682ef4e13557c202aa',\n      'width': 64}],\n    'name': 'THOMAS',\n    'release_date': '2024-04-12',\n    'release_date_precision': 'day',\n    'uri': 'spotify:album:6s28IiIJ7ElbJfTPn03D6Y',\n    'artists': [{'external_urls': {'spotify': 'https://open.spotify.com/artist/33rnQWadiG2aauIwIxPxfB'},\n      'href': 'https://api.spotify.com/v1/artists/33rnQWadiG2aauIwIxPxfB',\n      'id': '33rnQWadiG2aauIwIxPxfB',\n      'name': 'ZWE1HVNDXR',\n      'type': 'artist',\n      'uri': 'spotify:artist:33rnQWadiG2aauIwIxPxfB'},\n     {'external_urls': {'spotify': 'https://open.spotify.com/artist/2APh66XEiqOiDt3bKhBWmn'},\n      'href': 'https://api.spotify.com/v1/artists/2APh66XEiqOiDt3bKhBWmn',\n      'id': '2APh66XEiqOiDt3bKhBWmn',\n      'name': 'NONTHENSE',\n      'type': 'artist',\n      'uri': 'spotify:artist:2APh66XEiqOiDt3bKhBWmn'},\n     {'external_urls': {'spotify': 'https://open.spotify.com/artist/7dUNKhz7HdxExteqcREGLi'},\n      'href': 'https://api.spotify.com/v1/artists/7dUNKhz7HdxExteqcREGLi',\n      'id': '7dUNKhz7HdxExteqcREGLi',\n      'name': 'Mc Denny',\n      'type': 'artist',\n      'uri': 'spotify:artist:7dUNKhz7HdxExteqcREGLi'}],\n    'external_urls': {'spotify': 'https://open.spotify.com/album/6s28IiIJ7ElbJfTPn03D6Y'},\n    'total_tracks': 1},\n   'artists': [{'external_urls': {'spotify': 'https://open.spotify.com/artist/33rnQWadiG2aauIwIxPxfB'},\n     'href': 'https://api.spotify.com/v1/artists/33rnQWadiG2aauIwIxPxfB',\n     'id': '33rnQWadiG2aauIwIxPxfB',\n     'name': 'ZWE1HVNDXR',\n     'type': 'artist',\n     'uri': 'spotify:artist:33rnQWadiG2aauIwIxPxfB'},\n    {'external_urls': {'spotify': 'https://open.spotify.com/artist/2APh66XEiqOiDt3bKhBWmn'},\n     'href': 'https://api.spotify.com/v1/artists/2APh66XEiqOiDt3bKhBWmn',\n     'id': '2APh66XEiqOiDt3bKhBWmn',\n     'name': 'NONTHENSE',\n     'type': 'artist',\n     'uri': 'spotify:artist:2APh66XEiqOiDt3bKhBWmn'},\n    {'external_urls': {'spotify': 'https://open.spotify.com/artist/7dUNKhz7HdxExteqcREGLi'},\n     'href': 'https://api.spotify.com/v1/artists/7dUNKhz7HdxExteqcREGLi',\n     'id': '7dUNKhz7HdxExteqcREGLi',\n     'name': 'Mc Denny',\n     'type': 'artist',\n     'uri': 'spotify:artist:7dUNKhz7HdxExteqcREGLi'}],\n   'disc_number': 1,\n   'track_number': 1,\n   'duration_ms': 90603,\n   'external_ids': {'isrc': 'QM6MZ2422626'},\n   'external_urls': {'spotify': 'https://open.spotify.com/track/3cjg55upztjI5bIsBQqSN1'},\n   'href': 'https://api.spotify.com/v1/tracks/3cjg55upztjI5bIsBQqSN1',\n   'id': '3cjg55upztjI5bIsBQqSN1',\n   'name': 'THOMAS',\n   'popularity': 68,\n   'uri': 'spotify:track:3cjg55upztjI5bIsBQqSN1',\n   'is_local': False},\n  'video_thumbnail': {'url': None}},\n {'added_at': '2025-07-04T12:50:36Z',\n  'added_by': {'external_urls': {'spotify': 'https://open.spotify.com/user/31rzz7jr6t3e3mqgitwppkmfg2ve'},\n   'href': 'https://api.spotify.com/v1/users/31rzz7jr6t3e3mqgitwppkmfg2ve',\n   'id': '31rzz7jr6t3e3mqgitwppkmfg2ve',\n   'type': 'user',\n   'uri': 'spotify:user:31rzz7jr6t3e3mqgitwppkmfg2ve'},\n  'is_local': False,\n  'primary_color': None,\n  'track': {'preview_url': None,\n   'available_markets': ['AR',\n    'AU',\n    'AT',\n    'BE',\n    'BO',\n    'BR',\n    'BG',\n    'CA',\n    'CL',\n    'CO',\n    'CR',\n    'CY',\n    'CZ',\n    'DK',\n    'DO',\n    'DE',\n    'EC',\n    'EE',\n    'SV',\n    'FI',\n    'FR',\n    'GR',\n    'GT',\n    'HN',\n    'HK',\n    'HU',\n    'IS',\n    'IE',\n    'IT',\n    'LV',\n    'LT',\n    'LU',\n    'MY',\n    'MT',\n    'MX',\n    'NL',\n    'NZ',\n    'NI',\n    'NO',\n    'PA',\n    'PY',\n    'PE',\n    'PH',\n    'PL',\n    'PT',\n    'SG',\n    'SK',\n    'ES',\n    'SE',\n    'CH',\n    'TW',\n    'TR',\n    'UY',\n    'US',\n    'GB',\n    'AD',\n    'LI',\n    'MC',\n    'ID',\n    'JP',\n    'TH',\n    'VN',\n    'RO',\n    'IL',\n    'ZA',\n    'SA',\n    'AE',\n    'BH',\n    'QA',\n    'OM',\n    'KW',\n    'EG',\n    'MA',\n    'DZ',\n    'TN',\n    'LB',\n    'JO',\n    'PS',\n    'IN',\n    'BY',\n    'KZ',\n    'MD',\n    'UA',\n    'AL',\n    'BA',\n    'HR',\n    'ME',\n    'MK',\n    'RS',\n    'SI',\n    'KR',\n    'BD',\n    'PK',\n    'LK',\n    'GH',\n    'KE',\n    'NG',\n    'TZ',\n    'UG',\n    'AG',\n    'AM',\n    'BS',\n    'BB',\n    'BZ',\n    'BT',\n    'BW',\n    'BF',\n    'CV',\n    'CW',\n    'DM',\n    'FJ',\n    'GM',\n    'GE',\n    'GD',\n    'GW',\n    'GY',\n    'HT',\n    'JM',\n    'KI',\n    'LS',\n    'LR',\n    'MW',\n    'MV',\n    'ML',\n    'MH',\n    'FM',\n    'NA',\n    'NR',\n    'NE',\n    'PW',\n    'PG',\n    'PR',\n    'WS',\n    'SM',\n    'ST',\n    'SN',\n    'SC',\n    'SL',\n    'SB',\n    'KN',\n    'LC',\n    'VC',\n    'SR',\n    'TL',\n    'TO',\n    'TT',\n    'TV',\n    'VU',\n    'AZ',\n    'BN',\n    'BI',\n    'KH',\n    'CM',\n    'TD',\n    'KM',\n    'GQ',\n    'SZ',\n    'GA',\n    'GN',\n    'KG',\n    'LA',\n    'MO',\n    'MR',\n    'MN',\n    'NP',\n    'RW',\n    'TG',\n    'UZ',\n    'ZW',\n    'BJ',\n    'MG',\n    'MU',\n    'MZ',\n    'AO',\n    'CI',\n    'DJ',\n    'ZM',\n    'CD',\n    'CG',\n    'IQ',\n    'LY',\n    'TJ',\n    'VE',\n    'ET',\n    'XK'],\n   'explicit': False,\n   'type': 'track',\n   'episode': False,\n   'track': True,\n   'album': {'available_markets': ['AR',\n     'AU',\n     'AT',\n     'BE',\n     'BO',\n     'BR',\n     'BG',\n     'CA',\n     'CL',\n     'CO',\n     'CR',\n     'CY',\n     'CZ',\n     'DK',\n     'DO',\n     'DE',\n     'EC',\n     'EE',\n     'SV',\n     'FI',\n     'FR',\n     'GR',\n     'GT',\n     'HN',\n     'HK',\n     'HU',\n     'IS',\n     'IE',\n     'IT',\n     'LV',\n     'LT',\n     'LU',\n     'MY',\n     'MT',\n     'MX',\n     'NL',\n     'NZ',\n     'NI',\n     'NO',\n     'PA',\n     'PY',\n     'PE',\n     'PH',\n     'PL',\n     'PT',\n     'SG',\n     'SK',\n     'ES',\n     'SE',\n     'CH',\n     'TW',\n     'TR',\n     'UY',\n     'US',\n     'GB',\n     'AD',\n     'LI',\n     'MC',\n     'ID',\n     'JP',\n     'TH',\n     'VN',\n     'RO',\n     'IL',\n     'ZA',\n     'SA',\n     'AE',\n     'BH',\n     'QA',\n     'OM',\n     'KW',\n     'EG',\n     'MA',\n     'DZ',\n     'TN',\n     'LB',\n     'JO',\n     'PS',\n     'IN',\n     'BY',\n     'KZ',\n     'MD',\n     'UA',\n     'AL',\n     'BA',\n     'HR',\n     'ME',\n     'MK',\n     'RS',\n     'SI',\n     'KR',\n     'BD',\n     'PK',\n     'LK',\n     'GH',\n     'KE',\n     'NG',\n     'TZ',\n     'UG',\n     'AG',\n     'AM',\n     'BS',\n     'BB',\n     'BZ',\n     'BT',\n     'BW',\n     'BF',\n     'CV',\n     'CW',\n     'DM',\n     'FJ',\n     'GM',\n     'GE',\n     'GD',\n     'GW',\n     'GY',\n     'HT',\n     'JM',\n     'KI',\n     'LS',\n     'LR',\n     'MW',\n     'MV',\n     'ML',\n     'MH',\n     'FM',\n     'NA',\n     'NR',\n     'NE',\n     'PW',\n     'PG',\n     'PR',\n     'WS',\n     'SM',\n     'ST',\n     'SN',\n     'SC',\n     'SL',\n     'SB',\n     'KN',\n     'LC',\n     'VC',\n     'SR',\n     'TL',\n     'TO',\n     'TT',\n     'TV',\n     'VU',\n     'AZ',\n     'BN',\n     'BI',\n     'KH',\n     'CM',\n     'TD',\n     'KM',\n     'GQ',\n     'SZ',\n     'GA',\n     'GN',\n     'KG',\n     'LA',\n     'MO',\n     'MR',\n     'MN',\n     'NP',\n     'RW',\n     'TG',\n     'UZ',\n     'ZW',\n     'BJ',\n     'MG',\n     'MU',\n     'MZ',\n     'AO',\n     'CI',\n     'DJ',\n     'ZM',\n     'CD',\n     'CG',\n     'IQ',\n     'LY',\n     'TJ',\n     'VE',\n     'ET',\n     'XK'],\n    'type': 'album',\n    'album_type': 'single',\n    'href': 'https://api.spotify.com/v1/albums/4F2WvpcBhSzlbn3WIITz2B',\n    'id': '4F2WvpcBhSzlbn3WIITz2B',\n    'images': [{'height': 640,\n      'url': 'https://i.scdn.co/image/ab67616d0000b27352ee7cdba039596030ee8ab2',\n      'width': 640},\n     {'height': 300,\n      'url': 'https://i.scdn.co/image/ab67616d00001e0252ee7cdba039596030ee8ab2',\n      'width': 300},\n     {'height': 64,\n      'url': 'https://i.scdn.co/image/ab67616d0000485152ee7cdba039596030ee8ab2',\n      'width': 64}],\n    'name': 'MAZKO',\n    'release_date': '2024-10-25',\n    'release_date_precision': 'day',\n    'uri': 'spotify:album:4F2WvpcBhSzlbn3WIITz2B',\n    'artists': [{'external_urls': {'spotify': 'https://open.spotify.com/artist/0oV5Z0bl2CEOKxeN8FZHi7'},\n      'href': 'https://api.spotify.com/v1/artists/0oV5Z0bl2CEOKxeN8FZHi7',\n      'id': '0oV5Z0bl2CEOKxeN8FZHi7',\n      'name': 'S4nri0',\n      'type': 'artist',\n      'uri': 'spotify:artist:0oV5Z0bl2CEOKxeN8FZHi7'},\n     {'external_urls': {'spotify': 'https://open.spotify.com/artist/4fVQieL685dgYwFDrcYxsz'},\n      'href': 'https://api.spotify.com/v1/artists/4fVQieL685dgYwFDrcYxsz',\n      'id': '4fVQieL685dgYwFDrcYxsz',\n      'name': 'MC LyC4N',\n      'type': 'artist',\n      'uri': 'spotify:artist:4fVQieL685dgYwFDrcYxsz'}],\n    'external_urls': {'spotify': 'https://open.spotify.com/album/4F2WvpcBhSzlbn3WIITz2B'},\n    'total_tracks': 3},\n   'artists': [{'external_urls': {'spotify': 'https://open.spotify.com/artist/0oV5Z0bl2CEOKxeN8FZHi7'},\n     'href': 'https://api.spotify.com/v1/artists/0oV5Z0bl2CEOKxeN8FZHi7',\n     'id': '0oV5Z0bl2CEOKxeN8FZHi7',\n     'name': 'S4nri0',\n     'type': 'artist',\n     'uri': 'spotify:artist:0oV5Z0bl2CEOKxeN8FZHi7'},\n    {'external_urls': {'spotify': 'https://open.spotify.com/artist/4fVQieL685dgYwFDrcYxsz'},\n     'href': 'https://api.spotify.com/v1/artists/4fVQieL685dgYwFDrcYxsz',\n     'id': '4fVQieL685dgYwFDrcYxsz',\n     'name': 'MC LyC4N',\n     'type': 'artist',\n     'uri': 'spotify:artist:4fVQieL685dgYwFDrcYxsz'}],\n   'disc_number': 1,\n   'track_number': 1,\n   'duration_ms': 75692,\n   'external_ids': {'isrc': 'CA5KR2499395'},\n   'external_urls': {'spotify': 'https://open.spotify.com/track/7xsDWgQfb3szawKuUZyk5N'},\n   'href': 'https://api.spotify.com/v1/tracks/7xsDWgQfb3szawKuUZyk5N',\n   'id': '7xsDWgQfb3szawKuUZyk5N',\n   'name': 'MAZKO',\n   'popularity': 79,\n   'uri': 'spotify:track:7xsDWgQfb3szawKuUZyk5N',\n   'is_local': False},\n  'video_thumbnail': {'url': None}}]"
     ]
    }
   ],
   "source": [
    "data['items']"
   ]
  },
  {
   "cell_type": "code",
   "execution_count": 0,
   "metadata": {
    "application/vnd.databricks.v1+cell": {
     "cellMetadata": {
      "byteLimit": 2048000,
      "rowLimit": 10000
     },
     "inputWidgets": {},
     "nuid": "b8d4f915-eb1c-4b83-a5b0-cc949cab9c5b",
     "showTitle": true,
     "tableResultSettingsMap": {},
     "title": "since each item is a song we took the length of 'items'"
    }
   },
   "outputs": [
    {
     "output_type": "stream",
     "name": "stdout",
     "output_type": "stream",
     "text": [
      "Out[12]: 69"
     ]
    }
   ],
   "source": [
    "len(data['items']) #we have 98 songs"
   ]
  },
  {
   "cell_type": "code",
   "execution_count": 0,
   "metadata": {
    "application/vnd.databricks.v1+cell": {
     "cellMetadata": {
      "byteLimit": 2048000,
      "rowLimit": 10000
     },
     "inputWidgets": {},
     "nuid": "c7e5fcad-3138-4697-9a81-663c9ebb0562",
     "showTitle": false,
     "tableResultSettingsMap": {},
     "title": ""
    }
   },
   "outputs": [
    {
     "output_type": "stream",
     "name": "stdout",
     "output_type": "stream",
     "text": [
      "Out[13]: {'added_at': '2025-03-07T07:49:17Z',\n 'added_by': {'external_urls': {'spotify': 'https://open.spotify.com/user/31rzz7jr6t3e3mqgitwppkmfg2ve'},\n  'href': 'https://api.spotify.com/v1/users/31rzz7jr6t3e3mqgitwppkmfg2ve',\n  'id': '31rzz7jr6t3e3mqgitwppkmfg2ve',\n  'type': 'user',\n  'uri': 'spotify:user:31rzz7jr6t3e3mqgitwppkmfg2ve'},\n 'is_local': False,\n 'primary_color': None,\n 'track': {'preview_url': None,\n  'available_markets': ['AR',\n   'AU',\n   'AT',\n   'BE',\n   'BO',\n   'BR',\n   'BG',\n   'CA',\n   'CL',\n   'CO',\n   'CR',\n   'CY',\n   'CZ',\n   'DK',\n   'DO',\n   'DE',\n   'EC',\n   'EE',\n   'SV',\n   'FI',\n   'FR',\n   'GR',\n   'GT',\n   'HN',\n   'HK',\n   'HU',\n   'IS',\n   'IE',\n   'IT',\n   'LV',\n   'LT',\n   'LU',\n   'MY',\n   'MT',\n   'MX',\n   'NL',\n   'NZ',\n   'NI',\n   'NO',\n   'PA',\n   'PY',\n   'PE',\n   'PH',\n   'PL',\n   'PT',\n   'SG',\n   'SK',\n   'ES',\n   'SE',\n   'CH',\n   'TW',\n   'TR',\n   'UY',\n   'US',\n   'GB',\n   'AD',\n   'LI',\n   'MC',\n   'ID',\n   'JP',\n   'TH',\n   'VN',\n   'RO',\n   'IL',\n   'ZA',\n   'SA',\n   'AE',\n   'BH',\n   'QA',\n   'OM',\n   'KW',\n   'EG',\n   'MA',\n   'DZ',\n   'TN',\n   'LB',\n   'JO',\n   'PS',\n   'IN',\n   'BY',\n   'KZ',\n   'MD',\n   'UA',\n   'AL',\n   'BA',\n   'HR',\n   'ME',\n   'MK',\n   'RS',\n   'SI',\n   'KR',\n   'BD',\n   'PK',\n   'LK',\n   'GH',\n   'KE',\n   'NG',\n   'TZ',\n   'UG',\n   'AG',\n   'AM',\n   'BS',\n   'BB',\n   'BZ',\n   'BT',\n   'BW',\n   'BF',\n   'CV',\n   'CW',\n   'DM',\n   'FJ',\n   'GM',\n   'GE',\n   'GD',\n   'GW',\n   'GY',\n   'HT',\n   'JM',\n   'KI',\n   'LS',\n   'LR',\n   'MW',\n   'MV',\n   'ML',\n   'MH',\n   'FM',\n   'NA',\n   'NR',\n   'NE',\n   'PW',\n   'PG',\n   'PR',\n   'WS',\n   'SM',\n   'ST',\n   'SN',\n   'SC',\n   'SL',\n   'SB',\n   'KN',\n   'LC',\n   'VC',\n   'SR',\n   'TL',\n   'TO',\n   'TT',\n   'TV',\n   'VU',\n   'AZ',\n   'BN',\n   'BI',\n   'KH',\n   'CM',\n   'TD',\n   'KM',\n   'GQ',\n   'SZ',\n   'GA',\n   'GN',\n   'KG',\n   'LA',\n   'MO',\n   'MR',\n   'MN',\n   'NP',\n   'RW',\n   'TG',\n   'UZ',\n   'ZW',\n   'BJ',\n   'MG',\n   'MU',\n   'MZ',\n   'AO',\n   'CI',\n   'DJ',\n   'ZM',\n   'CD',\n   'CG',\n   'IQ',\n   'LY',\n   'TJ',\n   'VE',\n   'ET',\n   'XK'],\n  'explicit': False,\n  'type': 'track',\n  'episode': False,\n  'track': True,\n  'album': {'available_markets': ['AR',\n    'AU',\n    'AT',\n    'BE',\n    'BO',\n    'BR',\n    'BG',\n    'CA',\n    'CL',\n    'CO',\n    'CR',\n    'CY',\n    'CZ',\n    'DK',\n    'DO',\n    'DE',\n    'EC',\n    'EE',\n    'SV',\n    'FI',\n    'FR',\n    'GR',\n    'GT',\n    'HN',\n    'HK',\n    'HU',\n    'IS',\n    'IE',\n    'IT',\n    'LV',\n    'LT',\n    'LU',\n    'MY',\n    'MT',\n    'MX',\n    'NL',\n    'NZ',\n    'NI',\n    'NO',\n    'PA',\n    'PY',\n    'PE',\n    'PH',\n    'PL',\n    'PT',\n    'SG',\n    'SK',\n    'ES',\n    'SE',\n    'CH',\n    'TW',\n    'TR',\n    'UY',\n    'US',\n    'GB',\n    'AD',\n    'LI',\n    'MC',\n    'ID',\n    'JP',\n    'TH',\n    'VN',\n    'RO',\n    'IL',\n    'ZA',\n    'SA',\n    'AE',\n    'BH',\n    'QA',\n    'OM',\n    'KW',\n    'EG',\n    'MA',\n    'DZ',\n    'TN',\n    'LB',\n    'JO',\n    'PS',\n    'IN',\n    'BY',\n    'KZ',\n    'MD',\n    'UA',\n    'AL',\n    'BA',\n    'HR',\n    'ME',\n    'MK',\n    'RS',\n    'SI',\n    'KR',\n    'BD',\n    'PK',\n    'LK',\n    'GH',\n    'KE',\n    'NG',\n    'TZ',\n    'UG',\n    'AG',\n    'AM',\n    'BS',\n    'BB',\n    'BZ',\n    'BT',\n    'BW',\n    'BF',\n    'CV',\n    'CW',\n    'DM',\n    'FJ',\n    'GM',\n    'GE',\n    'GD',\n    'GW',\n    'GY',\n    'HT',\n    'JM',\n    'KI',\n    'LS',\n    'LR',\n    'MW',\n    'MV',\n    'ML',\n    'MH',\n    'FM',\n    'NA',\n    'NR',\n    'NE',\n    'PW',\n    'PG',\n    'PR',\n    'WS',\n    'SM',\n    'ST',\n    'SN',\n    'SC',\n    'SL',\n    'SB',\n    'KN',\n    'LC',\n    'VC',\n    'SR',\n    'TL',\n    'TO',\n    'TT',\n    'TV',\n    'VU',\n    'AZ',\n    'BN',\n    'BI',\n    'KH',\n    'CM',\n    'TD',\n    'KM',\n    'GQ',\n    'SZ',\n    'GA',\n    'GN',\n    'KG',\n    'LA',\n    'MO',\n    'MR',\n    'MN',\n    'NP',\n    'RW',\n    'TG',\n    'UZ',\n    'ZW',\n    'BJ',\n    'MG',\n    'MU',\n    'MZ',\n    'AO',\n    'CI',\n    'DJ',\n    'ZM',\n    'CD',\n    'CG',\n    'IQ',\n    'LY',\n    'TJ',\n    'VE',\n    'ET',\n    'XK'],\n   'type': 'album',\n   'album_type': 'single',\n   'href': 'https://api.spotify.com/v1/albums/6xUYw5goKIoyJQi9C27UBy',\n   'id': '6xUYw5goKIoyJQi9C27UBy',\n   'images': [{'height': 640,\n     'url': 'https://i.scdn.co/image/ab67616d0000b273becceb2d3f6a694db50fcedf',\n     'width': 640},\n    {'height': 300,\n     'url': 'https://i.scdn.co/image/ab67616d00001e02becceb2d3f6a694db50fcedf',\n     'width': 300},\n    {'height': 64,\n     'url': 'https://i.scdn.co/image/ab67616d00004851becceb2d3f6a694db50fcedf',\n     'width': 64}],\n   'name': 'NUNCA MUDA?',\n   'release_date': '2025-01-09',\n   'release_date_precision': 'day',\n   'uri': 'spotify:album:6xUYw5goKIoyJQi9C27UBy',\n   'artists': [{'external_urls': {'spotify': 'https://open.spotify.com/artist/5dDNNq04RjKXFOADdHd6VX'},\n     'href': 'https://api.spotify.com/v1/artists/5dDNNq04RjKXFOADdHd6VX',\n     'id': '5dDNNq04RjKXFOADdHd6VX',\n     'name': 'Scythermane',\n     'type': 'artist',\n     'uri': 'spotify:artist:5dDNNq04RjKXFOADdHd6VX'},\n    {'external_urls': {'spotify': 'https://open.spotify.com/artist/7lAaAGxYxk2GH8cMbTEwAL'},\n     'href': 'https://api.spotify.com/v1/artists/7lAaAGxYxk2GH8cMbTEwAL',\n     'id': '7lAaAGxYxk2GH8cMbTEwAL',\n     'name': 'NXGHT!',\n     'type': 'artist',\n     'uri': 'spotify:artist:7lAaAGxYxk2GH8cMbTEwAL'},\n    {'external_urls': {'spotify': 'https://open.spotify.com/artist/14hsjenLEdvafsGkk2CEiF'},\n     'href': 'https://api.spotify.com/v1/artists/14hsjenLEdvafsGkk2CEiF',\n     'id': '14hsjenLEdvafsGkk2CEiF',\n     'name': 'MC Fabinho da Osk',\n     'type': 'artist',\n     'uri': 'spotify:artist:14hsjenLEdvafsGkk2CEiF'}],\n   'external_urls': {'spotify': 'https://open.spotify.com/album/6xUYw5goKIoyJQi9C27UBy'},\n   'total_tracks': 6},\n  'artists': [{'external_urls': {'spotify': 'https://open.spotify.com/artist/5dDNNq04RjKXFOADdHd6VX'},\n    'href': 'https://api.spotify.com/v1/artists/5dDNNq04RjKXFOADdHd6VX',\n    'id': '5dDNNq04RjKXFOADdHd6VX',\n    'name': 'Scythermane',\n    'type': 'artist',\n    'uri': 'spotify:artist:5dDNNq04RjKXFOADdHd6VX'},\n   {'external_urls': {'spotify': 'https://open.spotify.com/artist/7lAaAGxYxk2GH8cMbTEwAL'},\n    'href': 'https://api.spotify.com/v1/artists/7lAaAGxYxk2GH8cMbTEwAL',\n    'id': '7lAaAGxYxk2GH8cMbTEwAL',\n    'name': 'NXGHT!',\n    'type': 'artist',\n    'uri': 'spotify:artist:7lAaAGxYxk2GH8cMbTEwAL'},\n   {'external_urls': {'spotify': 'https://open.spotify.com/artist/14hsjenLEdvafsGkk2CEiF'},\n    'href': 'https://api.spotify.com/v1/artists/14hsjenLEdvafsGkk2CEiF',\n    'id': '14hsjenLEdvafsGkk2CEiF',\n    'name': 'MC Fabinho da Osk',\n    'type': 'artist',\n    'uri': 'spotify:artist:14hsjenLEdvafsGkk2CEiF'}],\n  'disc_number': 1,\n  'track_number': 1,\n  'duration_ms': 81500,\n  'external_ids': {'isrc': 'SGW502245352'},\n  'external_urls': {'spotify': 'https://open.spotify.com/track/5EIjpM1B1VsLoKvv2iwd0P'},\n  'href': 'https://api.spotify.com/v1/tracks/5EIjpM1B1VsLoKvv2iwd0P',\n  'id': '5EIjpM1B1VsLoKvv2iwd0P',\n  'name': 'NUNCA MUDA?',\n  'popularity': 86,\n  'uri': 'spotify:track:5EIjpM1B1VsLoKvv2iwd0P',\n  'is_local': False},\n 'video_thumbnail': {'url': None}}"
     ]
    }
   ],
   "source": [
    "data['items'][0]  # 1st element"
   ]
  },
  {
   "cell_type": "code",
   "execution_count": 0,
   "metadata": {
    "application/vnd.databricks.v1+cell": {
     "cellMetadata": {
      "byteLimit": 2048000,
      "rowLimit": 10000
     },
     "inputWidgets": {},
     "nuid": "653613ae-22a8-46e0-9b0b-cf0eef685635",
     "showTitle": false,
     "tableResultSettingsMap": {},
     "title": ""
    }
   },
   "outputs": [
    {
     "output_type": "stream",
     "name": "stdout",
     "output_type": "stream",
     "text": [
      "Out[14]: dict_keys(['preview_url', 'available_markets', 'explicit', 'type', 'episode', 'track', 'album', 'artists', 'disc_number', 'track_number', 'duration_ms', 'external_ids', 'external_urls', 'href', 'id', 'name', 'popularity', 'uri', 'is_local'])"
     ]
    }
   ],
   "source": [
    "data['items'][0]['track'].keys()"
   ]
  },
  {
   "cell_type": "markdown",
   "metadata": {
    "application/vnd.databricks.v1+cell": {
     "cellMetadata": {
      "byteLimit": 2048000,
      "rowLimit": 10000
     },
     "inputWidgets": {},
     "nuid": "a52afbf5-01a1-4bdc-aa89-513fe6c0553a",
     "showTitle": false,
     "tableResultSettingsMap": {},
     "title": ""
    }
   },
   "source": [
    "### Extracting \"Album\" Information from the json"
   ]
  },
  {
   "cell_type": "code",
   "execution_count": 0,
   "metadata": {
    "application/vnd.databricks.v1+cell": {
     "cellMetadata": {
      "byteLimit": 2048000,
      "rowLimit": 10000
     },
     "inputWidgets": {},
     "nuid": "a1daf50c-3c95-4e03-8a32-faf8e6b8eabf",
     "showTitle": true,
     "tableResultSettingsMap": {},
     "title": "Inside track we have 'album' key"
    }
   },
   "outputs": [
    {
     "output_type": "stream",
     "name": "stdout",
     "output_type": "stream",
     "text": [
      "Out[15]: dict_keys(['preview_url', 'available_markets', 'explicit', 'type', 'episode', 'track', 'album', 'artists', 'disc_number', 'track_number', 'duration_ms', 'external_ids', 'external_urls', 'href', 'id', 'name', 'popularity', 'uri', 'is_local'])"
     ]
    }
   ],
   "source": [
    "data['items'][0]['track'].keys()"
   ]
  },
  {
   "cell_type": "code",
   "execution_count": 0,
   "metadata": {
    "application/vnd.databricks.v1+cell": {
     "cellMetadata": {
      "byteLimit": 2048000,
      "rowLimit": 10000
     },
     "inputWidgets": {},
     "nuid": "f43c9ac7-184a-476f-b878-c07f0c5a4916",
     "showTitle": false,
     "tableResultSettingsMap": {},
     "title": ""
    }
   },
   "outputs": [
    {
     "output_type": "stream",
     "name": "stdout",
     "output_type": "stream",
     "text": [
      "Out[16]: dict_keys(['available_markets', 'type', 'album_type', 'href', 'id', 'images', 'name', 'release_date', 'release_date_precision', 'uri', 'artists', 'external_urls', 'total_tracks'])"
     ]
    }
   ],
   "source": [
    "data['items'][0]['track']['album'].keys()"
   ]
  },
  {
   "cell_type": "code",
   "execution_count": 0,
   "metadata": {
    "application/vnd.databricks.v1+cell": {
     "cellMetadata": {
      "byteLimit": 2048000,
      "rowLimit": 10000
     },
     "inputWidgets": {},
     "nuid": "380ea25a-c4c8-465e-9dd3-3e0b67d883a2",
     "showTitle": false,
     "tableResultSettingsMap": {},
     "title": ""
    }
   },
   "outputs": [
    {
     "output_type": "stream",
     "name": "stdout",
     "output_type": "stream",
     "text": [
      "Out[17]: 'NUNCA MUDA?'"
     ]
    }
   ],
   "source": [
    "data['items'][0]['track']['album']['name'] #album name"
   ]
  },
  {
   "cell_type": "code",
   "execution_count": 0,
   "metadata": {
    "application/vnd.databricks.v1+cell": {
     "cellMetadata": {
      "byteLimit": 2048000,
      "rowLimit": 10000
     },
     "inputWidgets": {},
     "nuid": "a190703d-4607-45ad-b253-5b5a971c2cc9",
     "showTitle": false,
     "tableResultSettingsMap": {},
     "title": ""
    }
   },
   "outputs": [
    {
     "output_type": "stream",
     "name": "stdout",
     "output_type": "stream",
     "text": [
      "Out[18]: '6xUYw5goKIoyJQi9C27UBy'"
     ]
    }
   ],
   "source": [
    "data['items'][0]['track']['album']['id']\n"
   ]
  },
  {
   "cell_type": "code",
   "execution_count": 0,
   "metadata": {
    "application/vnd.databricks.v1+cell": {
     "cellMetadata": {
      "byteLimit": 2048000,
      "rowLimit": 10000
     },
     "inputWidgets": {},
     "nuid": "a7f0f279-415d-4dd1-bc03-6ddbc9ad5e20",
     "showTitle": false,
     "tableResultSettingsMap": {},
     "title": ""
    }
   },
   "outputs": [
    {
     "output_type": "stream",
     "name": "stdout",
     "output_type": "stream",
     "text": [
      "Out[19]: 'NUNCA MUDA?'"
     ]
    }
   ],
   "source": [
    "data['items'][0]['track']['album']['name']"
   ]
  },
  {
   "cell_type": "code",
   "execution_count": 0,
   "metadata": {
    "application/vnd.databricks.v1+cell": {
     "cellMetadata": {
      "byteLimit": 2048000,
      "rowLimit": 10000
     },
     "inputWidgets": {},
     "nuid": "8afc415b-ba9f-44d9-af65-ca5f06c0b8ec",
     "showTitle": false,
     "tableResultSettingsMap": {},
     "title": ""
    }
   },
   "outputs": [
    {
     "output_type": "stream",
     "name": "stdout",
     "output_type": "stream",
     "text": [
      "Out[20]: 6"
     ]
    }
   ],
   "source": [
    "data['items'][0]['track']['album']['total_tracks']"
   ]
  },
  {
   "cell_type": "code",
   "execution_count": 0,
   "metadata": {
    "application/vnd.databricks.v1+cell": {
     "cellMetadata": {
      "byteLimit": 2048000,
      "rowLimit": 10000
     },
     "inputWidgets": {},
     "nuid": "ccc5f279-4721-4363-8ee7-488c89d2f280",
     "showTitle": false,
     "tableResultSettingsMap": {},
     "title": ""
    }
   },
   "outputs": [
    {
     "output_type": "stream",
     "name": "stdout",
     "output_type": "stream",
     "text": [
      "Out[21]: '2025-01-09'"
     ]
    }
   ],
   "source": [
    "data['items'][0]['track']['album']['release_date']"
   ]
  },
  {
   "cell_type": "code",
   "execution_count": 0,
   "metadata": {
    "application/vnd.databricks.v1+cell": {
     "cellMetadata": {
      "byteLimit": 2048000,
      "rowLimit": 10000
     },
     "inputWidgets": {},
     "nuid": "67f03b79-7d50-46e0-a10e-f89001ac09ae",
     "showTitle": false,
     "tableResultSettingsMap": {},
     "title": ""
    }
   },
   "outputs": [
    {
     "output_type": "stream",
     "name": "stdout",
     "output_type": "stream",
     "text": [
      "Out[22]: 'https://open.spotify.com/album/6xUYw5goKIoyJQi9C27UBy'"
     ]
    }
   ],
   "source": [
    "data['items'][0]['track']['album']['external_urls']['spotify']"
   ]
  },
  {
   "cell_type": "code",
   "execution_count": 0,
   "metadata": {
    "application/vnd.databricks.v1+cell": {
     "cellMetadata": {
      "byteLimit": 2048000,
      "rowLimit": 10000
     },
     "inputWidgets": {},
     "nuid": "7954fe4f-2a31-45a0-ac32-0a41f5564a90",
     "showTitle": false,
     "tableResultSettingsMap": {},
     "title": ""
    }
   },
   "outputs": [
    {
     "output_type": "stream",
     "name": "stdout",
     "output_type": "stream",
     "text": [
      "Out[23]: 185"
     ]
    }
   ],
   "source": [
    "len(data['items'][0]['track']['album']['available_markets'])"
   ]
  },
  {
   "cell_type": "code",
   "execution_count": 0,
   "metadata": {
    "application/vnd.databricks.v1+cell": {
     "cellMetadata": {
      "byteLimit": 2048000,
      "rowLimit": 10000
     },
     "inputWidgets": {},
     "nuid": "506e2842-50df-465f-a817-756269909196",
     "showTitle": false,
     "tableResultSettingsMap": {},
     "title": ""
    }
   },
   "outputs": [
    {
     "output_type": "stream",
     "name": "stdout",
     "output_type": "stream",
     "text": [
      "Out[24]: dict_keys(['available_markets', 'type', 'album_type', 'href', 'id', 'images', 'name', 'release_date', 'release_date_precision', 'uri', 'artists', 'external_urls', 'total_tracks'])"
     ]
    }
   ],
   "source": [
    "data['items'][0]['track']['album'].keys()"
   ]
  },
  {
   "cell_type": "code",
   "execution_count": 0,
   "metadata": {
    "application/vnd.databricks.v1+cell": {
     "cellMetadata": {
      "byteLimit": 2048000,
      "rowLimit": 10000
     },
     "inputWidgets": {},
     "nuid": "8c692b0f-0c0b-427a-86a8-4fd47ff95abd",
     "showTitle": false,
     "tableResultSettingsMap": {},
     "title": ""
    }
   },
   "outputs": [],
   "source": [
    "\n",
    "album_list=[]\n",
    "\n",
    "for x in data['items']:\n",
    "    album_id=x['track']['album']['id']\n",
    "    album_name=x['track']['album']['name']\n",
    "    no_of_tracks=x['track']['album']['total_tracks']\n",
    "    album_release_date=x['track']['album']['release_date']\n",
    "    album_url=x['track']['album']['external_urls']['spotify']\n",
    "\n",
    "    album_element={'album_id':album_id,\n",
    "                   'album_name':album_name,\n",
    "                   'no_of_tracks':no_of_tracks,\n",
    "                   'album_release_date':album_release_date,\n",
    "                   'album_url':album_url}\n",
    "    album_list.append(album_element)\n"
   ]
  },
  {
   "cell_type": "code",
   "execution_count": 0,
   "metadata": {
    "application/vnd.databricks.v1+cell": {
     "cellMetadata": {
      "byteLimit": 2048000,
      "rowLimit": 10000
     },
     "inputWidgets": {},
     "nuid": "adefac6a-0783-4b4e-9124-0e6669863b92",
     "showTitle": false,
     "tableResultSettingsMap": {},
     "title": ""
    }
   },
   "outputs": [
    {
     "output_type": "stream",
     "name": "stdout",
     "output_type": "stream",
     "text": [
      "Out[26]: [{'album_id': '6xUYw5goKIoyJQi9C27UBy',\n  'album_name': 'NUNCA MUDA?',\n  'no_of_tracks': 6,\n  'album_release_date': '2025-01-09',\n  'album_url': 'https://open.spotify.com/album/6xUYw5goKIoyJQi9C27UBy'},\n {'album_id': '4s7LxMlh6RxgdMhldfMe8u',\n  'album_name': 'Funk de Beleza',\n  'no_of_tracks': 3,\n  'album_release_date': '2024-10-04',\n  'album_url': 'https://open.spotify.com/album/4s7LxMlh6RxgdMhldfMe8u'},\n {'album_id': '5D17Gk0J7jPXLvWMszqijF',\n  'album_name': 'MONTAGEM TOMADA',\n  'no_of_tracks': 4,\n  'album_release_date': '2025-03-21',\n  'album_url': 'https://open.spotify.com/album/5D17Gk0J7jPXLvWMszqijF'},\n {'album_id': '6dNugoBYWvUDQDtLurImhw',\n  'album_name': 'X-TALI',\n  'no_of_tracks': 1,\n  'album_release_date': '2024-08-23',\n  'album_url': 'https://open.spotify.com/album/6dNugoBYWvUDQDtLurImhw'},\n {'album_id': '0XoyJmD8cp3L8ixHoW3lB6',\n  'album_name': 'MONTAGEM CONTIGO',\n  'no_of_tracks': 4,\n  'album_release_date': '2025-04-04',\n  'album_url': 'https://open.spotify.com/album/0XoyJmD8cp3L8ixHoW3lB6'},\n {'album_id': '1kmsUHDC0n611meNgzRkuw',\n  'album_name': 'FUNK UNIVERSO',\n  'no_of_tracks': 4,\n  'album_release_date': '2024-07-03',\n  'album_url': 'https://open.spotify.com/album/1kmsUHDC0n611meNgzRkuw'},\n {'album_id': '0I7096R74VFP2xnMmp33sY',\n  'album_name': 'PASSO BEM SOLTO',\n  'no_of_tracks': 5,\n  'album_release_date': '2024-04-23',\n  'album_url': 'https://open.spotify.com/album/0I7096R74VFP2xnMmp33sY'},\n {'album_id': '62R2H85ZiKLp0lYHPprQWV',\n  'album_name': 'MTG - RITMO ZELDA',\n  'no_of_tracks': 4,\n  'album_release_date': '2024-06-28',\n  'album_url': 'https://open.spotify.com/album/62R2H85ZiKLp0lYHPprQWV'},\n {'album_id': '4FRxgE6LA2UGJ5yz8diaI9',\n  'album_name': 'FUNKED UP',\n  'no_of_tracks': 3,\n  'album_release_date': '2024-01-19',\n  'album_url': 'https://open.spotify.com/album/4FRxgE6LA2UGJ5yz8diaI9'},\n {'album_id': '3tSeUNn7yOQPEex7jwS9Bf',\n  'album_name': 'GLORY',\n  'no_of_tracks': 3,\n  'album_release_date': '2024-05-24',\n  'album_url': 'https://open.spotify.com/album/3tSeUNn7yOQPEex7jwS9Bf'},\n {'album_id': '6YLJD87ZAaFBziGObBIcOW',\n  'album_name': 'EMPIRE',\n  'no_of_tracks': 3,\n  'album_release_date': '2024-08-02',\n  'album_url': 'https://open.spotify.com/album/6YLJD87ZAaFBziGObBIcOW'},\n {'album_id': '06a7H7nusNMvM7yL8m3fy1',\n  'album_name': 'AURA',\n  'no_of_tracks': 3,\n  'album_release_date': '2024-07-12',\n  'album_url': 'https://open.spotify.com/album/06a7H7nusNMvM7yL8m3fy1'},\n {'album_id': '6Zd0Hg3HKVH7xhBPgESQy1',\n  'album_name': 'FUNK DO BOUNCE (Slowed)',\n  'no_of_tracks': 1,\n  'album_release_date': '2024-08-30',\n  'album_url': 'https://open.spotify.com/album/6Zd0Hg3HKVH7xhBPgESQy1'},\n {'album_id': '1QFKbF3Oot9Ad1NnRCAG32',\n  'album_name': 'X-SLIDE',\n  'no_of_tracks': 4,\n  'album_release_date': '2024-05-10',\n  'album_url': 'https://open.spotify.com/album/1QFKbF3Oot9Ad1NnRCAG32'},\n {'album_id': '4QmDrxVGw99LUJOubfPJz9',\n  'album_name': 'SPOOKY',\n  'no_of_tracks': 4,\n  'album_release_date': '2024-10-24',\n  'album_url': 'https://open.spotify.com/album/4QmDrxVGw99LUJOubfPJz9'},\n {'album_id': '2acEAXK1zIr0cPBkIDDJgz',\n  'album_name': 'LUNA BALA',\n  'no_of_tracks': 6,\n  'album_release_date': '2025-04-18',\n  'album_url': 'https://open.spotify.com/album/2acEAXK1zIr0cPBkIDDJgz'},\n {'album_id': '1qlnjo9SZtK01FqDyjv6nM',\n  'album_name': 'EI DO SENSACIO!',\n  'no_of_tracks': 4,\n  'album_release_date': '2024-07-29',\n  'album_url': 'https://open.spotify.com/album/1qlnjo9SZtK01FqDyjv6nM'},\n {'album_id': '5rDznSixlUXNxJySfWQNb7',\n  'album_name': 'REI DO BRASIL',\n  'no_of_tracks': 1,\n  'album_release_date': '2023-06-02',\n  'album_url': 'https://open.spotify.com/album/5rDznSixlUXNxJySfWQNb7'},\n {'album_id': '1vQpZhp0nRdlUT4m2cgV4k',\n  'album_name': 'Mexican Phonk Eki',\n  'no_of_tracks': 3,\n  'album_release_date': '2023-06-23',\n  'album_url': 'https://open.spotify.com/album/1vQpZhp0nRdlUT4m2cgV4k'},\n {'album_id': '5n9EF7hP2GRMiklzLpPY0E',\n  'album_name': 'AVANGARD (Slowed)',\n  'no_of_tracks': 1,\n  'album_release_date': '2024-08-02',\n  'album_url': 'https://open.spotify.com/album/5n9EF7hP2GRMiklzLpPY0E'},\n {'album_id': '1Wr2LyF0JSHHPv9nGXgFTN',\n  'album_name': 'O Melhor no Que Faz 3.0 (Slowed)',\n  'no_of_tracks': 1,\n  'album_release_date': '2024-07-22',\n  'album_url': 'https://open.spotify.com/album/1Wr2LyF0JSHHPv9nGXgFTN'},\n {'album_id': '7JslfZtjZ430btdARyxLQ4',\n  'album_name': 'PYTHON FUNK',\n  'no_of_tracks': 4,\n  'album_release_date': '2024-08-23',\n  'album_url': 'https://open.spotify.com/album/7JslfZtjZ430btdARyxLQ4'},\n {'album_id': '2Osz2h7ZjKHOZh5grL7o6G',\n  'album_name': 'BAIXO',\n  'no_of_tracks': 1,\n  'album_release_date': '2023-09-19',\n  'album_url': 'https://open.spotify.com/album/2Osz2h7ZjKHOZh5grL7o6G'},\n {'album_id': '1k9oQsBjwIhc4vF32zxvY5',\n  'album_name': 'NEXT!',\n  'no_of_tracks': 4,\n  'album_release_date': '2024-06-07',\n  'album_url': 'https://open.spotify.com/album/1k9oQsBjwIhc4vF32zxvY5'},\n {'album_id': '27XmqsKeLyr5jDURAordcd',\n  'album_name': 'TUCA DONKA',\n  'no_of_tracks': 1,\n  'album_release_date': '2023-07-28',\n  'album_url': 'https://open.spotify.com/album/27XmqsKeLyr5jDURAordcd'},\n {'album_id': '6DptPhwLku8xvWBodULnC6',\n  'album_name': 'Orquestra Maldita',\n  'no_of_tracks': 1,\n  'album_release_date': '2023-06-15',\n  'album_url': 'https://open.spotify.com/album/6DptPhwLku8xvWBodULnC6'},\n {'album_id': '1ILssfrknV8cQv5QvwBGUY',\n  'album_name': 'DNA',\n  'no_of_tracks': 3,\n  'album_release_date': '2023-12-21',\n  'album_url': 'https://open.spotify.com/album/1ILssfrknV8cQv5QvwBGUY'},\n {'album_id': '6tf2ziKDZQJinItJi99wBW',\n  'album_name': 'SPACE!',\n  'no_of_tracks': 3,\n  'album_release_date': '2024-04-26',\n  'album_url': 'https://open.spotify.com/album/6tf2ziKDZQJinItJi99wBW'},\n {'album_id': '3BsuqyYCV0DYIBrDi1SKwQ',\n  'album_name': 'Sequência da Dz7',\n  'no_of_tracks': 1,\n  'album_release_date': '2023-05-07',\n  'album_url': 'https://open.spotify.com/album/3BsuqyYCV0DYIBrDi1SKwQ'},\n {'album_id': '2EuOCirl08WxbRY2cfj4H5',\n  'album_name': 'Life in Rio',\n  'no_of_tracks': 1,\n  'album_release_date': '2023-03-17',\n  'album_url': 'https://open.spotify.com/album/2EuOCirl08WxbRY2cfj4H5'},\n {'album_id': '3Iw0jAPzwgmuqSIWQa9i8W',\n  'album_name': 'FUNK INFERNAL',\n  'no_of_tracks': 1,\n  'album_release_date': '2024-09-27',\n  'album_url': 'https://open.spotify.com/album/3Iw0jAPzwgmuqSIWQa9i8W'},\n {'album_id': '1R1KJCX1oc3xqSbABo2Wpn',\n  'album_name': 'Montagem Injuriosum Retines (Slowed)',\n  'no_of_tracks': 1,\n  'album_release_date': '2024-08-23',\n  'album_url': 'https://open.spotify.com/album/1R1KJCX1oc3xqSbABo2Wpn'},\n {'album_id': '2bqWrlHmNh4M41xOr0p7iN',\n  'album_name': 'Funk Secreto (Ultra Slowed)',\n  'no_of_tracks': 1,\n  'album_release_date': '2024-09-09',\n  'album_url': 'https://open.spotify.com/album/2bqWrlHmNh4M41xOr0p7iN'},\n {'album_id': '3HEJNpi4OtYpYQlGy2anVB',\n  'album_name': 'void',\n  'no_of_tracks': 3,\n  'album_release_date': '2024-08-23',\n  'album_url': 'https://open.spotify.com/album/3HEJNpi4OtYpYQlGy2anVB'},\n {'album_id': '5jXbkZ8fgtvq5OufR9LJz4',\n  'album_name': 'BLUE HORIZON FUNK',\n  'no_of_tracks': 5,\n  'album_release_date': '2024-11-25',\n  'album_url': 'https://open.spotify.com/album/5jXbkZ8fgtvq5OufR9LJz4'},\n {'album_id': '7hNzImuUou9dBftesPXcAt',\n  'album_name': 'BLAH',\n  'no_of_tracks': 1,\n  'album_release_date': '2025-02-13',\n  'album_url': 'https://open.spotify.com/album/7hNzImuUou9dBftesPXcAt'},\n {'album_id': '1Idktx9vdSSkm1yxABycnf',\n  'album_name': 'DON`T STOP',\n  'no_of_tracks': 5,\n  'album_release_date': '2024-04-19',\n  'album_url': 'https://open.spotify.com/album/1Idktx9vdSSkm1yxABycnf'},\n {'album_id': '3xCc8FxQsm6AE7ZWJ7h5sx',\n  'album_name': 'SLAY!',\n  'no_of_tracks': 4,\n  'album_release_date': '2024-03-15',\n  'album_url': 'https://open.spotify.com/album/3xCc8FxQsm6AE7ZWJ7h5sx'},\n {'album_id': '5eEfzNcFaXPsBXJzkPiD3S',\n  'album_name': 'Beeper Funk (Slowed)',\n  'no_of_tracks': 2,\n  'album_release_date': '2024-08-09',\n  'album_url': 'https://open.spotify.com/album/5eEfzNcFaXPsBXJzkPiD3S'},\n {'album_id': '6PZBt4XZvd1ElHAHG31J1j',\n  'album_name': 'FUNK DO BALKAN',\n  'no_of_tracks': 4,\n  'album_release_date': '2024-10-18',\n  'album_url': 'https://open.spotify.com/album/6PZBt4XZvd1ElHAHG31J1j'},\n {'album_id': '05EQpLFKhJ1m4YElm4zDHr',\n  'album_name': 'Ela Vira Mortal',\n  'no_of_tracks': 1,\n  'album_release_date': '2022-08-05',\n  'album_url': 'https://open.spotify.com/album/05EQpLFKhJ1m4YElm4zDHr'},\n {'album_id': '5Ide1hRSwzUYUnTQhq6CBv',\n  'album_name': 'Death Is No More',\n  'no_of_tracks': 1,\n  'album_release_date': '2021-01-25',\n  'album_url': 'https://open.spotify.com/album/5Ide1hRSwzUYUnTQhq6CBv'},\n {'album_id': '7Bc7xEWvkW01bvq5jAhCQS',\n  'album_name': 'YUM YUM',\n  'no_of_tracks': 3,\n  'album_release_date': '2023-06-23',\n  'album_url': 'https://open.spotify.com/album/7Bc7xEWvkW01bvq5jAhCQS'},\n {'album_id': '2DNOGCn0szoh9f3rAnhF7b',\n  'album_name': 'BAD PARENTING FUNK',\n  'no_of_tracks': 4,\n  'album_release_date': '2024-10-22',\n  'album_url': 'https://open.spotify.com/album/2DNOGCn0szoh9f3rAnhF7b'},\n {'album_id': '4ibsk1iPM7xDpJkNXREmsl',\n  'album_name': 'MANDA BALA',\n  'no_of_tracks': 1,\n  'album_release_date': '2023-12-08',\n  'album_url': 'https://open.spotify.com/album/4ibsk1iPM7xDpJkNXREmsl'},\n {'album_id': '7lolzbhq4moSJPfFpdosl5',\n  'album_name': 'RISADA CHUCK 01',\n  'no_of_tracks': 4,\n  'album_release_date': '2024-08-26',\n  'album_url': 'https://open.spotify.com/album/7lolzbhq4moSJPfFpdosl5'},\n {'album_id': '5J00ADHG1jlJiLjQDPURVh',\n  'album_name': 'ICEWHORE!',\n  'no_of_tracks': 1,\n  'album_release_date': '2023-03-24',\n  'album_url': 'https://open.spotify.com/album/5J00ADHG1jlJiLjQDPURVh'},\n {'album_id': '28N1pcdMLhrEajfJKkBkl1',\n  'album_name': 'MONTAGEM DIAMANTE ROSA',\n  'no_of_tracks': 2,\n  'album_release_date': '2024-01-09',\n  'album_url': 'https://open.spotify.com/album/28N1pcdMLhrEajfJKkBkl1'},\n {'album_id': '7DGsEVuwdKBKrzDx8fzEKn',\n  'album_name': 'MTG - VINGANÇA',\n  'no_of_tracks': 1,\n  'album_release_date': '2024-01-26',\n  'album_url': 'https://open.spotify.com/album/7DGsEVuwdKBKrzDx8fzEKn'},\n {'album_id': '6h4Lw0QisEuuAwmnMQvbse',\n  'album_name': 'VAPO NO SETOR',\n  'no_of_tracks': 5,\n  'album_release_date': '2024-08-13',\n  'album_url': 'https://open.spotify.com/album/6h4Lw0QisEuuAwmnMQvbse'},\n {'album_id': '3D2j7JQjj9Kjc8sOfikmV6',\n  'album_name': 'Montagem Melodia Explosiva',\n  'no_of_tracks': 4,\n  'album_release_date': '2024-09-06',\n  'album_url': 'https://open.spotify.com/album/3D2j7JQjj9Kjc8sOfikmV6'},\n {'album_id': '43DSGSYCywacjEkdeSv4DC',\n  'album_name': 'MASHA ULTRAFUNK',\n  'no_of_tracks': 3,\n  'album_release_date': '2024-03-07',\n  'album_url': 'https://open.spotify.com/album/43DSGSYCywacjEkdeSv4DC'},\n {'album_id': '6dRJ8zaG9oTGrwpfu0Itld',\n  'album_name': 'z-beta 2',\n  'no_of_tracks': 4,\n  'album_release_date': '2025-01-03',\n  'album_url': 'https://open.spotify.com/album/6dRJ8zaG9oTGrwpfu0Itld'},\n {'album_id': '4yUHDMHDEl6Th3jPimciMz',\n  'album_name': 'MY TYPE',\n  'no_of_tracks': 5,\n  'album_release_date': '2025-01-03',\n  'album_url': 'https://open.spotify.com/album/4yUHDMHDEl6Th3jPimciMz'},\n {'album_id': '0yr5YRR7l813mmHITxmFWa',\n  'album_name': 'BLOODY!',\n  'no_of_tracks': 4,\n  'album_release_date': '2024-08-27',\n  'album_url': 'https://open.spotify.com/album/0yr5YRR7l813mmHITxmFWa'},\n {'album_id': '6OCivCvAUhsjgqn4EJXH87',\n  'album_name': 'freedom from self',\n  'no_of_tracks': 8,\n  'album_release_date': '2024-09-16',\n  'album_url': 'https://open.spotify.com/album/6OCivCvAUhsjgqn4EJXH87'},\n {'album_id': '572YC1K4uc7PjFqb6xaICD',\n  'album_name': 'BOUNCE FUNK (Slowed)',\n  'no_of_tracks': 1,\n  'album_release_date': '2025-02-15',\n  'album_url': 'https://open.spotify.com/album/572YC1K4uc7PjFqb6xaICD'},\n {'album_id': '5qaY84OJqYT635rMGeWBzJ',\n  'album_name': 'CUTE DEPRESSED',\n  'no_of_tracks': 1,\n  'album_release_date': '2024-02-02',\n  'album_url': 'https://open.spotify.com/album/5qaY84OJqYT635rMGeWBzJ'},\n {'album_id': '2JCCZCrAWvohxlUXRRz36I',\n  'album_name': 'COM MEDO!',\n  'no_of_tracks': 5,\n  'album_release_date': '2025-03-06',\n  'album_url': 'https://open.spotify.com/album/2JCCZCrAWvohxlUXRRz36I'},\n {'album_id': '3Aw43kkDlLE5ZXwQPGHWgO',\n  'album_name': 'MONTAGEM LADRAO',\n  'no_of_tracks': 5,\n  'album_release_date': '2025-02-05',\n  'album_url': 'https://open.spotify.com/album/3Aw43kkDlLE5ZXwQPGHWgO'},\n {'album_id': '1fsqVvld64Nym3Byfl6ekY',\n  'album_name': 'VOLKSWAGEN FUNK',\n  'no_of_tracks': 4,\n  'album_release_date': '2025-01-24',\n  'album_url': 'https://open.spotify.com/album/1fsqVvld64Nym3Byfl6ekY'},\n {'album_id': '7CWmZcjCHJWd7detYptzAX',\n  'album_name': 'LOS VOLTAJE',\n  'no_of_tracks': 5,\n  'album_release_date': '2025-04-11',\n  'album_url': 'https://open.spotify.com/album/7CWmZcjCHJWd7detYptzAX'},\n {'album_id': '0TwAp1jAUFp1PQtdDlDDW3',\n  'album_name': 'GHOST!',\n  'no_of_tracks': 1,\n  'album_release_date': '2022-12-02',\n  'album_url': 'https://open.spotify.com/album/0TwAp1jAUFp1PQtdDlDDW3'},\n {'album_id': '0JQT0alFPE0pKxgiLfhwYz',\n  'album_name': 'Montagem sombra estelar 1.0',\n  'no_of_tracks': 4,\n  'album_release_date': '2024-11-30',\n  'album_url': 'https://open.spotify.com/album/0JQT0alFPE0pKxgiLfhwYz'},\n {'album_id': '6mjnYcgnUPMXZpadY3ctr1',\n  'album_name': 'Scopin',\n  'no_of_tracks': 1,\n  'album_release_date': '2022-04-08',\n  'album_url': 'https://open.spotify.com/album/6mjnYcgnUPMXZpadY3ctr1'},\n {'album_id': '2VW8krMRkhGJmdlcHbyTfZ',\n  'album_name': 'MONTAGEM BAILÃO',\n  'no_of_tracks': 5,\n  'album_release_date': '2025-04-04',\n  'album_url': 'https://open.spotify.com/album/2VW8krMRkhGJmdlcHbyTfZ'},\n {'album_id': '1l8if9zQ8F0MEHVWYrMREe',\n  'album_name': 'Montagem Mysterious Game',\n  'no_of_tracks': 3,\n  'album_release_date': '2023-12-01',\n  'album_url': 'https://open.spotify.com/album/1l8if9zQ8F0MEHVWYrMREe'},\n {'album_id': '6s28IiIJ7ElbJfTPn03D6Y',\n  'album_name': 'THOMAS',\n  'no_of_tracks': 1,\n  'album_release_date': '2024-04-12',\n  'album_url': 'https://open.spotify.com/album/6s28IiIJ7ElbJfTPn03D6Y'},\n {'album_id': '4F2WvpcBhSzlbn3WIITz2B',\n  'album_name': 'MAZKO',\n  'no_of_tracks': 3,\n  'album_release_date': '2024-10-25',\n  'album_url': 'https://open.spotify.com/album/4F2WvpcBhSzlbn3WIITz2B'}]"
     ]
    }
   ],
   "source": [
    "album_list"
   ]
  },
  {
   "cell_type": "code",
   "execution_count": 0,
   "metadata": {
    "application/vnd.databricks.v1+cell": {
     "cellMetadata": {
      "byteLimit": 2048000,
      "rowLimit": 10000
     },
     "inputWidgets": {},
     "nuid": "a02a9b06-a353-42cf-88c9-6e7c2850dd55",
     "showTitle": false,
     "tableResultSettingsMap": {},
     "title": ""
    }
   },
   "outputs": [],
   "source": [
    "album_df=pd.DataFrame(album_list)"
   ]
  },
  {
   "cell_type": "code",
   "execution_count": 0,
   "metadata": {
    "application/vnd.databricks.v1+cell": {
     "cellMetadata": {
      "byteLimit": 2048000,
      "rowLimit": 10000
     },
     "inputWidgets": {},
     "nuid": "87f6e123-c0a8-47dd-a1dd-c976a36f3f89",
     "showTitle": false,
     "tableResultSettingsMap": {},
     "title": ""
    }
   },
   "outputs": [
    {
     "output_type": "display_data",
     "data": {
      "text/html": [
       "<div>\n",
       "<style scoped>\n",
       "    .dataframe tbody tr th:only-of-type {\n",
       "        vertical-align: middle;\n",
       "    }\n",
       "\n",
       "    .dataframe tbody tr th {\n",
       "        vertical-align: top;\n",
       "    }\n",
       "\n",
       "    .dataframe thead th {\n",
       "        text-align: right;\n",
       "    }\n",
       "</style>\n",
       "<table border=\"1\" class=\"dataframe\">\n",
       "  <thead>\n",
       "    <tr style=\"text-align: right;\">\n",
       "      <th></th>\n",
       "      <th>album_id</th>\n",
       "      <th>album_name</th>\n",
       "      <th>no_of_tracks</th>\n",
       "      <th>album_release_date</th>\n",
       "      <th>album_url</th>\n",
       "    </tr>\n",
       "  </thead>\n",
       "  <tbody>\n",
       "    <tr>\n",
       "      <th>0</th>\n",
       "      <td>6xUYw5goKIoyJQi9C27UBy</td>\n",
       "      <td>NUNCA MUDA?</td>\n",
       "      <td>6</td>\n",
       "      <td>2025-01-09</td>\n",
       "      <td>https://open.spotify.com/album/6xUYw5goKIoyJQi...</td>\n",
       "    </tr>\n",
       "    <tr>\n",
       "      <th>1</th>\n",
       "      <td>4s7LxMlh6RxgdMhldfMe8u</td>\n",
       "      <td>Funk de Beleza</td>\n",
       "      <td>3</td>\n",
       "      <td>2024-10-04</td>\n",
       "      <td>https://open.spotify.com/album/4s7LxMlh6RxgdMh...</td>\n",
       "    </tr>\n",
       "    <tr>\n",
       "      <th>2</th>\n",
       "      <td>5D17Gk0J7jPXLvWMszqijF</td>\n",
       "      <td>MONTAGEM TOMADA</td>\n",
       "      <td>4</td>\n",
       "      <td>2025-03-21</td>\n",
       "      <td>https://open.spotify.com/album/5D17Gk0J7jPXLvW...</td>\n",
       "    </tr>\n",
       "    <tr>\n",
       "      <th>3</th>\n",
       "      <td>6dNugoBYWvUDQDtLurImhw</td>\n",
       "      <td>X-TALI</td>\n",
       "      <td>1</td>\n",
       "      <td>2024-08-23</td>\n",
       "      <td>https://open.spotify.com/album/6dNugoBYWvUDQDt...</td>\n",
       "    </tr>\n",
       "    <tr>\n",
       "      <th>4</th>\n",
       "      <td>0XoyJmD8cp3L8ixHoW3lB6</td>\n",
       "      <td>MONTAGEM CONTIGO</td>\n",
       "      <td>4</td>\n",
       "      <td>2025-04-04</td>\n",
       "      <td>https://open.spotify.com/album/0XoyJmD8cp3L8ix...</td>\n",
       "    </tr>\n",
       "    <tr>\n",
       "      <th>5</th>\n",
       "      <td>1kmsUHDC0n611meNgzRkuw</td>\n",
       "      <td>FUNK UNIVERSO</td>\n",
       "      <td>4</td>\n",
       "      <td>2024-07-03</td>\n",
       "      <td>https://open.spotify.com/album/1kmsUHDC0n611me...</td>\n",
       "    </tr>\n",
       "    <tr>\n",
       "      <th>6</th>\n",
       "      <td>0I7096R74VFP2xnMmp33sY</td>\n",
       "      <td>PASSO BEM SOLTO</td>\n",
       "      <td>5</td>\n",
       "      <td>2024-04-23</td>\n",
       "      <td>https://open.spotify.com/album/0I7096R74VFP2xn...</td>\n",
       "    </tr>\n",
       "    <tr>\n",
       "      <th>7</th>\n",
       "      <td>62R2H85ZiKLp0lYHPprQWV</td>\n",
       "      <td>MTG - RITMO ZELDA</td>\n",
       "      <td>4</td>\n",
       "      <td>2024-06-28</td>\n",
       "      <td>https://open.spotify.com/album/62R2H85ZiKLp0lY...</td>\n",
       "    </tr>\n",
       "    <tr>\n",
       "      <th>8</th>\n",
       "      <td>4FRxgE6LA2UGJ5yz8diaI9</td>\n",
       "      <td>FUNKED UP</td>\n",
       "      <td>3</td>\n",
       "      <td>2024-01-19</td>\n",
       "      <td>https://open.spotify.com/album/4FRxgE6LA2UGJ5y...</td>\n",
       "    </tr>\n",
       "    <tr>\n",
       "      <th>9</th>\n",
       "      <td>3tSeUNn7yOQPEex7jwS9Bf</td>\n",
       "      <td>GLORY</td>\n",
       "      <td>3</td>\n",
       "      <td>2024-05-24</td>\n",
       "      <td>https://open.spotify.com/album/3tSeUNn7yOQPEex...</td>\n",
       "    </tr>\n",
       "  </tbody>\n",
       "</table>\n",
       "</div>"
      ]
     },
     "metadata": {
      "application/vnd.databricks.v1+output": {
       "addedWidgets": {},
       "arguments": {},
       "data": "<div>\n<style scoped>\n    .dataframe tbody tr th:only-of-type {\n        vertical-align: middle;\n    }\n\n    .dataframe tbody tr th {\n        vertical-align: top;\n    }\n\n    .dataframe thead th {\n        text-align: right;\n    }\n</style>\n<table border=\"1\" class=\"dataframe\">\n  <thead>\n    <tr style=\"text-align: right;\">\n      <th></th>\n      <th>album_id</th>\n      <th>album_name</th>\n      <th>no_of_tracks</th>\n      <th>album_release_date</th>\n      <th>album_url</th>\n    </tr>\n  </thead>\n  <tbody>\n    <tr>\n      <th>0</th>\n      <td>6xUYw5goKIoyJQi9C27UBy</td>\n      <td>NUNCA MUDA?</td>\n      <td>6</td>\n      <td>2025-01-09</td>\n      <td>https://open.spotify.com/album/6xUYw5goKIoyJQi...</td>\n    </tr>\n    <tr>\n      <th>1</th>\n      <td>4s7LxMlh6RxgdMhldfMe8u</td>\n      <td>Funk de Beleza</td>\n      <td>3</td>\n      <td>2024-10-04</td>\n      <td>https://open.spotify.com/album/4s7LxMlh6RxgdMh...</td>\n    </tr>\n    <tr>\n      <th>2</th>\n      <td>5D17Gk0J7jPXLvWMszqijF</td>\n      <td>MONTAGEM TOMADA</td>\n      <td>4</td>\n      <td>2025-03-21</td>\n      <td>https://open.spotify.com/album/5D17Gk0J7jPXLvW...</td>\n    </tr>\n    <tr>\n      <th>3</th>\n      <td>6dNugoBYWvUDQDtLurImhw</td>\n      <td>X-TALI</td>\n      <td>1</td>\n      <td>2024-08-23</td>\n      <td>https://open.spotify.com/album/6dNugoBYWvUDQDt...</td>\n    </tr>\n    <tr>\n      <th>4</th>\n      <td>0XoyJmD8cp3L8ixHoW3lB6</td>\n      <td>MONTAGEM CONTIGO</td>\n      <td>4</td>\n      <td>2025-04-04</td>\n      <td>https://open.spotify.com/album/0XoyJmD8cp3L8ix...</td>\n    </tr>\n    <tr>\n      <th>5</th>\n      <td>1kmsUHDC0n611meNgzRkuw</td>\n      <td>FUNK UNIVERSO</td>\n      <td>4</td>\n      <td>2024-07-03</td>\n      <td>https://open.spotify.com/album/1kmsUHDC0n611me...</td>\n    </tr>\n    <tr>\n      <th>6</th>\n      <td>0I7096R74VFP2xnMmp33sY</td>\n      <td>PASSO BEM SOLTO</td>\n      <td>5</td>\n      <td>2024-04-23</td>\n      <td>https://open.spotify.com/album/0I7096R74VFP2xn...</td>\n    </tr>\n    <tr>\n      <th>7</th>\n      <td>62R2H85ZiKLp0lYHPprQWV</td>\n      <td>MTG - RITMO ZELDA</td>\n      <td>4</td>\n      <td>2024-06-28</td>\n      <td>https://open.spotify.com/album/62R2H85ZiKLp0lY...</td>\n    </tr>\n    <tr>\n      <th>8</th>\n      <td>4FRxgE6LA2UGJ5yz8diaI9</td>\n      <td>FUNKED UP</td>\n      <td>3</td>\n      <td>2024-01-19</td>\n      <td>https://open.spotify.com/album/4FRxgE6LA2UGJ5y...</td>\n    </tr>\n    <tr>\n      <th>9</th>\n      <td>3tSeUNn7yOQPEex7jwS9Bf</td>\n      <td>GLORY</td>\n      <td>3</td>\n      <td>2024-05-24</td>\n      <td>https://open.spotify.com/album/3tSeUNn7yOQPEex...</td>\n    </tr>\n  </tbody>\n</table>\n</div>",
       "datasetInfos": [],
       "metadata": {},
       "removedWidgets": [],
       "textData": null,
       "type": "htmlSandbox"
      }
     },
     "output_type": "display_data"
    }
   ],
   "source": [
    "album_df.head(10)"
   ]
  },
  {
   "cell_type": "markdown",
   "metadata": {
    "application/vnd.databricks.v1+cell": {
     "cellMetadata": {
      "byteLimit": 2048000,
      "rowLimit": 10000
     },
     "inputWidgets": {},
     "nuid": "2042656c-9ace-4026-a64f-6866ed6af7cd",
     "showTitle": false,
     "tableResultSettingsMap": {},
     "title": ""
    }
   },
   "source": [
    "### Extracting \"artist\" Information from the json"
   ]
  },
  {
   "cell_type": "code",
   "execution_count": 0,
   "metadata": {
    "application/vnd.databricks.v1+cell": {
     "cellMetadata": {
      "byteLimit": 2048000,
      "rowLimit": 10000
     },
     "inputWidgets": {},
     "nuid": "73389977-177e-435b-b344-100e0b7f0335",
     "showTitle": false,
     "tableResultSettingsMap": {},
     "title": ""
    }
   },
   "outputs": [
    {
     "output_type": "stream",
     "name": "stdout",
     "output_type": "stream",
     "text": [
      "Out[29]: dict_keys(['external_urls', 'href', 'id', 'name', 'type', 'uri'])"
     ]
    }
   ],
   "source": [
    "data['items'][0]['track']['artists'][0].keys()"
   ]
  },
  {
   "cell_type": "code",
   "execution_count": 0,
   "metadata": {
    "application/vnd.databricks.v1+cell": {
     "cellMetadata": {
      "byteLimit": 2048000,
      "rowLimit": 10000
     },
     "inputWidgets": {},
     "nuid": "8687764c-0777-434c-a705-e28e28774101",
     "showTitle": false,
     "tableResultSettingsMap": {},
     "title": ""
    }
   },
   "outputs": [
    {
     "output_type": "stream",
     "name": "stdout",
     "output_type": "stream",
     "text": [
      "Out[30]: dict_keys(['added_at', 'added_by', 'is_local', 'primary_color', 'track', 'video_thumbnail'])"
     ]
    }
   ],
   "source": [
    "data['items'][0].keys()"
   ]
  },
  {
   "cell_type": "code",
   "execution_count": 0,
   "metadata": {
    "application/vnd.databricks.v1+cell": {
     "cellMetadata": {
      "byteLimit": 2048000,
      "rowLimit": 10000
     },
     "inputWidgets": {},
     "nuid": "87f67f8c-9c92-4c7a-ab4e-0a86817f4807",
     "showTitle": false,
     "tableResultSettingsMap": {},
     "title": ""
    }
   },
   "outputs": [
    {
     "output_type": "stream",
     "name": "stdout",
     "output_type": "stream",
     "text": [
      "Found 'track': Track 01\n"
     ]
    }
   ],
   "source": [
    "example = {  #example to understand the below loop\n",
    "    \"title\": \"Song A\",\n",
    "    \"track\": \"Track 01\",\n",
    "    \"artist\": \"Artist 1\"\n",
    "}\n",
    "\n",
    "for key, value in example.items():\n",
    "    if key == \"track\":\n",
    "        print(f\"Found 'track': {value}\")"
   ]
  },
  {
   "cell_type": "code",
   "execution_count": 0,
   "metadata": {
    "application/vnd.databricks.v1+cell": {
     "cellMetadata": {
      "byteLimit": 2048000,
      "rowLimit": 10000
     },
     "inputWidgets": {},
     "nuid": "f4580efd-c604-4c3a-9ede-a2c2d1b9bb51",
     "showTitle": false,
     "tableResultSettingsMap": {},
     "title": ""
    }
   },
   "outputs": [
    {
     "output_type": "stream",
     "name": "stdout",
     "output_type": "stream",
     "text": [
      "{'external_urls': {'spotify': 'https://open.spotify.com/artist/5dDNNq04RjKXFOADdHd6VX'}, 'href': 'https://api.spotify.com/v1/artists/5dDNNq04RjKXFOADdHd6VX', 'id': '5dDNNq04RjKXFOADdHd6VX', 'name': 'Scythermane', 'type': 'artist', 'uri': 'spotify:artist:5dDNNq04RjKXFOADdHd6VX'}\n{'external_urls': {'spotify': 'https://open.spotify.com/artist/7lAaAGxYxk2GH8cMbTEwAL'}, 'href': 'https://api.spotify.com/v1/artists/7lAaAGxYxk2GH8cMbTEwAL', 'id': '7lAaAGxYxk2GH8cMbTEwAL', 'name': 'NXGHT!', 'type': 'artist', 'uri': 'spotify:artist:7lAaAGxYxk2GH8cMbTEwAL'}\n{'external_urls': {'spotify': 'https://open.spotify.com/artist/14hsjenLEdvafsGkk2CEiF'}, 'href': 'https://api.spotify.com/v1/artists/14hsjenLEdvafsGkk2CEiF', 'id': '14hsjenLEdvafsGkk2CEiF', 'name': 'MC Fabinho da Osk', 'type': 'artist', 'uri': 'spotify:artist:14hsjenLEdvafsGkk2CEiF'}\n{'external_urls': {'spotify': 'https://open.spotify.com/artist/3g0UoyvaTaHUrfpHiRqsD1'}, 'href': 'https://api.spotify.com/v1/artists/3g0UoyvaTaHUrfpHiRqsD1', 'id': '3g0UoyvaTaHUrfpHiRqsD1', 'name': 'Nateki', 'type': 'artist', 'uri': 'spotify:artist:3g0UoyvaTaHUrfpHiRqsD1'}\n{'external_urls': {'spotify': 'https://open.spotify.com/artist/5dDNNq04RjKXFOADdHd6VX'}, 'href': 'https://api.spotify.com/v1/artists/5dDNNq04RjKXFOADdHd6VX', 'id': '5dDNNq04RjKXFOADdHd6VX', 'name': 'Scythermane', 'type': 'artist', 'uri': 'spotify:artist:5dDNNq04RjKXFOADdHd6VX'}\n{'external_urls': {'spotify': 'https://open.spotify.com/artist/10mKIVPFtg42JIvttHQrzr'}, 'href': 'https://api.spotify.com/v1/artists/10mKIVPFtg42JIvttHQrzr', 'id': '10mKIVPFtg42JIvttHQrzr', 'name': 'MC MAYAH', 'type': 'artist', 'uri': 'spotify:artist:10mKIVPFtg42JIvttHQrzr'}\n{'external_urls': {'spotify': 'https://open.spotify.com/artist/7kk9ucvRJim0NMM89Lml2Y'}, 'href': 'https://api.spotify.com/v1/artists/7kk9ucvRJim0NMM89Lml2Y', 'id': '7kk9ucvRJim0NMM89Lml2Y', 'name': 'MXZI', 'type': 'artist', 'uri': 'spotify:artist:7kk9ucvRJim0NMM89Lml2Y'}\n{'external_urls': {'spotify': 'https://open.spotify.com/artist/7qIgmxSjoXEeifSVDh8nIt'}, 'href': 'https://api.spotify.com/v1/artists/7qIgmxSjoXEeifSVDh8nIt', 'id': '7qIgmxSjoXEeifSVDh8nIt', 'name': 'MXCCREE', 'type': 'artist', 'uri': 'spotify:artist:7qIgmxSjoXEeifSVDh8nIt'}\n{'external_urls': {'spotify': 'https://open.spotify.com/artist/1dX1zejt24Ojiu0lX4T1ZM'}, 'href': 'https://api.spotify.com/v1/artists/1dX1zejt24Ojiu0lX4T1ZM', 'id': '1dX1zejt24Ojiu0lX4T1ZM', 'name': 'DJ GL3CHEKY', 'type': 'artist', 'uri': 'spotify:artist:1dX1zejt24Ojiu0lX4T1ZM'}\n{'external_urls': {'spotify': 'https://open.spotify.com/artist/0Vxqvpm9tpZcz6d4egDtjX'}, 'href': 'https://api.spotify.com/v1/artists/0Vxqvpm9tpZcz6d4egDtjX', 'id': '0Vxqvpm9tpZcz6d4egDtjX', 'name': 'MC PR', 'type': 'artist', 'uri': 'spotify:artist:0Vxqvpm9tpZcz6d4egDtjX'}\n{'external_urls': {'spotify': 'https://open.spotify.com/artist/0jrirfCZkRU3iA2sH9JEko'}, 'href': 'https://api.spotify.com/v1/artists/0jrirfCZkRU3iA2sH9JEko', 'id': '0jrirfCZkRU3iA2sH9JEko', 'name': 'Repsaj', 'type': 'artist', 'uri': 'spotify:artist:0jrirfCZkRU3iA2sH9JEko'}\n{'external_urls': {'spotify': 'https://open.spotify.com/artist/2vKxv2oKVSEJZ1VmuLUOvY'}, 'href': 'https://api.spotify.com/v1/artists/2vKxv2oKVSEJZ1VmuLUOvY', 'id': '2vKxv2oKVSEJZ1VmuLUOvY', 'name': 'Irokz', 'type': 'artist', 'uri': 'spotify:artist:2vKxv2oKVSEJZ1VmuLUOvY'}\n{'external_urls': {'spotify': 'https://open.spotify.com/artist/5SCDfg1YoEfI5gFtXqEWah'}, 'href': 'https://api.spotify.com/v1/artists/5SCDfg1YoEfI5gFtXqEWah', 'id': '5SCDfg1YoEfI5gFtXqEWah', 'name': 'ATLXS', 'type': 'artist', 'uri': 'spotify:artist:5SCDfg1YoEfI5gFtXqEWah'}\n{'external_urls': {'spotify': 'https://open.spotify.com/artist/2nGwC9QG6Hpw4fSDgNpn5n'}, 'href': 'https://api.spotify.com/v1/artists/2nGwC9QG6Hpw4fSDgNpn5n', 'id': '2nGwC9QG6Hpw4fSDgNpn5n', 'name': 'JXM', 'type': 'artist', 'uri': 'spotify:artist:2nGwC9QG6Hpw4fSDgNpn5n'}\n{'external_urls': {'spotify': 'https://open.spotify.com/artist/4DWPOsGWbW7sBHb1UuBvWs'}, 'href': 'https://api.spotify.com/v1/artists/4DWPOsGWbW7sBHb1UuBvWs', 'id': '4DWPOsGWbW7sBHb1UuBvWs', 'name': 'Polaris', 'type': 'artist', 'uri': 'spotify:artist:4DWPOsGWbW7sBHb1UuBvWs'}\n{'external_urls': {'spotify': 'https://open.spotify.com/artist/4nl0CCx6PpEOOr2Z2ThPdp'}, 'href': 'https://api.spotify.com/v1/artists/4nl0CCx6PpEOOr2Z2ThPdp', 'id': '4nl0CCx6PpEOOr2Z2ThPdp', 'name': 'xxanteria', 'type': 'artist', 'uri': 'spotify:artist:4nl0CCx6PpEOOr2Z2ThPdp'}\n{'external_urls': {'spotify': 'https://open.spotify.com/artist/6JjQbtAO09K7qBEW2pdX5s'}, 'href': 'https://api.spotify.com/v1/artists/6JjQbtAO09K7qBEW2pdX5s', 'id': '6JjQbtAO09K7qBEW2pdX5s', 'name': 'isq', 'type': 'artist', 'uri': 'spotify:artist:6JjQbtAO09K7qBEW2pdX5s'}\n{'external_urls': {'spotify': 'https://open.spotify.com/artist/1Sdc6ySbIvzO0X9vbyHzWm'}, 'href': 'https://api.spotify.com/v1/artists/1Sdc6ySbIvzO0X9vbyHzWm', 'id': '1Sdc6ySbIvzO0X9vbyHzWm', 'name': 'Ogryzek', 'type': 'artist', 'uri': 'spotify:artist:1Sdc6ySbIvzO0X9vbyHzWm'}\n{'external_urls': {'spotify': 'https://open.spotify.com/artist/1Sdc6ySbIvzO0X9vbyHzWm'}, 'href': 'https://api.spotify.com/v1/artists/1Sdc6ySbIvzO0X9vbyHzWm', 'id': '1Sdc6ySbIvzO0X9vbyHzWm', 'name': 'Ogryzek', 'type': 'artist', 'uri': 'spotify:artist:1Sdc6ySbIvzO0X9vbyHzWm'}\n{'external_urls': {'spotify': 'https://open.spotify.com/artist/1Sdc6ySbIvzO0X9vbyHzWm'}, 'href': 'https://api.spotify.com/v1/artists/1Sdc6ySbIvzO0X9vbyHzWm', 'id': '1Sdc6ySbIvzO0X9vbyHzWm', 'name': 'Ogryzek', 'type': 'artist', 'uri': 'spotify:artist:1Sdc6ySbIvzO0X9vbyHzWm'}\n{'external_urls': {'spotify': 'https://open.spotify.com/artist/09cKncAQn28NqTUORLMwSR'}, 'href': 'https://api.spotify.com/v1/artists/09cKncAQn28NqTUORLMwSR', 'id': '09cKncAQn28NqTUORLMwSR', 'name': 'Ariis', 'type': 'artist', 'uri': 'spotify:artist:09cKncAQn28NqTUORLMwSR'}\n{'external_urls': {'spotify': 'https://open.spotify.com/artist/2vPnS0IpayC2RVFuQA08R4'}, 'href': 'https://api.spotify.com/v1/artists/2vPnS0IpayC2RVFuQA08R4', 'id': '2vPnS0IpayC2RVFuQA08R4', 'name': '2KE', 'type': 'artist', 'uri': 'spotify:artist:2vPnS0IpayC2RVFuQA08R4'}\n{'external_urls': {'spotify': 'https://open.spotify.com/artist/4jM6R2LK78dVTqHVUoA4li'}, 'href': 'https://api.spotify.com/v1/artists/4jM6R2LK78dVTqHVUoA4li', 'id': '4jM6R2LK78dVTqHVUoA4li', 'name': '808iuli', 'type': 'artist', 'uri': 'spotify:artist:4jM6R2LK78dVTqHVUoA4li'}\n{'external_urls': {'spotify': 'https://open.spotify.com/artist/5tvPbCrx8LMaL9Zby5e7c2'}, 'href': 'https://api.spotify.com/v1/artists/5tvPbCrx8LMaL9Zby5e7c2', 'id': '5tvPbCrx8LMaL9Zby5e7c2', 'name': 'fennecxx', 'type': 'artist', 'uri': 'spotify:artist:5tvPbCrx8LMaL9Zby5e7c2'}\n{'external_urls': {'spotify': 'https://open.spotify.com/artist/7FqHcUwnhxJZAgS3I6GFFL'}, 'href': 'https://api.spotify.com/v1/artists/7FqHcUwnhxJZAgS3I6GFFL', 'id': '7FqHcUwnhxJZAgS3I6GFFL', 'name': 'DJ ALEX', 'type': 'artist', 'uri': 'spotify:artist:7FqHcUwnhxJZAgS3I6GFFL'}\n{'external_urls': {'spotify': 'https://open.spotify.com/artist/02wf6SCDwrs2qTX09X0IRE'}, 'href': 'https://api.spotify.com/v1/artists/02wf6SCDwrs2qTX09X0IRE', 'id': '02wf6SCDwrs2qTX09X0IRE', 'name': \"Yb Wasg'ood\", 'type': 'artist', 'uri': 'spotify:artist:02wf6SCDwrs2qTX09X0IRE'}\n{'external_urls': {'spotify': 'https://open.spotify.com/artist/09cKncAQn28NqTUORLMwSR'}, 'href': 'https://api.spotify.com/v1/artists/09cKncAQn28NqTUORLMwSR', 'id': '09cKncAQn28NqTUORLMwSR', 'name': 'Ariis', 'type': 'artist', 'uri': 'spotify:artist:09cKncAQn28NqTUORLMwSR'}\n{'external_urls': {'spotify': 'https://open.spotify.com/artist/0oGN0s7dqyWbR41yMsNs0R'}, 'href': 'https://api.spotify.com/v1/artists/0oGN0s7dqyWbR41yMsNs0R', 'id': '0oGN0s7dqyWbR41yMsNs0R', 'name': 'princce', 'type': 'artist', 'uri': 'spotify:artist:0oGN0s7dqyWbR41yMsNs0R'}\n{'external_urls': {'spotify': 'https://open.spotify.com/artist/2YXKTfoEjKVzCNI0J6rHbQ'}, 'href': 'https://api.spotify.com/v1/artists/2YXKTfoEjKVzCNI0J6rHbQ', 'id': '2YXKTfoEjKVzCNI0J6rHbQ', 'name': 'FR3ST', 'type': 'artist', 'uri': 'spotify:artist:2YXKTfoEjKVzCNI0J6rHbQ'}\n{'external_urls': {'spotify': 'https://open.spotify.com/artist/3qycxIGAHj1KyoAQ6PGCO6'}, 'href': 'https://api.spotify.com/v1/artists/3qycxIGAHj1KyoAQ6PGCO6', 'id': '3qycxIGAHj1KyoAQ6PGCO6', 'name': 'Seek', 'type': 'artist', 'uri': 'spotify:artist:3qycxIGAHj1KyoAQ6PGCO6'}\n{'external_urls': {'spotify': 'https://open.spotify.com/artist/1nccv1GNVkBdvsYi2FB5FB'}, 'href': 'https://api.spotify.com/v1/artists/1nccv1GNVkBdvsYi2FB5FB', 'id': '1nccv1GNVkBdvsYi2FB5FB', 'name': 'NUEKI', 'type': 'artist', 'uri': 'spotify:artist:1nccv1GNVkBdvsYi2FB5FB'}\n{'external_urls': {'spotify': 'https://open.spotify.com/artist/23P2mSsBpPkfR9fTrOc1a4'}, 'href': 'https://api.spotify.com/v1/artists/23P2mSsBpPkfR9fTrOc1a4', 'id': '23P2mSsBpPkfR9fTrOc1a4', 'name': 'TOLCHONOV', 'type': 'artist', 'uri': 'spotify:artist:23P2mSsBpPkfR9fTrOc1a4'}\n{'external_urls': {'spotify': 'https://open.spotify.com/artist/700c9Qz2z6HZKTumeliKAw'}, 'href': 'https://api.spotify.com/v1/artists/700c9Qz2z6HZKTumeliKAw', 'id': '700c9Qz2z6HZKTumeliKAw', 'name': 'LONOWN', 'type': 'artist', 'uri': 'spotify:artist:700c9Qz2z6HZKTumeliKAw'}\n{'external_urls': {'spotify': 'https://open.spotify.com/artist/19P1EvDdYzg1ICEyiAEk4m'}, 'href': 'https://api.spotify.com/v1/artists/19P1EvDdYzg1ICEyiAEk4m', 'id': '19P1EvDdYzg1ICEyiAEk4m', 'name': 'DJ BRYAN 7', 'type': 'artist', 'uri': 'spotify:artist:19P1EvDdYzg1ICEyiAEk4m'}\n{'external_urls': {'spotify': 'https://open.spotify.com/artist/4ziGmZKhRvzoP0De6vcXGt'}, 'href': 'https://api.spotify.com/v1/artists/4ziGmZKhRvzoP0De6vcXGt', 'id': '4ziGmZKhRvzoP0De6vcXGt', 'name': 'DJIEGO', 'type': 'artist', 'uri': 'spotify:artist:4ziGmZKhRvzoP0De6vcXGt'}\n{'external_urls': {'spotify': 'https://open.spotify.com/artist/12PDaXrPNMYQsQLnSnDaSS'}, 'href': 'https://api.spotify.com/v1/artists/12PDaXrPNMYQsQLnSnDaSS', 'id': '12PDaXrPNMYQsQLnSnDaSS', 'name': 'Maxximo Dj', 'type': 'artist', 'uri': 'spotify:artist:12PDaXrPNMYQsQLnSnDaSS'}\n{'external_urls': {'spotify': 'https://open.spotify.com/artist/62D4KEvQMmmK88mTkkWx6Q'}, 'href': 'https://api.spotify.com/v1/artists/62D4KEvQMmmK88mTkkWx6Q', 'id': '62D4KEvQMmmK88mTkkWx6Q', 'name': 'RD12', 'type': 'artist', 'uri': 'spotify:artist:62D4KEvQMmmK88mTkkWx6Q'}\n{'external_urls': {'spotify': 'https://open.spotify.com/artist/6s4LSwgbzTAfnN6OUfegJB'}, 'href': 'https://api.spotify.com/v1/artists/6s4LSwgbzTAfnN6OUfegJB', 'id': '6s4LSwgbzTAfnN6OUfegJB', 'name': 'Sayfalse', 'type': 'artist', 'uri': 'spotify:artist:6s4LSwgbzTAfnN6OUfegJB'}\n{'external_urls': {'spotify': 'https://open.spotify.com/artist/4nl0CCx6PpEOOr2Z2ThPdp'}, 'href': 'https://api.spotify.com/v1/artists/4nl0CCx6PpEOOr2Z2ThPdp', 'id': '4nl0CCx6PpEOOr2Z2ThPdp', 'name': 'xxanteria', 'type': 'artist', 'uri': 'spotify:artist:4nl0CCx6PpEOOr2Z2ThPdp'}\n{'external_urls': {'spotify': 'https://open.spotify.com/artist/6BWtcMF39LT5Db5FT54YYG'}, 'href': 'https://api.spotify.com/v1/artists/6BWtcMF39LT5Db5FT54YYG', 'id': '6BWtcMF39LT5Db5FT54YYG', 'name': 'NCTS', 'type': 'artist', 'uri': 'spotify:artist:6BWtcMF39LT5Db5FT54YYG'}\n{'external_urls': {'spotify': 'https://open.spotify.com/artist/6rzNFUmaEVnYb8kzh9tBTt'}, 'href': 'https://api.spotify.com/v1/artists/6rzNFUmaEVnYb8kzh9tBTt', 'id': '6rzNFUmaEVnYb8kzh9tBTt', 'name': 'CURSEDEVIL', 'type': 'artist', 'uri': 'spotify:artist:6rzNFUmaEVnYb8kzh9tBTt'}\n{'external_urls': {'spotify': 'https://open.spotify.com/artist/3QMpCp3GHiHXgnX1LldXWe'}, 'href': 'https://api.spotify.com/v1/artists/3QMpCp3GHiHXgnX1LldXWe', 'id': '3QMpCp3GHiHXgnX1LldXWe', 'name': 'DJ FKU', 'type': 'artist', 'uri': 'spotify:artist:3QMpCp3GHiHXgnX1LldXWe'}\n{'external_urls': {'spotify': 'https://open.spotify.com/artist/3voCipmmrW5uF4EMA6aSbj'}, 'href': 'https://api.spotify.com/v1/artists/3voCipmmrW5uF4EMA6aSbj', 'id': '3voCipmmrW5uF4EMA6aSbj', 'name': 'Skorde', 'type': 'artist', 'uri': 'spotify:artist:3voCipmmrW5uF4EMA6aSbj'}\n{'external_urls': {'spotify': 'https://open.spotify.com/artist/3rt96VXGtEgD4uSOJ6B69H'}, 'href': 'https://api.spotify.com/v1/artists/3rt96VXGtEgD4uSOJ6B69H', 'id': '3rt96VXGtEgD4uSOJ6B69H', 'name': 'TRASHXRL', 'type': 'artist', 'uri': 'spotify:artist:3rt96VXGtEgD4uSOJ6B69H'}\n{'external_urls': {'spotify': 'https://open.spotify.com/artist/3l4fsEzoeabsET7ddv0lZW'}, 'href': 'https://api.spotify.com/v1/artists/3l4fsEzoeabsET7ddv0lZW', 'id': '3l4fsEzoeabsET7ddv0lZW', 'name': 'Mc Delux', 'type': 'artist', 'uri': 'spotify:artist:3l4fsEzoeabsET7ddv0lZW'}\n{'external_urls': {'spotify': 'https://open.spotify.com/artist/5IpS1TN1Crp8Ym4zjiIrtK'}, 'href': 'https://api.spotify.com/v1/artists/5IpS1TN1Crp8Ym4zjiIrtK', 'id': '5IpS1TN1Crp8Ym4zjiIrtK', 'name': 'LXNGVX', 'type': 'artist', 'uri': 'spotify:artist:5IpS1TN1Crp8Ym4zjiIrtK'}\n{'external_urls': {'spotify': 'https://open.spotify.com/artist/6kLsCQ1gKvJmjmC8XbfqFE'}, 'href': 'https://api.spotify.com/v1/artists/6kLsCQ1gKvJmjmC8XbfqFE', 'id': '6kLsCQ1gKvJmjmC8XbfqFE', 'name': 'VISXGE', 'type': 'artist', 'uri': 'spotify:artist:6kLsCQ1gKvJmjmC8XbfqFE'}\n{'external_urls': {'spotify': 'https://open.spotify.com/artist/5AviPhK4XqgGjtTa0m9aQc'}, 'href': 'https://api.spotify.com/v1/artists/5AviPhK4XqgGjtTa0m9aQc', 'id': '5AviPhK4XqgGjtTa0m9aQc', 'name': 'NAOMI', 'type': 'artist', 'uri': 'spotify:artist:5AviPhK4XqgGjtTa0m9aQc'}\n{'external_urls': {'spotify': 'https://open.spotify.com/artist/3rt96VXGtEgD4uSOJ6B69H'}, 'href': 'https://api.spotify.com/v1/artists/3rt96VXGtEgD4uSOJ6B69H', 'id': '3rt96VXGtEgD4uSOJ6B69H', 'name': 'TRASHXRL', 'type': 'artist', 'uri': 'spotify:artist:3rt96VXGtEgD4uSOJ6B69H'}\n{'external_urls': {'spotify': 'https://open.spotify.com/artist/0ivrHNM8urVaCkgRX8rtKH'}, 'href': 'https://api.spotify.com/v1/artists/0ivrHNM8urVaCkgRX8rtKH', 'id': '0ivrHNM8urVaCkgRX8rtKH', 'name': 'Mc Menor Do Alvorada', 'type': 'artist', 'uri': 'spotify:artist:0ivrHNM8urVaCkgRX8rtKH'}\n{'external_urls': {'spotify': 'https://open.spotify.com/artist/65FHTCI8EmW94W0TdWb8ja'}, 'href': 'https://api.spotify.com/v1/artists/65FHTCI8EmW94W0TdWb8ja', 'id': '65FHTCI8EmW94W0TdWb8ja', 'name': 'Slowboy', 'type': 'artist', 'uri': 'spotify:artist:65FHTCI8EmW94W0TdWb8ja'}\n{'external_urls': {'spotify': 'https://open.spotify.com/artist/1nccv1GNVkBdvsYi2FB5FB'}, 'href': 'https://api.spotify.com/v1/artists/1nccv1GNVkBdvsYi2FB5FB', 'id': '1nccv1GNVkBdvsYi2FB5FB', 'name': 'NUEKI', 'type': 'artist', 'uri': 'spotify:artist:1nccv1GNVkBdvsYi2FB5FB'}\n{'external_urls': {'spotify': 'https://open.spotify.com/artist/6QwlKB1hO357wh5oNuuInl'}, 'href': 'https://api.spotify.com/v1/artists/6QwlKB1hO357wh5oNuuInl', 'id': '6QwlKB1hO357wh5oNuuInl', 'name': 'Crazy Mano', 'type': 'artist', 'uri': 'spotify:artist:6QwlKB1hO357wh5oNuuInl'}\n{'external_urls': {'spotify': 'https://open.spotify.com/artist/23P2mSsBpPkfR9fTrOc1a4'}, 'href': 'https://api.spotify.com/v1/artists/23P2mSsBpPkfR9fTrOc1a4', 'id': '23P2mSsBpPkfR9fTrOc1a4', 'name': 'TOLCHONOV', 'type': 'artist', 'uri': 'spotify:artist:23P2mSsBpPkfR9fTrOc1a4'}\n{'external_urls': {'spotify': 'https://open.spotify.com/artist/6ZhleMHIGIpjkBHrQDl4G7'}, 'href': 'https://api.spotify.com/v1/artists/6ZhleMHIGIpjkBHrQDl4G7', 'id': '6ZhleMHIGIpjkBHrQDl4G7', 'name': 'DYGO', 'type': 'artist', 'uri': 'spotify:artist:6ZhleMHIGIpjkBHrQDl4G7'}\n{'external_urls': {'spotify': 'https://open.spotify.com/artist/1KoTNs0Ev2KGs7AF5lWlx3'}, 'href': 'https://api.spotify.com/v1/artists/1KoTNs0Ev2KGs7AF5lWlx3', 'id': '1KoTNs0Ev2KGs7AF5lWlx3', 'name': 'Mxng0', 'type': 'artist', 'uri': 'spotify:artist:1KoTNs0Ev2KGs7AF5lWlx3'}\n{'external_urls': {'spotify': 'https://open.spotify.com/artist/07MaeHw0cyfmgQ9D9I61UT'}, 'href': 'https://api.spotify.com/v1/artists/07MaeHw0cyfmgQ9D9I61UT', 'id': '07MaeHw0cyfmgQ9D9I61UT', 'name': 'DJ JEEAN 011', 'type': 'artist', 'uri': 'spotify:artist:07MaeHw0cyfmgQ9D9I61UT'}\n{'external_urls': {'spotify': 'https://open.spotify.com/artist/7vfisrjZ6AMRo5vNVLP3qQ'}, 'href': 'https://api.spotify.com/v1/artists/7vfisrjZ6AMRo5vNVLP3qQ', 'id': '7vfisrjZ6AMRo5vNVLP3qQ', 'name': 'MC BM OFICIAL', 'type': 'artist', 'uri': 'spotify:artist:7vfisrjZ6AMRo5vNVLP3qQ'}\n{'external_urls': {'spotify': 'https://open.spotify.com/artist/0exQbKNFd9pLmdIGycwmlf'}, 'href': 'https://api.spotify.com/v1/artists/0exQbKNFd9pLmdIGycwmlf', 'id': '0exQbKNFd9pLmdIGycwmlf', 'name': 'h6itam', 'type': 'artist', 'uri': 'spotify:artist:0exQbKNFd9pLmdIGycwmlf'}\n{'external_urls': {'spotify': 'https://open.spotify.com/artist/4o5PswOvXGSq0y5BqZTR9n'}, 'href': 'https://api.spotify.com/v1/artists/4o5PswOvXGSq0y5BqZTR9n', 'id': '4o5PswOvXGSq0y5BqZTR9n', 'name': 'STRAWANGLE', 'type': 'artist', 'uri': 'spotify:artist:4o5PswOvXGSq0y5BqZTR9n'}\n{'external_urls': {'spotify': 'https://open.spotify.com/artist/2JrpgVMFW3Hpe1CwLaAORl'}, 'href': 'https://api.spotify.com/v1/artists/2JrpgVMFW3Hpe1CwLaAORl', 'id': '2JrpgVMFW3Hpe1CwLaAORl', 'name': 'MC RP VK', 'type': 'artist', 'uri': 'spotify:artist:2JrpgVMFW3Hpe1CwLaAORl'}\n{'external_urls': {'spotify': 'https://open.spotify.com/artist/2ge1WtiBqengw0nAnq94Zo'}, 'href': 'https://api.spotify.com/v1/artists/2ge1WtiBqengw0nAnq94Zo', 'id': '2ge1WtiBqengw0nAnq94Zo', 'name': 'MC Da 12', 'type': 'artist', 'uri': 'spotify:artist:2ge1WtiBqengw0nAnq94Zo'}\n{'external_urls': {'spotify': 'https://open.spotify.com/artist/6JjQbtAO09K7qBEW2pdX5s'}, 'href': 'https://api.spotify.com/v1/artists/6JjQbtAO09K7qBEW2pdX5s', 'id': '6JjQbtAO09K7qBEW2pdX5s', 'name': 'isq', 'type': 'artist', 'uri': 'spotify:artist:6JjQbtAO09K7qBEW2pdX5s'}\n{'external_urls': {'spotify': 'https://open.spotify.com/artist/7lAaAGxYxk2GH8cMbTEwAL'}, 'href': 'https://api.spotify.com/v1/artists/7lAaAGxYxk2GH8cMbTEwAL', 'id': '7lAaAGxYxk2GH8cMbTEwAL', 'name': 'NXGHT!', 'type': 'artist', 'uri': 'spotify:artist:7lAaAGxYxk2GH8cMbTEwAL'}\n{'external_urls': {'spotify': 'https://open.spotify.com/artist/3wQNcarvRuzhz2Fg1pVDxZ'}, 'href': 'https://api.spotify.com/v1/artists/3wQNcarvRuzhz2Fg1pVDxZ', 'id': '3wQNcarvRuzhz2Fg1pVDxZ', 'name': 'DJ ANXVAR', 'type': 'artist', 'uri': 'spotify:artist:3wQNcarvRuzhz2Fg1pVDxZ'}\n{'external_urls': {'spotify': 'https://open.spotify.com/artist/1HJglK87YzctjxETSJqh64'}, 'href': 'https://api.spotify.com/v1/artists/1HJglK87YzctjxETSJqh64', 'id': '1HJglK87YzctjxETSJqh64', 'name': 'DJ ZAP', 'type': 'artist', 'uri': 'spotify:artist:1HJglK87YzctjxETSJqh64'}\n{'external_urls': {'spotify': 'https://open.spotify.com/artist/4H61c3XQu4PswXGtB0MJ6N'}, 'href': 'https://api.spotify.com/v1/artists/4H61c3XQu4PswXGtB0MJ6N', 'id': '4H61c3XQu4PswXGtB0MJ6N', 'name': 'Hexora', 'type': 'artist', 'uri': 'spotify:artist:4H61c3XQu4PswXGtB0MJ6N'}\n{'external_urls': {'spotify': 'https://open.spotify.com/artist/6WCBS0WuEBBtdV7TZMtCnh'}, 'href': 'https://api.spotify.com/v1/artists/6WCBS0WuEBBtdV7TZMtCnh', 'id': '6WCBS0WuEBBtdV7TZMtCnh', 'name': 'Artox', 'type': 'artist', 'uri': 'spotify:artist:6WCBS0WuEBBtdV7TZMtCnh'}\n{'external_urls': {'spotify': 'https://open.spotify.com/artist/4epIlGy9RGEMdrfSXS2HEc'}, 'href': 'https://api.spotify.com/v1/artists/4epIlGy9RGEMdrfSXS2HEc', 'id': '4epIlGy9RGEMdrfSXS2HEc', 'name': 'Alert', 'type': 'artist', 'uri': 'spotify:artist:4epIlGy9RGEMdrfSXS2HEc'}\n{'external_urls': {'spotify': 'https://open.spotify.com/artist/5Vd9shhZpzTYaaZ6KQNnjU'}, 'href': 'https://api.spotify.com/v1/artists/5Vd9shhZpzTYaaZ6KQNnjU', 'id': '5Vd9shhZpzTYaaZ6KQNnjU', 'name': 'GLXXMSTRIDER', 'type': 'artist', 'uri': 'spotify:artist:5Vd9shhZpzTYaaZ6KQNnjU'}\n{'external_urls': {'spotify': 'https://open.spotify.com/artist/3Xd2WSaNywx5gn1pgRPFjF'}, 'href': 'https://api.spotify.com/v1/artists/3Xd2WSaNywx5gn1pgRPFjF', 'id': '3Xd2WSaNywx5gn1pgRPFjF', 'name': 'Eternxlkz', 'type': 'artist', 'uri': 'spotify:artist:3Xd2WSaNywx5gn1pgRPFjF'}\n{'external_urls': {'spotify': 'https://open.spotify.com/artist/648ZoUpTM6iIMTCgo3lLCE'}, 'href': 'https://api.spotify.com/v1/artists/648ZoUpTM6iIMTCgo3lLCE', 'id': '648ZoUpTM6iIMTCgo3lLCE', 'name': 'DJ Paulinho Mondi Da Baixa Baviera', 'type': 'artist', 'uri': 'spotify:artist:648ZoUpTM6iIMTCgo3lLCE'}\n{'external_urls': {'spotify': 'https://open.spotify.com/artist/0sjGfRBmq6lKmUNgt8Ptic'}, 'href': 'https://api.spotify.com/v1/artists/0sjGfRBmq6lKmUNgt8Ptic', 'id': '0sjGfRBmq6lKmUNgt8Ptic', 'name': 'Mc Vitorioso', 'type': 'artist', 'uri': 'spotify:artist:0sjGfRBmq6lKmUNgt8Ptic'}\n{'external_urls': {'spotify': 'https://open.spotify.com/artist/60vF1fLR6yzLxCQUlnAYYj'}, 'href': 'https://api.spotify.com/v1/artists/60vF1fLR6yzLxCQUlnAYYj', 'id': '60vF1fLR6yzLxCQUlnAYYj', 'name': '$werve', 'type': 'artist', 'uri': 'spotify:artist:60vF1fLR6yzLxCQUlnAYYj'}\n{'external_urls': {'spotify': 'https://open.spotify.com/artist/5UKXrvmyouEgmvon7DwwzA'}, 'href': 'https://api.spotify.com/v1/artists/5UKXrvmyouEgmvon7DwwzA', 'id': '5UKXrvmyouEgmvon7DwwzA', 'name': 'FXRCE', 'type': 'artist', 'uri': 'spotify:artist:5UKXrvmyouEgmvon7DwwzA'}\n{'external_urls': {'spotify': 'https://open.spotify.com/artist/7dUNKhz7HdxExteqcREGLi'}, 'href': 'https://api.spotify.com/v1/artists/7dUNKhz7HdxExteqcREGLi', 'id': '7dUNKhz7HdxExteqcREGLi', 'name': 'Mc Denny', 'type': 'artist', 'uri': 'spotify:artist:7dUNKhz7HdxExteqcREGLi'}\n{'external_urls': {'spotify': 'https://open.spotify.com/artist/1yTrrABG9Vr2Y9lbHupN3f'}, 'href': 'https://api.spotify.com/v1/artists/1yTrrABG9Vr2Y9lbHupN3f', 'id': '1yTrrABG9Vr2Y9lbHupN3f', 'name': 'DJ Vilão DS', 'type': 'artist', 'uri': 'spotify:artist:1yTrrABG9Vr2Y9lbHupN3f'}\n{'external_urls': {'spotify': 'https://open.spotify.com/artist/4kEtpjbEnSh4WNeLF1IeG7'}, 'href': 'https://api.spotify.com/v1/artists/4kEtpjbEnSh4WNeLF1IeG7', 'id': '4kEtpjbEnSh4WNeLF1IeG7', 'name': 'MC Zudo Boladão', 'type': 'artist', 'uri': 'spotify:artist:4kEtpjbEnSh4WNeLF1IeG7'}\n{'external_urls': {'spotify': 'https://open.spotify.com/artist/3LfT6BvsnMomxucwVAXGiF'}, 'href': 'https://api.spotify.com/v1/artists/3LfT6BvsnMomxucwVAXGiF', 'id': '3LfT6BvsnMomxucwVAXGiF', 'name': 'DJ Magrin Da DZ7', 'type': 'artist', 'uri': 'spotify:artist:3LfT6BvsnMomxucwVAXGiF'}\n{'external_urls': {'spotify': 'https://open.spotify.com/artist/2dZI1nDPMCgcymfUeLIObc'}, 'href': 'https://api.spotify.com/v1/artists/2dZI1nDPMCgcymfUeLIObc', 'id': '2dZI1nDPMCgcymfUeLIObc', 'name': 'MC PH77', 'type': 'artist', 'uri': 'spotify:artist:2dZI1nDPMCgcymfUeLIObc'}\n{'external_urls': {'spotify': 'https://open.spotify.com/artist/4RsEAdLhbUy7j3zHWauPwF'}, 'href': 'https://api.spotify.com/v1/artists/4RsEAdLhbUy7j3zHWauPwF', 'id': '4RsEAdLhbUy7j3zHWauPwF', 'name': 'BLESSED MANE', 'type': 'artist', 'uri': 'spotify:artist:4RsEAdLhbUy7j3zHWauPwF'}\n{'external_urls': {'spotify': 'https://open.spotify.com/artist/5IpS1TN1Crp8Ym4zjiIrtK'}, 'href': 'https://api.spotify.com/v1/artists/5IpS1TN1Crp8Ym4zjiIrtK', 'id': '5IpS1TN1Crp8Ym4zjiIrtK', 'name': 'LXNGVX', 'type': 'artist', 'uri': 'spotify:artist:5IpS1TN1Crp8Ym4zjiIrtK'}\n{'external_urls': {'spotify': 'https://open.spotify.com/artist/0f1IECbrVV952unZkzrsg2'}, 'href': 'https://api.spotify.com/v1/artists/0f1IECbrVV952unZkzrsg2', 'id': '0f1IECbrVV952unZkzrsg2', 'name': 'Mc Gw', 'type': 'artist', 'uri': 'spotify:artist:0f1IECbrVV952unZkzrsg2'}\n{'external_urls': {'spotify': 'https://open.spotify.com/artist/1iKfUld50BOVBIgHy3GlGt'}, 'href': 'https://api.spotify.com/v1/artists/1iKfUld50BOVBIgHy3GlGt', 'id': '1iKfUld50BOVBIgHy3GlGt', 'name': 'DJ CEREJASS', 'type': 'artist', 'uri': 'spotify:artist:1iKfUld50BOVBIgHy3GlGt'}\n{'external_urls': {'spotify': 'https://open.spotify.com/artist/6s4LSwgbzTAfnN6OUfegJB'}, 'href': 'https://api.spotify.com/v1/artists/6s4LSwgbzTAfnN6OUfegJB', 'id': '6s4LSwgbzTAfnN6OUfegJB', 'name': 'Sayfalse', 'type': 'artist', 'uri': 'spotify:artist:6s4LSwgbzTAfnN6OUfegJB'}\n{'external_urls': {'spotify': 'https://open.spotify.com/artist/09cKncAQn28NqTUORLMwSR'}, 'href': 'https://api.spotify.com/v1/artists/09cKncAQn28NqTUORLMwSR', 'id': '09cKncAQn28NqTUORLMwSR', 'name': 'Ariis', 'type': 'artist', 'uri': 'spotify:artist:09cKncAQn28NqTUORLMwSR'}\n{'external_urls': {'spotify': 'https://open.spotify.com/artist/3uA4unR7LBOcqjpbOeCs0Y'}, 'href': 'https://api.spotify.com/v1/artists/3uA4unR7LBOcqjpbOeCs0Y', 'id': '3uA4unR7LBOcqjpbOeCs0Y', 'name': '-Prey', 'type': 'artist', 'uri': 'spotify:artist:3uA4unR7LBOcqjpbOeCs0Y'}\n{'external_urls': {'spotify': 'https://open.spotify.com/artist/1TTHC3GlNDaE5eVoC3BVxm'}, 'href': 'https://api.spotify.com/v1/artists/1TTHC3GlNDaE5eVoC3BVxm', 'id': '1TTHC3GlNDaE5eVoC3BVxm', 'name': 'Lumi Athena', 'type': 'artist', 'uri': 'spotify:artist:1TTHC3GlNDaE5eVoC3BVxm'}\n{'external_urls': {'spotify': 'https://open.spotify.com/artist/3yn6fs9MkW1i4V3S2G8Dxs'}, 'href': 'https://api.spotify.com/v1/artists/3yn6fs9MkW1i4V3S2G8Dxs', 'id': '3yn6fs9MkW1i4V3S2G8Dxs', 'name': 'vtze archive', 'type': 'artist', 'uri': 'spotify:artist:3yn6fs9MkW1i4V3S2G8Dxs'}\n{'external_urls': {'spotify': 'https://open.spotify.com/artist/2RqjTHL40djgpNGG2LS9O0'}, 'href': 'https://api.spotify.com/v1/artists/2RqjTHL40djgpNGG2LS9O0', 'id': '2RqjTHL40djgpNGG2LS9O0', 'name': 'Mc Ster', 'type': 'artist', 'uri': 'spotify:artist:2RqjTHL40djgpNGG2LS9O0'}\n{'external_urls': {'spotify': 'https://open.spotify.com/artist/3QMpCp3GHiHXgnX1LldXWe'}, 'href': 'https://api.spotify.com/v1/artists/3QMpCp3GHiHXgnX1LldXWe', 'id': '3QMpCp3GHiHXgnX1LldXWe', 'name': 'DJ FKU', 'type': 'artist', 'uri': 'spotify:artist:3QMpCp3GHiHXgnX1LldXWe'}\n{'external_urls': {'spotify': 'https://open.spotify.com/artist/3wQNcarvRuzhz2Fg1pVDxZ'}, 'href': 'https://api.spotify.com/v1/artists/3wQNcarvRuzhz2Fg1pVDxZ', 'id': '3wQNcarvRuzhz2Fg1pVDxZ', 'name': 'DJ ANXVAR', 'type': 'artist', 'uri': 'spotify:artist:3wQNcarvRuzhz2Fg1pVDxZ'}\n{'external_urls': {'spotify': 'https://open.spotify.com/artist/1nzIoHG5B7klgAPdwjqRDj'}, 'href': 'https://api.spotify.com/v1/artists/1nzIoHG5B7klgAPdwjqRDj', 'id': '1nzIoHG5B7klgAPdwjqRDj', 'name': 'MC LONE', 'type': 'artist', 'uri': 'spotify:artist:1nzIoHG5B7klgAPdwjqRDj'}\n{'external_urls': {'spotify': 'https://open.spotify.com/artist/1PvcWjADPMezv8CTyJO9Uk'}, 'href': 'https://api.spotify.com/v1/artists/1PvcWjADPMezv8CTyJO9Uk', 'id': '1PvcWjADPMezv8CTyJO9Uk', 'name': 'Vermillion', 'type': 'artist', 'uri': 'spotify:artist:1PvcWjADPMezv8CTyJO9Uk'}\n{'external_urls': {'spotify': 'https://open.spotify.com/artist/4cM6xcafBAbS9bOa8kAjRj'}, 'href': 'https://api.spotify.com/v1/artists/4cM6xcafBAbS9bOa8kAjRj', 'id': '4cM6xcafBAbS9bOa8kAjRj', 'name': 'ICEDMANE', 'type': 'artist', 'uri': 'spotify:artist:4cM6xcafBAbS9bOa8kAjRj'}\n{'external_urls': {'spotify': 'https://open.spotify.com/artist/1pFLuMBwabtFITLNJlEZ9z'}, 'href': 'https://api.spotify.com/v1/artists/1pFLuMBwabtFITLNJlEZ9z', 'id': '1pFLuMBwabtFITLNJlEZ9z', 'name': 'DYSMANE', 'type': 'artist', 'uri': 'spotify:artist:1pFLuMBwabtFITLNJlEZ9z'}\n{'external_urls': {'spotify': 'https://open.spotify.com/artist/3AbeBDqk7IsG1JZEWVVcpY'}, 'href': 'https://api.spotify.com/v1/artists/3AbeBDqk7IsG1JZEWVVcpY', 'id': '3AbeBDqk7IsG1JZEWVVcpY', 'name': 'Mc Dido', 'type': 'artist', 'uri': 'spotify:artist:3AbeBDqk7IsG1JZEWVVcpY'}\n{'external_urls': {'spotify': 'https://open.spotify.com/artist/5Z56BMrvQB2rBAa5kffTPD'}, 'href': 'https://api.spotify.com/v1/artists/5Z56BMrvQB2rBAa5kffTPD', 'id': '5Z56BMrvQB2rBAa5kffTPD', 'name': 'HISTED', 'type': 'artist', 'uri': 'spotify:artist:5Z56BMrvQB2rBAa5kffTPD'}\n{'external_urls': {'spotify': 'https://open.spotify.com/artist/4Rd0aHKGS9BdLYSXVvFjv5'}, 'href': 'https://api.spotify.com/v1/artists/4Rd0aHKGS9BdLYSXVvFjv5', 'id': '4Rd0aHKGS9BdLYSXVvFjv5', 'name': 'TXVSTERPLAYA', 'type': 'artist', 'uri': 'spotify:artist:4Rd0aHKGS9BdLYSXVvFjv5'}\n{'external_urls': {'spotify': 'https://open.spotify.com/artist/32Pxa55IN0QAmFtzWcT2w9'}, 'href': 'https://api.spotify.com/v1/artists/32Pxa55IN0QAmFtzWcT2w9', 'id': '32Pxa55IN0QAmFtzWcT2w9', 'name': 'qaraqshy', 'type': 'artist', 'uri': 'spotify:artist:32Pxa55IN0QAmFtzWcT2w9'}\n{'external_urls': {'spotify': 'https://open.spotify.com/artist/1nzIoHG5B7klgAPdwjqRDj'}, 'href': 'https://api.spotify.com/v1/artists/1nzIoHG5B7klgAPdwjqRDj', 'id': '1nzIoHG5B7klgAPdwjqRDj', 'name': 'MC LONE', 'type': 'artist', 'uri': 'spotify:artist:1nzIoHG5B7klgAPdwjqRDj'}\n{'external_urls': {'spotify': 'https://open.spotify.com/artist/4pmKpROq7rAVibM7qR9h6P'}, 'href': 'https://api.spotify.com/v1/artists/4pmKpROq7rAVibM7qR9h6P', 'id': '4pmKpROq7rAVibM7qR9h6P', 'name': 'DJ ZBK', 'type': 'artist', 'uri': 'spotify:artist:4pmKpROq7rAVibM7qR9h6P'}\n{'external_urls': {'spotify': 'https://open.spotify.com/artist/62D4KEvQMmmK88mTkkWx6Q'}, 'href': 'https://api.spotify.com/v1/artists/62D4KEvQMmmK88mTkkWx6Q', 'id': '62D4KEvQMmmK88mTkkWx6Q', 'name': 'RD12', 'type': 'artist', 'uri': 'spotify:artist:62D4KEvQMmmK88mTkkWx6Q'}\n{'external_urls': {'spotify': 'https://open.spotify.com/artist/1qaCszXlFNPEnCELYBixa5'}, 'href': 'https://api.spotify.com/v1/artists/1qaCszXlFNPEnCELYBixa5', 'id': '1qaCszXlFNPEnCELYBixa5', 'name': 'M4GN', 'type': 'artist', 'uri': 'spotify:artist:1qaCszXlFNPEnCELYBixa5'}\n{'external_urls': {'spotify': 'https://open.spotify.com/artist/2ZuUKw4Pfvj7zIKxYY3HAh'}, 'href': 'https://api.spotify.com/v1/artists/2ZuUKw4Pfvj7zIKxYY3HAh', 'id': '2ZuUKw4Pfvj7zIKxYY3HAh', 'name': 'DJ Oliver Mendes', 'type': 'artist', 'uri': 'spotify:artist:2ZuUKw4Pfvj7zIKxYY3HAh'}\n{'external_urls': {'spotify': 'https://open.spotify.com/artist/6T9oTkBolkKzQJ5ltR7Yr8'}, 'href': 'https://api.spotify.com/v1/artists/6T9oTkBolkKzQJ5ltR7Yr8', 'id': '6T9oTkBolkKzQJ5ltR7Yr8', 'name': 'ptasinski', 'type': 'artist', 'uri': 'spotify:artist:6T9oTkBolkKzQJ5ltR7Yr8'}\n{'external_urls': {'spotify': 'https://open.spotify.com/artist/3BTY807ipaaT6QHW1tHTt0'}, 'href': 'https://api.spotify.com/v1/artists/3BTY807ipaaT6QHW1tHTt0', 'id': '3BTY807ipaaT6QHW1tHTt0', 'name': 'RJ Pasin', 'type': 'artist', 'uri': 'spotify:artist:3BTY807ipaaT6QHW1tHTt0'}\n{'external_urls': {'spotify': 'https://open.spotify.com/artist/0pSdNszQKrzI6m9okVVSL5'}, 'href': 'https://api.spotify.com/v1/artists/0pSdNszQKrzI6m9okVVSL5', 'id': '0pSdNszQKrzI6m9okVVSL5', 'name': 'SAPFIR', 'type': 'artist', 'uri': 'spotify:artist:0pSdNszQKrzI6m9okVVSL5'}\n{'external_urls': {'spotify': 'https://open.spotify.com/artist/12Swjg82MNiUOfl1GB3XFx'}, 'href': 'https://api.spotify.com/v1/artists/12Swjg82MNiUOfl1GB3XFx', 'id': '12Swjg82MNiUOfl1GB3XFx', 'name': 'Dyan Dxddy', 'type': 'artist', 'uri': 'spotify:artist:12Swjg82MNiUOfl1GB3XFx'}\n{'external_urls': {'spotify': 'https://open.spotify.com/artist/6s4LSwgbzTAfnN6OUfegJB'}, 'href': 'https://api.spotify.com/v1/artists/6s4LSwgbzTAfnN6OUfegJB', 'id': '6s4LSwgbzTAfnN6OUfegJB', 'name': 'Sayfalse', 'type': 'artist', 'uri': 'spotify:artist:6s4LSwgbzTAfnN6OUfegJB'}\n{'external_urls': {'spotify': 'https://open.spotify.com/artist/5dDNNq04RjKXFOADdHd6VX'}, 'href': 'https://api.spotify.com/v1/artists/5dDNNq04RjKXFOADdHd6VX', 'id': '5dDNNq04RjKXFOADdHd6VX', 'name': 'Scythermane', 'type': 'artist', 'uri': 'spotify:artist:5dDNNq04RjKXFOADdHd6VX'}\n{'external_urls': {'spotify': 'https://open.spotify.com/artist/5SCDfg1YoEfI5gFtXqEWah'}, 'href': 'https://api.spotify.com/v1/artists/5SCDfg1YoEfI5gFtXqEWah', 'id': '5SCDfg1YoEfI5gFtXqEWah', 'name': 'ATLXS', 'type': 'artist', 'uri': 'spotify:artist:5SCDfg1YoEfI5gFtXqEWah'}\n{'external_urls': {'spotify': 'https://open.spotify.com/artist/7kk9ucvRJim0NMM89Lml2Y'}, 'href': 'https://api.spotify.com/v1/artists/7kk9ucvRJim0NMM89Lml2Y', 'id': '7kk9ucvRJim0NMM89Lml2Y', 'name': 'MXZI', 'type': 'artist', 'uri': 'spotify:artist:7kk9ucvRJim0NMM89Lml2Y'}\n{'external_urls': {'spotify': 'https://open.spotify.com/artist/6guLZyE3by1cVU1ydAAKpJ'}, 'href': 'https://api.spotify.com/v1/artists/6guLZyE3by1cVU1ydAAKpJ', 'id': '6guLZyE3by1cVU1ydAAKpJ', 'name': 'Itamar Mc', 'type': 'artist', 'uri': 'spotify:artist:6guLZyE3by1cVU1ydAAKpJ'}\n{'external_urls': {'spotify': 'https://open.spotify.com/artist/3wuzmgnvjw5FzJiz8wjrq1'}, 'href': 'https://api.spotify.com/v1/artists/3wuzmgnvjw5FzJiz8wjrq1', 'id': '3wuzmgnvjw5FzJiz8wjrq1', 'name': 'NVRXMARV', 'type': 'artist', 'uri': 'spotify:artist:3wuzmgnvjw5FzJiz8wjrq1'}\n{'external_urls': {'spotify': 'https://open.spotify.com/artist/1eERcEkPBnNCbqoZHvoM2C'}, 'href': 'https://api.spotify.com/v1/artists/1eERcEkPBnNCbqoZHvoM2C', 'id': '1eERcEkPBnNCbqoZHvoM2C', 'name': 'LXSTURY', 'type': 'artist', 'uri': 'spotify:artist:1eERcEkPBnNCbqoZHvoM2C'}\n{'external_urls': {'spotify': 'https://open.spotify.com/artist/4thCAXlpGSQSUe13fvzjrA'}, 'href': 'https://api.spotify.com/v1/artists/4thCAXlpGSQSUe13fvzjrA', 'id': '4thCAXlpGSQSUe13fvzjrA', 'name': 'justforgetme', 'type': 'artist', 'uri': 'spotify:artist:4thCAXlpGSQSUe13fvzjrA'}\n{'external_urls': {'spotify': 'https://open.spotify.com/artist/6s4LSwgbzTAfnN6OUfegJB'}, 'href': 'https://api.spotify.com/v1/artists/6s4LSwgbzTAfnN6OUfegJB', 'id': '6s4LSwgbzTAfnN6OUfegJB', 'name': 'Sayfalse', 'type': 'artist', 'uri': 'spotify:artist:6s4LSwgbzTAfnN6OUfegJB'}\n{'external_urls': {'spotify': 'https://open.spotify.com/artist/02wf6SCDwrs2qTX09X0IRE'}, 'href': 'https://api.spotify.com/v1/artists/02wf6SCDwrs2qTX09X0IRE', 'id': '02wf6SCDwrs2qTX09X0IRE', 'name': \"Yb Wasg'ood\", 'type': 'artist', 'uri': 'spotify:artist:02wf6SCDwrs2qTX09X0IRE'}\n{'external_urls': {'spotify': 'https://open.spotify.com/artist/09cKncAQn28NqTUORLMwSR'}, 'href': 'https://api.spotify.com/v1/artists/09cKncAQn28NqTUORLMwSR', 'id': '09cKncAQn28NqTUORLMwSR', 'name': 'Ariis', 'type': 'artist', 'uri': 'spotify:artist:09cKncAQn28NqTUORLMwSR'}\n{'external_urls': {'spotify': 'https://open.spotify.com/artist/3YNdAmDzM5zMbGYeaSCe6A'}, 'href': 'https://api.spotify.com/v1/artists/3YNdAmDzM5zMbGYeaSCe6A', 'id': '3YNdAmDzM5zMbGYeaSCe6A', 'name': 'phonk.me', 'type': 'artist', 'uri': 'spotify:artist:3YNdAmDzM5zMbGYeaSCe6A'}\n{'external_urls': {'spotify': 'https://open.spotify.com/artist/3nLZDVpDU6RrQ9k98yHTKh'}, 'href': 'https://api.spotify.com/v1/artists/3nLZDVpDU6RrQ9k98yHTKh', 'id': '3nLZDVpDU6RrQ9k98yHTKh', 'name': 'KIIXSHI', 'type': 'artist', 'uri': 'spotify:artist:3nLZDVpDU6RrQ9k98yHTKh'}\n{'external_urls': {'spotify': 'https://open.spotify.com/artist/3Cd3LHNXuJd9NudRiH1IxS'}, 'href': 'https://api.spotify.com/v1/artists/3Cd3LHNXuJd9NudRiH1IxS', 'id': '3Cd3LHNXuJd9NudRiH1IxS', 'name': 'DJ RICK 013', 'type': 'artist', 'uri': 'spotify:artist:3Cd3LHNXuJd9NudRiH1IxS'}\n{'external_urls': {'spotify': 'https://open.spotify.com/artist/0mBCkBV2KtgPRhr7Z4g4K7'}, 'href': 'https://api.spotify.com/v1/artists/0mBCkBV2KtgPRhr7Z4g4K7', 'id': '0mBCkBV2KtgPRhr7Z4g4K7', 'name': 'Mc Charles', 'type': 'artist', 'uri': 'spotify:artist:0mBCkBV2KtgPRhr7Z4g4K7'}\n{'external_urls': {'spotify': 'https://open.spotify.com/artist/7gSamjqhPvUjkm4jzJd6Rq'}, 'href': 'https://api.spotify.com/v1/artists/7gSamjqhPvUjkm4jzJd6Rq', 'id': '7gSamjqhPvUjkm4jzJd6Rq', 'name': 'THZ', 'type': 'artist', 'uri': 'spotify:artist:7gSamjqhPvUjkm4jzJd6Rq'}\n{'external_urls': {'spotify': 'https://open.spotify.com/artist/2W6WP4pHQTFlbr2z9S4n54'}, 'href': 'https://api.spotify.com/v1/artists/2W6WP4pHQTFlbr2z9S4n54', 'id': '2W6WP4pHQTFlbr2z9S4n54', 'name': 'Kordhell', 'type': 'artist', 'uri': 'spotify:artist:2W6WP4pHQTFlbr2z9S4n54'}\n{'external_urls': {'spotify': 'https://open.spotify.com/artist/0jrirfCZkRU3iA2sH9JEko'}, 'href': 'https://api.spotify.com/v1/artists/0jrirfCZkRU3iA2sH9JEko', 'id': '0jrirfCZkRU3iA2sH9JEko', 'name': 'Repsaj', 'type': 'artist', 'uri': 'spotify:artist:0jrirfCZkRU3iA2sH9JEko'}\n{'external_urls': {'spotify': 'https://open.spotify.com/artist/5SCDfg1YoEfI5gFtXqEWah'}, 'href': 'https://api.spotify.com/v1/artists/5SCDfg1YoEfI5gFtXqEWah', 'id': '5SCDfg1YoEfI5gFtXqEWah', 'name': 'ATLXS', 'type': 'artist', 'uri': 'spotify:artist:5SCDfg1YoEfI5gFtXqEWah'}\n{'external_urls': {'spotify': 'https://open.spotify.com/artist/34giN3qeTOdgDSJIdtIMdm'}, 'href': 'https://api.spotify.com/v1/artists/34giN3qeTOdgDSJIdtIMdm', 'id': '34giN3qeTOdgDSJIdtIMdm', 'name': 'Mc Jhey', 'type': 'artist', 'uri': 'spotify:artist:34giN3qeTOdgDSJIdtIMdm'}\n{'external_urls': {'spotify': 'https://open.spotify.com/artist/5IpS1TN1Crp8Ym4zjiIrtK'}, 'href': 'https://api.spotify.com/v1/artists/5IpS1TN1Crp8Ym4zjiIrtK', 'id': '5IpS1TN1Crp8Ym4zjiIrtK', 'name': 'LXNGVX', 'type': 'artist', 'uri': 'spotify:artist:5IpS1TN1Crp8Ym4zjiIrtK'}\n{'external_urls': {'spotify': 'https://open.spotify.com/artist/33rnQWadiG2aauIwIxPxfB'}, 'href': 'https://api.spotify.com/v1/artists/33rnQWadiG2aauIwIxPxfB', 'id': '33rnQWadiG2aauIwIxPxfB', 'name': 'ZWE1HVNDXR', 'type': 'artist', 'uri': 'spotify:artist:33rnQWadiG2aauIwIxPxfB'}\n{'external_urls': {'spotify': 'https://open.spotify.com/artist/2APh66XEiqOiDt3bKhBWmn'}, 'href': 'https://api.spotify.com/v1/artists/2APh66XEiqOiDt3bKhBWmn', 'id': '2APh66XEiqOiDt3bKhBWmn', 'name': 'NONTHENSE', 'type': 'artist', 'uri': 'spotify:artist:2APh66XEiqOiDt3bKhBWmn'}\n{'external_urls': {'spotify': 'https://open.spotify.com/artist/7dUNKhz7HdxExteqcREGLi'}, 'href': 'https://api.spotify.com/v1/artists/7dUNKhz7HdxExteqcREGLi', 'id': '7dUNKhz7HdxExteqcREGLi', 'name': 'Mc Denny', 'type': 'artist', 'uri': 'spotify:artist:7dUNKhz7HdxExteqcREGLi'}\n{'external_urls': {'spotify': 'https://open.spotify.com/artist/0oV5Z0bl2CEOKxeN8FZHi7'}, 'href': 'https://api.spotify.com/v1/artists/0oV5Z0bl2CEOKxeN8FZHi7', 'id': '0oV5Z0bl2CEOKxeN8FZHi7', 'name': 'S4nri0', 'type': 'artist', 'uri': 'spotify:artist:0oV5Z0bl2CEOKxeN8FZHi7'}\n{'external_urls': {'spotify': 'https://open.spotify.com/artist/4fVQieL685dgYwFDrcYxsz'}, 'href': 'https://api.spotify.com/v1/artists/4fVQieL685dgYwFDrcYxsz', 'id': '4fVQieL685dgYwFDrcYxsz', 'name': 'MC LyC4N', 'type': 'artist', 'uri': 'spotify:artist:4fVQieL685dgYwFDrcYxsz'}\n"
     ]
    }
   ],
   "source": [
    "artist_list=[]\n",
    "for x in data['items']:\n",
    "    for key,value in x.items():\n",
    "        if key=='track':\n",
    "            for y in value['artists']:\n",
    "                print(y)"
   ]
  },
  {
   "cell_type": "code",
   "execution_count": 0,
   "metadata": {
    "application/vnd.databricks.v1+cell": {
     "cellMetadata": {
      "byteLimit": 2048000,
      "rowLimit": 10000
     },
     "inputWidgets": {},
     "nuid": "7950a25e-97e5-4340-8681-41a83a1d946f",
     "showTitle": false,
     "tableResultSettingsMap": {},
     "title": ""
    }
   },
   "outputs": [],
   "source": [
    "artist_list=[]\n",
    "for x in data['items']:\n",
    "    for key,value in x.items():\n",
    "        if key=='track':\n",
    "            for y in value['artists']:\n",
    "                artist_dict={\n",
    "                            'artist_id':y['id'],\n",
    "                             'artist_name':y['name'],\n",
    "                             'external_url':y['href']\n",
    "                             }\n",
    "                artist_list.append(artist_dict)"
   ]
  },
  {
   "cell_type": "code",
   "execution_count": 0,
   "metadata": {
    "application/vnd.databricks.v1+cell": {
     "cellMetadata": {
      "byteLimit": 2048000,
      "rowLimit": 10000
     },
     "inputWidgets": {},
     "nuid": "52a3fdb3-f1a7-4bac-94e0-584dea523e5a",
     "showTitle": false,
     "tableResultSettingsMap": {},
     "title": ""
    }
   },
   "outputs": [
    {
     "output_type": "stream",
     "name": "stdout",
     "output_type": "stream",
     "text": [
      "Out[34]: [{'artist_id': '5dDNNq04RjKXFOADdHd6VX',\n  'artist_name': 'Scythermane',\n  'external_url': 'https://api.spotify.com/v1/artists/5dDNNq04RjKXFOADdHd6VX'},\n {'artist_id': '7lAaAGxYxk2GH8cMbTEwAL',\n  'artist_name': 'NXGHT!',\n  'external_url': 'https://api.spotify.com/v1/artists/7lAaAGxYxk2GH8cMbTEwAL'},\n {'artist_id': '14hsjenLEdvafsGkk2CEiF',\n  'artist_name': 'MC Fabinho da Osk',\n  'external_url': 'https://api.spotify.com/v1/artists/14hsjenLEdvafsGkk2CEiF'},\n {'artist_id': '3g0UoyvaTaHUrfpHiRqsD1',\n  'artist_name': 'Nateki',\n  'external_url': 'https://api.spotify.com/v1/artists/3g0UoyvaTaHUrfpHiRqsD1'},\n {'artist_id': '5dDNNq04RjKXFOADdHd6VX',\n  'artist_name': 'Scythermane',\n  'external_url': 'https://api.spotify.com/v1/artists/5dDNNq04RjKXFOADdHd6VX'},\n {'artist_id': '10mKIVPFtg42JIvttHQrzr',\n  'artist_name': 'MC MAYAH',\n  'external_url': 'https://api.spotify.com/v1/artists/10mKIVPFtg42JIvttHQrzr'},\n {'artist_id': '7kk9ucvRJim0NMM89Lml2Y',\n  'artist_name': 'MXZI',\n  'external_url': 'https://api.spotify.com/v1/artists/7kk9ucvRJim0NMM89Lml2Y'},\n {'artist_id': '7qIgmxSjoXEeifSVDh8nIt',\n  'artist_name': 'MXCCREE',\n  'external_url': 'https://api.spotify.com/v1/artists/7qIgmxSjoXEeifSVDh8nIt'},\n {'artist_id': '1dX1zejt24Ojiu0lX4T1ZM',\n  'artist_name': 'DJ GL3CHEKY',\n  'external_url': 'https://api.spotify.com/v1/artists/1dX1zejt24Ojiu0lX4T1ZM'},\n {'artist_id': '0Vxqvpm9tpZcz6d4egDtjX',\n  'artist_name': 'MC PR',\n  'external_url': 'https://api.spotify.com/v1/artists/0Vxqvpm9tpZcz6d4egDtjX'},\n {'artist_id': '0jrirfCZkRU3iA2sH9JEko',\n  'artist_name': 'Repsaj',\n  'external_url': 'https://api.spotify.com/v1/artists/0jrirfCZkRU3iA2sH9JEko'},\n {'artist_id': '2vKxv2oKVSEJZ1VmuLUOvY',\n  'artist_name': 'Irokz',\n  'external_url': 'https://api.spotify.com/v1/artists/2vKxv2oKVSEJZ1VmuLUOvY'},\n {'artist_id': '5SCDfg1YoEfI5gFtXqEWah',\n  'artist_name': 'ATLXS',\n  'external_url': 'https://api.spotify.com/v1/artists/5SCDfg1YoEfI5gFtXqEWah'},\n {'artist_id': '2nGwC9QG6Hpw4fSDgNpn5n',\n  'artist_name': 'JXM',\n  'external_url': 'https://api.spotify.com/v1/artists/2nGwC9QG6Hpw4fSDgNpn5n'},\n {'artist_id': '4DWPOsGWbW7sBHb1UuBvWs',\n  'artist_name': 'Polaris',\n  'external_url': 'https://api.spotify.com/v1/artists/4DWPOsGWbW7sBHb1UuBvWs'},\n {'artist_id': '4nl0CCx6PpEOOr2Z2ThPdp',\n  'artist_name': 'xxanteria',\n  'external_url': 'https://api.spotify.com/v1/artists/4nl0CCx6PpEOOr2Z2ThPdp'},\n {'artist_id': '6JjQbtAO09K7qBEW2pdX5s',\n  'artist_name': 'isq',\n  'external_url': 'https://api.spotify.com/v1/artists/6JjQbtAO09K7qBEW2pdX5s'},\n {'artist_id': '1Sdc6ySbIvzO0X9vbyHzWm',\n  'artist_name': 'Ogryzek',\n  'external_url': 'https://api.spotify.com/v1/artists/1Sdc6ySbIvzO0X9vbyHzWm'},\n {'artist_id': '1Sdc6ySbIvzO0X9vbyHzWm',\n  'artist_name': 'Ogryzek',\n  'external_url': 'https://api.spotify.com/v1/artists/1Sdc6ySbIvzO0X9vbyHzWm'},\n {'artist_id': '1Sdc6ySbIvzO0X9vbyHzWm',\n  'artist_name': 'Ogryzek',\n  'external_url': 'https://api.spotify.com/v1/artists/1Sdc6ySbIvzO0X9vbyHzWm'},\n {'artist_id': '09cKncAQn28NqTUORLMwSR',\n  'artist_name': 'Ariis',\n  'external_url': 'https://api.spotify.com/v1/artists/09cKncAQn28NqTUORLMwSR'},\n {'artist_id': '2vPnS0IpayC2RVFuQA08R4',\n  'artist_name': '2KE',\n  'external_url': 'https://api.spotify.com/v1/artists/2vPnS0IpayC2RVFuQA08R4'},\n {'artist_id': '4jM6R2LK78dVTqHVUoA4li',\n  'artist_name': '808iuli',\n  'external_url': 'https://api.spotify.com/v1/artists/4jM6R2LK78dVTqHVUoA4li'},\n {'artist_id': '5tvPbCrx8LMaL9Zby5e7c2',\n  'artist_name': 'fennecxx',\n  'external_url': 'https://api.spotify.com/v1/artists/5tvPbCrx8LMaL9Zby5e7c2'},\n {'artist_id': '7FqHcUwnhxJZAgS3I6GFFL',\n  'artist_name': 'DJ ALEX',\n  'external_url': 'https://api.spotify.com/v1/artists/7FqHcUwnhxJZAgS3I6GFFL'},\n {'artist_id': '02wf6SCDwrs2qTX09X0IRE',\n  'artist_name': \"Yb Wasg'ood\",\n  'external_url': 'https://api.spotify.com/v1/artists/02wf6SCDwrs2qTX09X0IRE'},\n {'artist_id': '09cKncAQn28NqTUORLMwSR',\n  'artist_name': 'Ariis',\n  'external_url': 'https://api.spotify.com/v1/artists/09cKncAQn28NqTUORLMwSR'},\n {'artist_id': '0oGN0s7dqyWbR41yMsNs0R',\n  'artist_name': 'princce',\n  'external_url': 'https://api.spotify.com/v1/artists/0oGN0s7dqyWbR41yMsNs0R'},\n {'artist_id': '2YXKTfoEjKVzCNI0J6rHbQ',\n  'artist_name': 'FR3ST',\n  'external_url': 'https://api.spotify.com/v1/artists/2YXKTfoEjKVzCNI0J6rHbQ'},\n {'artist_id': '3qycxIGAHj1KyoAQ6PGCO6',\n  'artist_name': 'Seek',\n  'external_url': 'https://api.spotify.com/v1/artists/3qycxIGAHj1KyoAQ6PGCO6'},\n {'artist_id': '1nccv1GNVkBdvsYi2FB5FB',\n  'artist_name': 'NUEKI',\n  'external_url': 'https://api.spotify.com/v1/artists/1nccv1GNVkBdvsYi2FB5FB'},\n {'artist_id': '23P2mSsBpPkfR9fTrOc1a4',\n  'artist_name': 'TOLCHONOV',\n  'external_url': 'https://api.spotify.com/v1/artists/23P2mSsBpPkfR9fTrOc1a4'},\n {'artist_id': '700c9Qz2z6HZKTumeliKAw',\n  'artist_name': 'LONOWN',\n  'external_url': 'https://api.spotify.com/v1/artists/700c9Qz2z6HZKTumeliKAw'},\n {'artist_id': '19P1EvDdYzg1ICEyiAEk4m',\n  'artist_name': 'DJ BRYAN 7',\n  'external_url': 'https://api.spotify.com/v1/artists/19P1EvDdYzg1ICEyiAEk4m'},\n {'artist_id': '4ziGmZKhRvzoP0De6vcXGt',\n  'artist_name': 'DJIEGO',\n  'external_url': 'https://api.spotify.com/v1/artists/4ziGmZKhRvzoP0De6vcXGt'},\n {'artist_id': '12PDaXrPNMYQsQLnSnDaSS',\n  'artist_name': 'Maxximo Dj',\n  'external_url': 'https://api.spotify.com/v1/artists/12PDaXrPNMYQsQLnSnDaSS'},\n {'artist_id': '62D4KEvQMmmK88mTkkWx6Q',\n  'artist_name': 'RD12',\n  'external_url': 'https://api.spotify.com/v1/artists/62D4KEvQMmmK88mTkkWx6Q'},\n {'artist_id': '6s4LSwgbzTAfnN6OUfegJB',\n  'artist_name': 'Sayfalse',\n  'external_url': 'https://api.spotify.com/v1/artists/6s4LSwgbzTAfnN6OUfegJB'},\n {'artist_id': '4nl0CCx6PpEOOr2Z2ThPdp',\n  'artist_name': 'xxanteria',\n  'external_url': 'https://api.spotify.com/v1/artists/4nl0CCx6PpEOOr2Z2ThPdp'},\n {'artist_id': '6BWtcMF39LT5Db5FT54YYG',\n  'artist_name': 'NCTS',\n  'external_url': 'https://api.spotify.com/v1/artists/6BWtcMF39LT5Db5FT54YYG'},\n {'artist_id': '6rzNFUmaEVnYb8kzh9tBTt',\n  'artist_name': 'CURSEDEVIL',\n  'external_url': 'https://api.spotify.com/v1/artists/6rzNFUmaEVnYb8kzh9tBTt'},\n {'artist_id': '3QMpCp3GHiHXgnX1LldXWe',\n  'artist_name': 'DJ FKU',\n  'external_url': 'https://api.spotify.com/v1/artists/3QMpCp3GHiHXgnX1LldXWe'},\n {'artist_id': '3voCipmmrW5uF4EMA6aSbj',\n  'artist_name': 'Skorde',\n  'external_url': 'https://api.spotify.com/v1/artists/3voCipmmrW5uF4EMA6aSbj'},\n {'artist_id': '3rt96VXGtEgD4uSOJ6B69H',\n  'artist_name': 'TRASHXRL',\n  'external_url': 'https://api.spotify.com/v1/artists/3rt96VXGtEgD4uSOJ6B69H'},\n {'artist_id': '3l4fsEzoeabsET7ddv0lZW',\n  'artist_name': 'Mc Delux',\n  'external_url': 'https://api.spotify.com/v1/artists/3l4fsEzoeabsET7ddv0lZW'},\n {'artist_id': '5IpS1TN1Crp8Ym4zjiIrtK',\n  'artist_name': 'LXNGVX',\n  'external_url': 'https://api.spotify.com/v1/artists/5IpS1TN1Crp8Ym4zjiIrtK'},\n {'artist_id': '6kLsCQ1gKvJmjmC8XbfqFE',\n  'artist_name': 'VISXGE',\n  'external_url': 'https://api.spotify.com/v1/artists/6kLsCQ1gKvJmjmC8XbfqFE'},\n {'artist_id': '5AviPhK4XqgGjtTa0m9aQc',\n  'artist_name': 'NAOMI',\n  'external_url': 'https://api.spotify.com/v1/artists/5AviPhK4XqgGjtTa0m9aQc'},\n {'artist_id': '3rt96VXGtEgD4uSOJ6B69H',\n  'artist_name': 'TRASHXRL',\n  'external_url': 'https://api.spotify.com/v1/artists/3rt96VXGtEgD4uSOJ6B69H'},\n {'artist_id': '0ivrHNM8urVaCkgRX8rtKH',\n  'artist_name': 'Mc Menor Do Alvorada',\n  'external_url': 'https://api.spotify.com/v1/artists/0ivrHNM8urVaCkgRX8rtKH'},\n {'artist_id': '65FHTCI8EmW94W0TdWb8ja',\n  'artist_name': 'Slowboy',\n  'external_url': 'https://api.spotify.com/v1/artists/65FHTCI8EmW94W0TdWb8ja'},\n {'artist_id': '1nccv1GNVkBdvsYi2FB5FB',\n  'artist_name': 'NUEKI',\n  'external_url': 'https://api.spotify.com/v1/artists/1nccv1GNVkBdvsYi2FB5FB'},\n {'artist_id': '6QwlKB1hO357wh5oNuuInl',\n  'artist_name': 'Crazy Mano',\n  'external_url': 'https://api.spotify.com/v1/artists/6QwlKB1hO357wh5oNuuInl'},\n {'artist_id': '23P2mSsBpPkfR9fTrOc1a4',\n  'artist_name': 'TOLCHONOV',\n  'external_url': 'https://api.spotify.com/v1/artists/23P2mSsBpPkfR9fTrOc1a4'},\n {'artist_id': '6ZhleMHIGIpjkBHrQDl4G7',\n  'artist_name': 'DYGO',\n  'external_url': 'https://api.spotify.com/v1/artists/6ZhleMHIGIpjkBHrQDl4G7'},\n {'artist_id': '1KoTNs0Ev2KGs7AF5lWlx3',\n  'artist_name': 'Mxng0',\n  'external_url': 'https://api.spotify.com/v1/artists/1KoTNs0Ev2KGs7AF5lWlx3'},\n {'artist_id': '07MaeHw0cyfmgQ9D9I61UT',\n  'artist_name': 'DJ JEEAN 011',\n  'external_url': 'https://api.spotify.com/v1/artists/07MaeHw0cyfmgQ9D9I61UT'},\n {'artist_id': '7vfisrjZ6AMRo5vNVLP3qQ',\n  'artist_name': 'MC BM OFICIAL',\n  'external_url': 'https://api.spotify.com/v1/artists/7vfisrjZ6AMRo5vNVLP3qQ'},\n {'artist_id': '0exQbKNFd9pLmdIGycwmlf',\n  'artist_name': 'h6itam',\n  'external_url': 'https://api.spotify.com/v1/artists/0exQbKNFd9pLmdIGycwmlf'},\n {'artist_id': '4o5PswOvXGSq0y5BqZTR9n',\n  'artist_name': 'STRAWANGLE',\n  'external_url': 'https://api.spotify.com/v1/artists/4o5PswOvXGSq0y5BqZTR9n'},\n {'artist_id': '2JrpgVMFW3Hpe1CwLaAORl',\n  'artist_name': 'MC RP VK',\n  'external_url': 'https://api.spotify.com/v1/artists/2JrpgVMFW3Hpe1CwLaAORl'},\n {'artist_id': '2ge1WtiBqengw0nAnq94Zo',\n  'artist_name': 'MC Da 12',\n  'external_url': 'https://api.spotify.com/v1/artists/2ge1WtiBqengw0nAnq94Zo'},\n {'artist_id': '6JjQbtAO09K7qBEW2pdX5s',\n  'artist_name': 'isq',\n  'external_url': 'https://api.spotify.com/v1/artists/6JjQbtAO09K7qBEW2pdX5s'},\n {'artist_id': '7lAaAGxYxk2GH8cMbTEwAL',\n  'artist_name': 'NXGHT!',\n  'external_url': 'https://api.spotify.com/v1/artists/7lAaAGxYxk2GH8cMbTEwAL'},\n {'artist_id': '3wQNcarvRuzhz2Fg1pVDxZ',\n  'artist_name': 'DJ ANXVAR',\n  'external_url': 'https://api.spotify.com/v1/artists/3wQNcarvRuzhz2Fg1pVDxZ'},\n {'artist_id': '1HJglK87YzctjxETSJqh64',\n  'artist_name': 'DJ ZAP',\n  'external_url': 'https://api.spotify.com/v1/artists/1HJglK87YzctjxETSJqh64'},\n {'artist_id': '4H61c3XQu4PswXGtB0MJ6N',\n  'artist_name': 'Hexora',\n  'external_url': 'https://api.spotify.com/v1/artists/4H61c3XQu4PswXGtB0MJ6N'},\n {'artist_id': '6WCBS0WuEBBtdV7TZMtCnh',\n  'artist_name': 'Artox',\n  'external_url': 'https://api.spotify.com/v1/artists/6WCBS0WuEBBtdV7TZMtCnh'},\n {'artist_id': '4epIlGy9RGEMdrfSXS2HEc',\n  'artist_name': 'Alert',\n  'external_url': 'https://api.spotify.com/v1/artists/4epIlGy9RGEMdrfSXS2HEc'},\n {'artist_id': '5Vd9shhZpzTYaaZ6KQNnjU',\n  'artist_name': 'GLXXMSTRIDER',\n  'external_url': 'https://api.spotify.com/v1/artists/5Vd9shhZpzTYaaZ6KQNnjU'},\n {'artist_id': '3Xd2WSaNywx5gn1pgRPFjF',\n  'artist_name': 'Eternxlkz',\n  'external_url': 'https://api.spotify.com/v1/artists/3Xd2WSaNywx5gn1pgRPFjF'},\n {'artist_id': '648ZoUpTM6iIMTCgo3lLCE',\n  'artist_name': 'DJ Paulinho Mondi Da Baixa Baviera',\n  'external_url': 'https://api.spotify.com/v1/artists/648ZoUpTM6iIMTCgo3lLCE'},\n {'artist_id': '0sjGfRBmq6lKmUNgt8Ptic',\n  'artist_name': 'Mc Vitorioso',\n  'external_url': 'https://api.spotify.com/v1/artists/0sjGfRBmq6lKmUNgt8Ptic'},\n {'artist_id': '60vF1fLR6yzLxCQUlnAYYj',\n  'artist_name': '$werve',\n  'external_url': 'https://api.spotify.com/v1/artists/60vF1fLR6yzLxCQUlnAYYj'},\n {'artist_id': '5UKXrvmyouEgmvon7DwwzA',\n  'artist_name': 'FXRCE',\n  'external_url': 'https://api.spotify.com/v1/artists/5UKXrvmyouEgmvon7DwwzA'},\n {'artist_id': '7dUNKhz7HdxExteqcREGLi',\n  'artist_name': 'Mc Denny',\n  'external_url': 'https://api.spotify.com/v1/artists/7dUNKhz7HdxExteqcREGLi'},\n {'artist_id': '1yTrrABG9Vr2Y9lbHupN3f',\n  'artist_name': 'DJ Vilão DS',\n  'external_url': 'https://api.spotify.com/v1/artists/1yTrrABG9Vr2Y9lbHupN3f'},\n {'artist_id': '4kEtpjbEnSh4WNeLF1IeG7',\n  'artist_name': 'MC Zudo Boladão',\n  'external_url': 'https://api.spotify.com/v1/artists/4kEtpjbEnSh4WNeLF1IeG7'},\n {'artist_id': '3LfT6BvsnMomxucwVAXGiF',\n  'artist_name': 'DJ Magrin Da DZ7',\n  'external_url': 'https://api.spotify.com/v1/artists/3LfT6BvsnMomxucwVAXGiF'},\n {'artist_id': '2dZI1nDPMCgcymfUeLIObc',\n  'artist_name': 'MC PH77',\n  'external_url': 'https://api.spotify.com/v1/artists/2dZI1nDPMCgcymfUeLIObc'},\n {'artist_id': '4RsEAdLhbUy7j3zHWauPwF',\n  'artist_name': 'BLESSED MANE',\n  'external_url': 'https://api.spotify.com/v1/artists/4RsEAdLhbUy7j3zHWauPwF'},\n {'artist_id': '5IpS1TN1Crp8Ym4zjiIrtK',\n  'artist_name': 'LXNGVX',\n  'external_url': 'https://api.spotify.com/v1/artists/5IpS1TN1Crp8Ym4zjiIrtK'},\n {'artist_id': '0f1IECbrVV952unZkzrsg2',\n  'artist_name': 'Mc Gw',\n  'external_url': 'https://api.spotify.com/v1/artists/0f1IECbrVV952unZkzrsg2'},\n {'artist_id': '1iKfUld50BOVBIgHy3GlGt',\n  'artist_name': 'DJ CEREJASS',\n  'external_url': 'https://api.spotify.com/v1/artists/1iKfUld50BOVBIgHy3GlGt'},\n {'artist_id': '6s4LSwgbzTAfnN6OUfegJB',\n  'artist_name': 'Sayfalse',\n  'external_url': 'https://api.spotify.com/v1/artists/6s4LSwgbzTAfnN6OUfegJB'},\n {'artist_id': '09cKncAQn28NqTUORLMwSR',\n  'artist_name': 'Ariis',\n  'external_url': 'https://api.spotify.com/v1/artists/09cKncAQn28NqTUORLMwSR'},\n {'artist_id': '3uA4unR7LBOcqjpbOeCs0Y',\n  'artist_name': '-Prey',\n  'external_url': 'https://api.spotify.com/v1/artists/3uA4unR7LBOcqjpbOeCs0Y'},\n {'artist_id': '1TTHC3GlNDaE5eVoC3BVxm',\n  'artist_name': 'Lumi Athena',\n  'external_url': 'https://api.spotify.com/v1/artists/1TTHC3GlNDaE5eVoC3BVxm'},\n {'artist_id': '3yn6fs9MkW1i4V3S2G8Dxs',\n  'artist_name': 'vtze archive',\n  'external_url': 'https://api.spotify.com/v1/artists/3yn6fs9MkW1i4V3S2G8Dxs'},\n {'artist_id': '2RqjTHL40djgpNGG2LS9O0',\n  'artist_name': 'Mc Ster',\n  'external_url': 'https://api.spotify.com/v1/artists/2RqjTHL40djgpNGG2LS9O0'},\n {'artist_id': '3QMpCp3GHiHXgnX1LldXWe',\n  'artist_name': 'DJ FKU',\n  'external_url': 'https://api.spotify.com/v1/artists/3QMpCp3GHiHXgnX1LldXWe'},\n {'artist_id': '3wQNcarvRuzhz2Fg1pVDxZ',\n  'artist_name': 'DJ ANXVAR',\n  'external_url': 'https://api.spotify.com/v1/artists/3wQNcarvRuzhz2Fg1pVDxZ'},\n {'artist_id': '1nzIoHG5B7klgAPdwjqRDj',\n  'artist_name': 'MC LONE',\n  'external_url': 'https://api.spotify.com/v1/artists/1nzIoHG5B7klgAPdwjqRDj'},\n {'artist_id': '1PvcWjADPMezv8CTyJO9Uk',\n  'artist_name': 'Vermillion',\n  'external_url': 'https://api.spotify.com/v1/artists/1PvcWjADPMezv8CTyJO9Uk'},\n {'artist_id': '4cM6xcafBAbS9bOa8kAjRj',\n  'artist_name': 'ICEDMANE',\n  'external_url': 'https://api.spotify.com/v1/artists/4cM6xcafBAbS9bOa8kAjRj'},\n {'artist_id': '1pFLuMBwabtFITLNJlEZ9z',\n  'artist_name': 'DYSMANE',\n  'external_url': 'https://api.spotify.com/v1/artists/1pFLuMBwabtFITLNJlEZ9z'},\n {'artist_id': '3AbeBDqk7IsG1JZEWVVcpY',\n  'artist_name': 'Mc Dido',\n  'external_url': 'https://api.spotify.com/v1/artists/3AbeBDqk7IsG1JZEWVVcpY'},\n {'artist_id': '5Z56BMrvQB2rBAa5kffTPD',\n  'artist_name': 'HISTED',\n  'external_url': 'https://api.spotify.com/v1/artists/5Z56BMrvQB2rBAa5kffTPD'},\n {'artist_id': '4Rd0aHKGS9BdLYSXVvFjv5',\n  'artist_name': 'TXVSTERPLAYA',\n  'external_url': 'https://api.spotify.com/v1/artists/4Rd0aHKGS9BdLYSXVvFjv5'},\n {'artist_id': '32Pxa55IN0QAmFtzWcT2w9',\n  'artist_name': 'qaraqshy',\n  'external_url': 'https://api.spotify.com/v1/artists/32Pxa55IN0QAmFtzWcT2w9'},\n {'artist_id': '1nzIoHG5B7klgAPdwjqRDj',\n  'artist_name': 'MC LONE',\n  'external_url': 'https://api.spotify.com/v1/artists/1nzIoHG5B7klgAPdwjqRDj'},\n {'artist_id': '4pmKpROq7rAVibM7qR9h6P',\n  'artist_name': 'DJ ZBK',\n  'external_url': 'https://api.spotify.com/v1/artists/4pmKpROq7rAVibM7qR9h6P'},\n {'artist_id': '62D4KEvQMmmK88mTkkWx6Q',\n  'artist_name': 'RD12',\n  'external_url': 'https://api.spotify.com/v1/artists/62D4KEvQMmmK88mTkkWx6Q'},\n {'artist_id': '1qaCszXlFNPEnCELYBixa5',\n  'artist_name': 'M4GN',\n  'external_url': 'https://api.spotify.com/v1/artists/1qaCszXlFNPEnCELYBixa5'},\n {'artist_id': '2ZuUKw4Pfvj7zIKxYY3HAh',\n  'artist_name': 'DJ Oliver Mendes',\n  'external_url': 'https://api.spotify.com/v1/artists/2ZuUKw4Pfvj7zIKxYY3HAh'},\n {'artist_id': '6T9oTkBolkKzQJ5ltR7Yr8',\n  'artist_name': 'ptasinski',\n  'external_url': 'https://api.spotify.com/v1/artists/6T9oTkBolkKzQJ5ltR7Yr8'},\n {'artist_id': '3BTY807ipaaT6QHW1tHTt0',\n  'artist_name': 'RJ Pasin',\n  'external_url': 'https://api.spotify.com/v1/artists/3BTY807ipaaT6QHW1tHTt0'},\n {'artist_id': '0pSdNszQKrzI6m9okVVSL5',\n  'artist_name': 'SAPFIR',\n  'external_url': 'https://api.spotify.com/v1/artists/0pSdNszQKrzI6m9okVVSL5'},\n {'artist_id': '12Swjg82MNiUOfl1GB3XFx',\n  'artist_name': 'Dyan Dxddy',\n  'external_url': 'https://api.spotify.com/v1/artists/12Swjg82MNiUOfl1GB3XFx'},\n {'artist_id': '6s4LSwgbzTAfnN6OUfegJB',\n  'artist_name': 'Sayfalse',\n  'external_url': 'https://api.spotify.com/v1/artists/6s4LSwgbzTAfnN6OUfegJB'},\n {'artist_id': '5dDNNq04RjKXFOADdHd6VX',\n  'artist_name': 'Scythermane',\n  'external_url': 'https://api.spotify.com/v1/artists/5dDNNq04RjKXFOADdHd6VX'},\n {'artist_id': '5SCDfg1YoEfI5gFtXqEWah',\n  'artist_name': 'ATLXS',\n  'external_url': 'https://api.spotify.com/v1/artists/5SCDfg1YoEfI5gFtXqEWah'},\n {'artist_id': '7kk9ucvRJim0NMM89Lml2Y',\n  'artist_name': 'MXZI',\n  'external_url': 'https://api.spotify.com/v1/artists/7kk9ucvRJim0NMM89Lml2Y'},\n {'artist_id': '6guLZyE3by1cVU1ydAAKpJ',\n  'artist_name': 'Itamar Mc',\n  'external_url': 'https://api.spotify.com/v1/artists/6guLZyE3by1cVU1ydAAKpJ'},\n {'artist_id': '3wuzmgnvjw5FzJiz8wjrq1',\n  'artist_name': 'NVRXMARV',\n  'external_url': 'https://api.spotify.com/v1/artists/3wuzmgnvjw5FzJiz8wjrq1'},\n {'artist_id': '1eERcEkPBnNCbqoZHvoM2C',\n  'artist_name': 'LXSTURY',\n  'external_url': 'https://api.spotify.com/v1/artists/1eERcEkPBnNCbqoZHvoM2C'},\n {'artist_id': '4thCAXlpGSQSUe13fvzjrA',\n  'artist_name': 'justforgetme',\n  'external_url': 'https://api.spotify.com/v1/artists/4thCAXlpGSQSUe13fvzjrA'},\n {'artist_id': '6s4LSwgbzTAfnN6OUfegJB',\n  'artist_name': 'Sayfalse',\n  'external_url': 'https://api.spotify.com/v1/artists/6s4LSwgbzTAfnN6OUfegJB'},\n {'artist_id': '02wf6SCDwrs2qTX09X0IRE',\n  'artist_name': \"Yb Wasg'ood\",\n  'external_url': 'https://api.spotify.com/v1/artists/02wf6SCDwrs2qTX09X0IRE'},\n {'artist_id': '09cKncAQn28NqTUORLMwSR',\n  'artist_name': 'Ariis',\n  'external_url': 'https://api.spotify.com/v1/artists/09cKncAQn28NqTUORLMwSR'},\n {'artist_id': '3YNdAmDzM5zMbGYeaSCe6A',\n  'artist_name': 'phonk.me',\n  'external_url': 'https://api.spotify.com/v1/artists/3YNdAmDzM5zMbGYeaSCe6A'},\n {'artist_id': '3nLZDVpDU6RrQ9k98yHTKh',\n  'artist_name': 'KIIXSHI',\n  'external_url': 'https://api.spotify.com/v1/artists/3nLZDVpDU6RrQ9k98yHTKh'},\n {'artist_id': '3Cd3LHNXuJd9NudRiH1IxS',\n  'artist_name': 'DJ RICK 013',\n  'external_url': 'https://api.spotify.com/v1/artists/3Cd3LHNXuJd9NudRiH1IxS'},\n {'artist_id': '0mBCkBV2KtgPRhr7Z4g4K7',\n  'artist_name': 'Mc Charles',\n  'external_url': 'https://api.spotify.com/v1/artists/0mBCkBV2KtgPRhr7Z4g4K7'},\n {'artist_id': '7gSamjqhPvUjkm4jzJd6Rq',\n  'artist_name': 'THZ',\n  'external_url': 'https://api.spotify.com/v1/artists/7gSamjqhPvUjkm4jzJd6Rq'},\n {'artist_id': '2W6WP4pHQTFlbr2z9S4n54',\n  'artist_name': 'Kordhell',\n  'external_url': 'https://api.spotify.com/v1/artists/2W6WP4pHQTFlbr2z9S4n54'},\n {'artist_id': '0jrirfCZkRU3iA2sH9JEko',\n  'artist_name': 'Repsaj',\n  'external_url': 'https://api.spotify.com/v1/artists/0jrirfCZkRU3iA2sH9JEko'},\n {'artist_id': '5SCDfg1YoEfI5gFtXqEWah',\n  'artist_name': 'ATLXS',\n  'external_url': 'https://api.spotify.com/v1/artists/5SCDfg1YoEfI5gFtXqEWah'},\n {'artist_id': '34giN3qeTOdgDSJIdtIMdm',\n  'artist_name': 'Mc Jhey',\n  'external_url': 'https://api.spotify.com/v1/artists/34giN3qeTOdgDSJIdtIMdm'},\n {'artist_id': '5IpS1TN1Crp8Ym4zjiIrtK',\n  'artist_name': 'LXNGVX',\n  'external_url': 'https://api.spotify.com/v1/artists/5IpS1TN1Crp8Ym4zjiIrtK'},\n {'artist_id': '33rnQWadiG2aauIwIxPxfB',\n  'artist_name': 'ZWE1HVNDXR',\n  'external_url': 'https://api.spotify.com/v1/artists/33rnQWadiG2aauIwIxPxfB'},\n {'artist_id': '2APh66XEiqOiDt3bKhBWmn',\n  'artist_name': 'NONTHENSE',\n  'external_url': 'https://api.spotify.com/v1/artists/2APh66XEiqOiDt3bKhBWmn'},\n {'artist_id': '7dUNKhz7HdxExteqcREGLi',\n  'artist_name': 'Mc Denny',\n  'external_url': 'https://api.spotify.com/v1/artists/7dUNKhz7HdxExteqcREGLi'},\n {'artist_id': '0oV5Z0bl2CEOKxeN8FZHi7',\n  'artist_name': 'S4nri0',\n  'external_url': 'https://api.spotify.com/v1/artists/0oV5Z0bl2CEOKxeN8FZHi7'},\n {'artist_id': '4fVQieL685dgYwFDrcYxsz',\n  'artist_name': 'MC LyC4N',\n  'external_url': 'https://api.spotify.com/v1/artists/4fVQieL685dgYwFDrcYxsz'}]"
     ]
    }
   ],
   "source": [
    "artist_list"
   ]
  },
  {
   "cell_type": "code",
   "execution_count": 0,
   "metadata": {
    "application/vnd.databricks.v1+cell": {
     "cellMetadata": {
      "byteLimit": 2048000,
      "rowLimit": 10000
     },
     "inputWidgets": {},
     "nuid": "732d5ac7-9044-4195-a66b-bc9e4f1280b4",
     "showTitle": false,
     "tableResultSettingsMap": {},
     "title": ""
    }
   },
   "outputs": [],
   "source": [
    "artist_df=pd.DataFrame(artist_list)"
   ]
  },
  {
   "cell_type": "code",
   "execution_count": 0,
   "metadata": {
    "application/vnd.databricks.v1+cell": {
     "cellMetadata": {
      "byteLimit": 2048000,
      "rowLimit": 10000
     },
     "inputWidgets": {},
     "nuid": "17ed1466-ecb2-4e32-9fe3-cc16b9bdecd5",
     "showTitle": false,
     "tableResultSettingsMap": {},
     "title": ""
    }
   },
   "outputs": [
    {
     "output_type": "display_data",
     "data": {
      "text/html": [
       "<div>\n",
       "<style scoped>\n",
       "    .dataframe tbody tr th:only-of-type {\n",
       "        vertical-align: middle;\n",
       "    }\n",
       "\n",
       "    .dataframe tbody tr th {\n",
       "        vertical-align: top;\n",
       "    }\n",
       "\n",
       "    .dataframe thead th {\n",
       "        text-align: right;\n",
       "    }\n",
       "</style>\n",
       "<table border=\"1\" class=\"dataframe\">\n",
       "  <thead>\n",
       "    <tr style=\"text-align: right;\">\n",
       "      <th></th>\n",
       "      <th>artist_id</th>\n",
       "      <th>artist_name</th>\n",
       "      <th>external_url</th>\n",
       "    </tr>\n",
       "  </thead>\n",
       "  <tbody>\n",
       "    <tr>\n",
       "      <th>0</th>\n",
       "      <td>5dDNNq04RjKXFOADdHd6VX</td>\n",
       "      <td>Scythermane</td>\n",
       "      <td>https://api.spotify.com/v1/artists/5dDNNq04RjK...</td>\n",
       "    </tr>\n",
       "    <tr>\n",
       "      <th>1</th>\n",
       "      <td>7lAaAGxYxk2GH8cMbTEwAL</td>\n",
       "      <td>NXGHT!</td>\n",
       "      <td>https://api.spotify.com/v1/artists/7lAaAGxYxk2...</td>\n",
       "    </tr>\n",
       "    <tr>\n",
       "      <th>2</th>\n",
       "      <td>14hsjenLEdvafsGkk2CEiF</td>\n",
       "      <td>MC Fabinho da Osk</td>\n",
       "      <td>https://api.spotify.com/v1/artists/14hsjenLEdv...</td>\n",
       "    </tr>\n",
       "    <tr>\n",
       "      <th>3</th>\n",
       "      <td>3g0UoyvaTaHUrfpHiRqsD1</td>\n",
       "      <td>Nateki</td>\n",
       "      <td>https://api.spotify.com/v1/artists/3g0UoyvaTaH...</td>\n",
       "    </tr>\n",
       "    <tr>\n",
       "      <th>4</th>\n",
       "      <td>5dDNNq04RjKXFOADdHd6VX</td>\n",
       "      <td>Scythermane</td>\n",
       "      <td>https://api.spotify.com/v1/artists/5dDNNq04RjK...</td>\n",
       "    </tr>\n",
       "  </tbody>\n",
       "</table>\n",
       "</div>"
      ]
     },
     "metadata": {
      "application/vnd.databricks.v1+output": {
       "addedWidgets": {},
       "arguments": {},
       "data": "<div>\n<style scoped>\n    .dataframe tbody tr th:only-of-type {\n        vertical-align: middle;\n    }\n\n    .dataframe tbody tr th {\n        vertical-align: top;\n    }\n\n    .dataframe thead th {\n        text-align: right;\n    }\n</style>\n<table border=\"1\" class=\"dataframe\">\n  <thead>\n    <tr style=\"text-align: right;\">\n      <th></th>\n      <th>artist_id</th>\n      <th>artist_name</th>\n      <th>external_url</th>\n    </tr>\n  </thead>\n  <tbody>\n    <tr>\n      <th>0</th>\n      <td>5dDNNq04RjKXFOADdHd6VX</td>\n      <td>Scythermane</td>\n      <td>https://api.spotify.com/v1/artists/5dDNNq04RjK...</td>\n    </tr>\n    <tr>\n      <th>1</th>\n      <td>7lAaAGxYxk2GH8cMbTEwAL</td>\n      <td>NXGHT!</td>\n      <td>https://api.spotify.com/v1/artists/7lAaAGxYxk2...</td>\n    </tr>\n    <tr>\n      <th>2</th>\n      <td>14hsjenLEdvafsGkk2CEiF</td>\n      <td>MC Fabinho da Osk</td>\n      <td>https://api.spotify.com/v1/artists/14hsjenLEdv...</td>\n    </tr>\n    <tr>\n      <th>3</th>\n      <td>3g0UoyvaTaHUrfpHiRqsD1</td>\n      <td>Nateki</td>\n      <td>https://api.spotify.com/v1/artists/3g0UoyvaTaH...</td>\n    </tr>\n    <tr>\n      <th>4</th>\n      <td>5dDNNq04RjKXFOADdHd6VX</td>\n      <td>Scythermane</td>\n      <td>https://api.spotify.com/v1/artists/5dDNNq04RjK...</td>\n    </tr>\n  </tbody>\n</table>\n</div>",
       "datasetInfos": [],
       "metadata": {},
       "removedWidgets": [],
       "textData": null,
       "type": "htmlSandbox"
      }
     },
     "output_type": "display_data"
    }
   ],
   "source": [
    "artist_df.head()"
   ]
  },
  {
   "cell_type": "markdown",
   "metadata": {
    "application/vnd.databricks.v1+cell": {
     "cellMetadata": {
      "byteLimit": 2048000,
      "rowLimit": 10000
     },
     "inputWidgets": {},
     "nuid": "96f715fb-08b0-4cd7-84a8-9f0fc8a5788a",
     "showTitle": false,
     "tableResultSettingsMap": {},
     "title": ""
    }
   },
   "source": [
    "### Extracting \"song\" Information from the json"
   ]
  },
  {
   "cell_type": "code",
   "execution_count": 0,
   "metadata": {
    "application/vnd.databricks.v1+cell": {
     "cellMetadata": {
      "byteLimit": 2048000,
      "rowLimit": 10000
     },
     "inputWidgets": {},
     "nuid": "2f7b85f5-c728-4b63-881c-e6dc75b7843b",
     "showTitle": false,
     "tableResultSettingsMap": {},
     "title": ""
    }
   },
   "outputs": [
    {
     "output_type": "stream",
     "name": "stdout",
     "output_type": "stream",
     "text": [
      "Out[37]: dict_keys(['preview_url', 'available_markets', 'explicit', 'type', 'episode', 'track', 'album', 'artists', 'disc_number', 'track_number', 'duration_ms', 'external_ids', 'external_urls', 'href', 'id', 'name', 'popularity', 'uri', 'is_local'])"
     ]
    }
   ],
   "source": [
    "data['items'][0]['track'].keys()"
   ]
  },
  {
   "cell_type": "code",
   "execution_count": 0,
   "metadata": {
    "application/vnd.databricks.v1+cell": {
     "cellMetadata": {
      "byteLimit": 2048000,
      "rowLimit": 10000
     },
     "inputWidgets": {},
     "nuid": "3e224177-5896-4d6e-94d2-ef6b6403764e",
     "showTitle": false,
     "tableResultSettingsMap": {},
     "title": ""
    }
   },
   "outputs": [
    {
     "output_type": "stream",
     "name": "stdout",
     "output_type": "stream",
     "text": [
      "Out[38]: [{'external_urls': {'spotify': 'https://open.spotify.com/artist/5dDNNq04RjKXFOADdHd6VX'},\n  'href': 'https://api.spotify.com/v1/artists/5dDNNq04RjKXFOADdHd6VX',\n  'id': '5dDNNq04RjKXFOADdHd6VX',\n  'name': 'Scythermane',\n  'type': 'artist',\n  'uri': 'spotify:artist:5dDNNq04RjKXFOADdHd6VX'},\n {'external_urls': {'spotify': 'https://open.spotify.com/artist/7lAaAGxYxk2GH8cMbTEwAL'},\n  'href': 'https://api.spotify.com/v1/artists/7lAaAGxYxk2GH8cMbTEwAL',\n  'id': '7lAaAGxYxk2GH8cMbTEwAL',\n  'name': 'NXGHT!',\n  'type': 'artist',\n  'uri': 'spotify:artist:7lAaAGxYxk2GH8cMbTEwAL'},\n {'external_urls': {'spotify': 'https://open.spotify.com/artist/14hsjenLEdvafsGkk2CEiF'},\n  'href': 'https://api.spotify.com/v1/artists/14hsjenLEdvafsGkk2CEiF',\n  'id': '14hsjenLEdvafsGkk2CEiF',\n  'name': 'MC Fabinho da Osk',\n  'type': 'artist',\n  'uri': 'spotify:artist:14hsjenLEdvafsGkk2CEiF'}]"
     ]
    }
   ],
   "source": [
    "data['items'][0]['track']['album']['artists'] "
   ]
  },
  {
   "cell_type": "code",
   "execution_count": 0,
   "metadata": {
    "application/vnd.databricks.v1+cell": {
     "cellMetadata": {
      "byteLimit": 2048000,
      "rowLimit": 10000
     },
     "inputWidgets": {},
     "nuid": "98b612a2-1dc4-42f4-9c13-fd99f6573e76",
     "showTitle": false,
     "tableResultSettingsMap": {},
     "title": ""
    }
   },
   "outputs": [],
   "source": [
    "songs_list=[]\n",
    "for x in data['items']:\n",
    "    song_name=x['track']['name']\n",
    "    song_id=x['track']['id']\n",
    "    song_duration=x['track']['duration_ms']\n",
    "    song_url=x['track']['external_urls']['spotify']\n",
    "    song_popularity=x['track']['popularity']\n",
    "    song_added=x['added_at']\n",
    "    album_id=x['track']['album']['id']\n",
    "    artist_id=x['track']['album']['artists'][0]['id']  #even though we have multiple artist for a song why we took only one?\n",
    "                                                       # this way a song will linked to a single artist which is wrong , because the song itself belongs to multiple artist , right ?\n",
    "    song_element={'song_name':song_name,\n",
    "                  'song_id':song_id,\n",
    "                  'song_duration':song_duration,\n",
    "                  'song_url':song_url,\n",
    "                  'song_popularity':song_popularity,\n",
    "                  'song_added':song_added,\n",
    "                  'album_id':album_id,\n",
    "                  'artist_id':artist_id\n",
    "    }\n",
    "    songs_list.append(song_element)\n",
    "\n",
    "\n"
   ]
  },
  {
   "cell_type": "code",
   "execution_count": 0,
   "metadata": {
    "application/vnd.databricks.v1+cell": {
     "cellMetadata": {
      "byteLimit": 2048000,
      "rowLimit": 10000
     },
     "inputWidgets": {},
     "nuid": "87579309-a5f3-4263-bf79-153206ee1056",
     "showTitle": false,
     "tableResultSettingsMap": {},
     "title": ""
    }
   },
   "outputs": [
    {
     "output_type": "stream",
     "name": "stdout",
     "output_type": "stream",
     "text": [
      "Out[40]: 69"
     ]
    }
   ],
   "source": [
    "len(songs_list)"
   ]
  },
  {
   "cell_type": "code",
   "execution_count": 0,
   "metadata": {
    "application/vnd.databricks.v1+cell": {
     "cellMetadata": {
      "byteLimit": 2048000,
      "rowLimit": 10000
     },
     "inputWidgets": {},
     "nuid": "2af21870-4d54-424b-9632-5d61328b3f44",
     "showTitle": false,
     "tableResultSettingsMap": {},
     "title": ""
    }
   },
   "outputs": [
    {
     "output_type": "stream",
     "name": "stdout",
     "output_type": "stream",
     "text": [
      "Out[41]: [{'song_name': 'NUNCA MUDA?',\n  'song_id': '5EIjpM1B1VsLoKvv2iwd0P',\n  'song_duration': 81500,\n  'song_url': 'https://open.spotify.com/track/5EIjpM1B1VsLoKvv2iwd0P',\n  'song_popularity': 86,\n  'song_added': '2025-03-07T07:49:17Z',\n  'album_id': '6xUYw5goKIoyJQi9C27UBy',\n  'artist_id': '5dDNNq04RjKXFOADdHd6VX'},\n {'song_name': 'Funk de Beleza - Slowed',\n  'song_id': '43jExF2HeZ6cJIGrWF0ie4',\n  'song_duration': 145115,\n  'song_url': 'https://open.spotify.com/track/43jExF2HeZ6cJIGrWF0ie4',\n  'song_popularity': 85,\n  'song_added': '2025-03-07T07:49:21Z',\n  'album_id': '4s7LxMlh6RxgdMhldfMe8u',\n  'artist_id': '3g0UoyvaTaHUrfpHiRqsD1'},\n {'song_name': 'MONTAGEM TOMADA - Slowed',\n  'song_id': '1mfvWzF39LwVpAm8g0LhQT',\n  'song_duration': 84901,\n  'song_url': 'https://open.spotify.com/track/1mfvWzF39LwVpAm8g0LhQT',\n  'song_popularity': 62,\n  'song_added': '2025-04-10T07:43:26Z',\n  'album_id': '5D17Gk0J7jPXLvWMszqijF',\n  'artist_id': '7kk9ucvRJim0NMM89Lml2Y'},\n {'song_name': 'X-TALI',\n  'song_id': '6yIkBXij6NSjmRGRpQupqO',\n  'song_duration': 72352,\n  'song_url': 'https://open.spotify.com/track/6yIkBXij6NSjmRGRpQupqO',\n  'song_popularity': 74,\n  'song_added': '2025-03-07T07:52:21Z',\n  'album_id': '6dNugoBYWvUDQDtLurImhw',\n  'artist_id': '7qIgmxSjoXEeifSVDh8nIt'},\n {'song_name': 'MONTAGEM CONTIGO',\n  'song_id': '38eZ1H5Mpr4YanTn5kY8JD',\n  'song_duration': 96808,\n  'song_url': 'https://open.spotify.com/track/38eZ1H5Mpr4YanTn5kY8JD',\n  'song_popularity': 75,\n  'song_added': '2025-05-28T08:50:02Z',\n  'album_id': '0XoyJmD8cp3L8ixHoW3lB6',\n  'artist_id': '0jrirfCZkRU3iA2sH9JEko'},\n {'song_name': 'FUNK UNIVERSO',\n  'song_id': '466x7CJlVwiFdNTLvIXwZl',\n  'song_duration': 127500,\n  'song_url': 'https://open.spotify.com/track/466x7CJlVwiFdNTLvIXwZl',\n  'song_popularity': 79,\n  'song_added': '2025-03-07T07:49:36Z',\n  'album_id': '1kmsUHDC0n611meNgzRkuw',\n  'artist_id': '2vKxv2oKVSEJZ1VmuLUOvY'},\n {'song_name': 'PASSO BEM SOLTO - Slowed',\n  'song_id': '4sTlQPMyoFMPdhAJvErBN3',\n  'song_duration': 116072,\n  'song_url': 'https://open.spotify.com/track/4sTlQPMyoFMPdhAJvErBN3',\n  'song_popularity': 92,\n  'song_added': '2025-05-10T16:34:06Z',\n  'album_id': '0I7096R74VFP2xnMmp33sY',\n  'artist_id': '5SCDfg1YoEfI5gFtXqEWah'},\n {'song_name': 'MTG - RITMO ZELDA - Super Slowed',\n  'song_id': '5XwNsUvJxk38263zeXrfXI',\n  'song_duration': 107093,\n  'song_url': 'https://open.spotify.com/track/5XwNsUvJxk38263zeXrfXI',\n  'song_popularity': 55,\n  'song_added': '2025-03-20T11:10:50Z',\n  'album_id': '62R2H85ZiKLp0lYHPprQWV',\n  'artist_id': '2nGwC9QG6Hpw4fSDgNpn5n'},\n {'song_name': 'FUNKED UP - SLOWED',\n  'song_id': '4VL5XwfATZuAVTW471Wpro',\n  'song_duration': 115348,\n  'song_url': 'https://open.spotify.com/track/4VL5XwfATZuAVTW471Wpro',\n  'song_popularity': 78,\n  'song_added': '2025-03-07T08:19:08Z',\n  'album_id': '4FRxgE6LA2UGJ5yz8diaI9',\n  'artist_id': '4nl0CCx6PpEOOr2Z2ThPdp'},\n {'song_name': 'GLORY',\n  'song_id': '2YZ7CJV3Q1OGh7ZL9PYWcP',\n  'song_duration': 149522,\n  'song_url': 'https://open.spotify.com/track/2YZ7CJV3Q1OGh7ZL9PYWcP',\n  'song_popularity': 83,\n  'song_added': '2025-03-07T07:47:52Z',\n  'album_id': '3tSeUNn7yOQPEex7jwS9Bf',\n  'artist_id': '1Sdc6ySbIvzO0X9vbyHzWm'},\n {'song_name': 'EMPIRE - Slowed',\n  'song_id': '3c1rQB4Q5plN80oyUwixG3',\n  'song_duration': 115803,\n  'song_url': 'https://open.spotify.com/track/3c1rQB4Q5plN80oyUwixG3',\n  'song_popularity': 69,\n  'song_added': '2025-03-07T07:47:57Z',\n  'album_id': '6YLJD87ZAaFBziGObBIcOW',\n  'artist_id': '1Sdc6ySbIvzO0X9vbyHzWm'},\n {'song_name': 'AURA',\n  'song_id': '2TNv2GxMpIO8AyPiD7TLxj',\n  'song_duration': 115906,\n  'song_url': 'https://open.spotify.com/track/2TNv2GxMpIO8AyPiD7TLxj',\n  'song_popularity': 80,\n  'song_added': '2025-03-07T07:47:46Z',\n  'album_id': '06a7H7nusNMvM7yL8m3fy1',\n  'artist_id': '1Sdc6ySbIvzO0X9vbyHzWm'},\n {'song_name': 'FUNK DO BOUNCE (Slowed)',\n  'song_id': '7IBqHkoP94VrgYKVns4eNz',\n  'song_duration': 107539,\n  'song_url': 'https://open.spotify.com/track/7IBqHkoP94VrgYKVns4eNz',\n  'song_popularity': 84,\n  'song_added': '2025-03-07T07:49:29Z',\n  'album_id': '6Zd0Hg3HKVH7xhBPgESQy1',\n  'artist_id': '09cKncAQn28NqTUORLMwSR'},\n {'song_name': 'X-SLIDE',\n  'song_id': '60AVJqYgyAlCckC6Nh2tgO',\n  'song_duration': 79452,\n  'song_url': 'https://open.spotify.com/track/60AVJqYgyAlCckC6Nh2tgO',\n  'song_popularity': 80,\n  'song_added': '2025-03-07T07:51:56Z',\n  'album_id': '1QFKbF3Oot9Ad1NnRCAG32',\n  'artist_id': '2vPnS0IpayC2RVFuQA08R4'},\n {'song_name': 'SPOOKY',\n  'song_id': '4aT2W9wchQKAimxVFSRIva',\n  'song_duration': 96923,\n  'song_url': 'https://open.spotify.com/track/4aT2W9wchQKAimxVFSRIva',\n  'song_popularity': 81,\n  'song_added': '2025-03-07T07:52:00Z',\n  'album_id': '4QmDrxVGw99LUJOubfPJz9',\n  'artist_id': '5tvPbCrx8LMaL9Zby5e7c2'},\n {'song_name': 'LUNA BALA - Slowed',\n  'song_id': '49t3uvN9hUNefdvtaD6HBj',\n  'song_duration': 124110,\n  'song_url': 'https://open.spotify.com/track/49t3uvN9hUNefdvtaD6HBj',\n  'song_popularity': 91,\n  'song_added': '2025-05-22T21:19:11Z',\n  'album_id': '2acEAXK1zIr0cPBkIDDJgz',\n  'artist_id': '02wf6SCDwrs2qTX09X0IRE'},\n {'song_name': 'EI DO SENSACIO!',\n  'song_id': '2vbl2mqgwZCPqiYjn3MPhS',\n  'song_duration': 101089,\n  'song_url': 'https://open.spotify.com/track/2vbl2mqgwZCPqiYjn3MPhS',\n  'song_popularity': 70,\n  'song_added': '2025-03-07T07:52:14Z',\n  'album_id': '1qlnjo9SZtK01FqDyjv6nM',\n  'artist_id': '0oGN0s7dqyWbR41yMsNs0R'},\n {'song_name': 'REI DO BRASIL',\n  'song_id': '6Seth37t5I69wFbuGFrsiG',\n  'song_duration': 97846,\n  'song_url': 'https://open.spotify.com/track/6Seth37t5I69wFbuGFrsiG',\n  'song_popularity': 64,\n  'song_added': '2025-03-07T07:54:42Z',\n  'album_id': '5rDznSixlUXNxJySfWQNb7',\n  'artist_id': '3qycxIGAHj1KyoAQ6PGCO6'},\n {'song_name': 'Mexican Phonk Eki',\n  'song_id': '586x98q1tY2vlDlhN1BwQM',\n  'song_duration': 98067,\n  'song_url': 'https://open.spotify.com/track/586x98q1tY2vlDlhN1BwQM',\n  'song_popularity': 68,\n  'song_added': '2025-03-07T07:54:56Z',\n  'album_id': '1vQpZhp0nRdlUT4m2cgV4k',\n  'artist_id': '1nccv1GNVkBdvsYi2FB5FB'},\n {'song_name': 'AVANGARD - Slowed',\n  'song_id': '1EPi3TSB6vGbGQ4IHVpxco',\n  'song_duration': 199450,\n  'song_url': 'https://open.spotify.com/track/1EPi3TSB6vGbGQ4IHVpxco',\n  'song_popularity': 77,\n  'song_added': '2025-03-07T07:57:42Z',\n  'album_id': '5n9EF7hP2GRMiklzLpPY0E',\n  'artist_id': '700c9Qz2z6HZKTumeliKAw'},\n {'song_name': 'O Melhor no Que Faz 3.0 - Slowed',\n  'song_id': '1H5PVxswRh4KpLoW5o78VJ',\n  'song_duration': 144000,\n  'song_url': 'https://open.spotify.com/track/1H5PVxswRh4KpLoW5o78VJ',\n  'song_popularity': 67,\n  'song_added': '2025-03-07T07:59:41Z',\n  'album_id': '1Wr2LyF0JSHHPv9nGXgFTN',\n  'artist_id': '19P1EvDdYzg1ICEyiAEk4m'},\n {'song_name': 'PYTHON FUNK',\n  'song_id': '4YvxfQF9QCXykqi2ahREC4',\n  'song_duration': 74285,\n  'song_url': 'https://open.spotify.com/track/4YvxfQF9QCXykqi2ahREC4',\n  'song_popularity': 72,\n  'song_added': '2025-03-07T07:59:49Z',\n  'album_id': '7JslfZtjZ430btdARyxLQ4',\n  'artist_id': '62D4KEvQMmmK88mTkkWx6Q'},\n {'song_name': 'BAIXO',\n  'song_id': '0RVmg31gzlshCm356g0HF2',\n  'song_duration': 104013,\n  'song_url': 'https://open.spotify.com/track/0RVmg31gzlshCm356g0HF2',\n  'song_popularity': 69,\n  'song_added': '2025-03-07T07:59:54Z',\n  'album_id': '2Osz2h7ZjKHOZh5grL7o6G',\n  'artist_id': '4nl0CCx6PpEOOr2Z2ThPdp'},\n {'song_name': 'NEXT!',\n  'song_id': '5hL2t5WyC9bibNDVkhVvDx',\n  'song_duration': 99692,\n  'song_url': 'https://open.spotify.com/track/5hL2t5WyC9bibNDVkhVvDx',\n  'song_popularity': 82,\n  'song_added': '2025-03-07T08:02:31Z',\n  'album_id': '1k9oQsBjwIhc4vF32zxvY5',\n  'artist_id': '6BWtcMF39LT5Db5FT54YYG'},\n {'song_name': 'TUCA DONKA',\n  'song_id': '7bxyNLXYaEYaZTxAuQTHlD',\n  'song_duration': 75692,\n  'song_url': 'https://open.spotify.com/track/7bxyNLXYaEYaZTxAuQTHlD',\n  'song_popularity': 76,\n  'song_added': '2025-03-07T08:02:58Z',\n  'album_id': '27XmqsKeLyr5jDURAordcd',\n  'artist_id': '6rzNFUmaEVnYb8kzh9tBTt'},\n {'song_name': 'Orquestra Maldita',\n  'song_id': '7hcagAQDiI0TgUOv337NIr',\n  'song_duration': 119777,\n  'song_url': 'https://open.spotify.com/track/7hcagAQDiI0TgUOv337NIr',\n  'song_popularity': 74,\n  'song_added': '2025-03-07T08:03:02Z',\n  'album_id': '6DptPhwLku8xvWBodULnC6',\n  'artist_id': '3rt96VXGtEgD4uSOJ6B69H'},\n {'song_name': 'DNA',\n  'song_id': '3i6tlvYU1BSAM3yGQNemtM',\n  'song_duration': 88740,\n  'song_url': 'https://open.spotify.com/track/3i6tlvYU1BSAM3yGQNemtM',\n  'song_popularity': 74,\n  'song_added': '2025-03-07T08:03:06Z',\n  'album_id': '1ILssfrknV8cQv5QvwBGUY',\n  'artist_id': '5IpS1TN1Crp8Ym4zjiIrtK'},\n {'song_name': 'SPACE! - Super Slowed',\n  'song_id': '38dHd7r4mSSVhRvVulD1na',\n  'song_duration': 109848,\n  'song_url': 'https://open.spotify.com/track/38dHd7r4mSSVhRvVulD1na',\n  'song_popularity': 78,\n  'song_added': '2025-03-07T08:03:13Z',\n  'album_id': '6tf2ziKDZQJinItJi99wBW',\n  'artist_id': '5AviPhK4XqgGjtTa0m9aQc'},\n {'song_name': 'Sequência da Dz7',\n  'song_id': '0hEjvk5rMwLzt9rUcFmZG7',\n  'song_duration': 119231,\n  'song_url': 'https://open.spotify.com/track/0hEjvk5rMwLzt9rUcFmZG7',\n  'song_popularity': 72,\n  'song_added': '2025-03-07T08:03:17Z',\n  'album_id': '3BsuqyYCV0DYIBrDi1SKwQ',\n  'artist_id': '3rt96VXGtEgD4uSOJ6B69H'},\n {'song_name': 'Life in Rio',\n  'song_id': '7vtGOauV0Zz8Px5EJYm7d7',\n  'song_duration': 94418,\n  'song_url': 'https://open.spotify.com/track/7vtGOauV0Zz8Px5EJYm7d7',\n  'song_popularity': 69,\n  'song_added': '2025-03-07T08:03:21Z',\n  'album_id': '2EuOCirl08WxbRY2cfj4H5',\n  'artist_id': '65FHTCI8EmW94W0TdWb8ja'},\n {'song_name': 'FUNK INFERNAL',\n  'song_id': '56BZSVROHDzuiYM8C2Zv3y',\n  'song_duration': 90000,\n  'song_url': 'https://open.spotify.com/track/56BZSVROHDzuiYM8C2Zv3y',\n  'song_popularity': 79,\n  'song_added': '2025-03-07T08:07:21Z',\n  'album_id': '3Iw0jAPzwgmuqSIWQa9i8W',\n  'artist_id': '6ZhleMHIGIpjkBHrQDl4G7'},\n {'song_name': 'Montagem Injuriosum Retines - Slowed',\n  'song_id': '1T09ARjY1LkuSJVJTk100T',\n  'song_duration': 151632,\n  'song_url': 'https://open.spotify.com/track/1T09ARjY1LkuSJVJTk100T',\n  'song_popularity': 61,\n  'song_added': '2025-03-07T08:07:49Z',\n  'album_id': '1R1KJCX1oc3xqSbABo2Wpn',\n  'artist_id': '07MaeHw0cyfmgQ9D9I61UT'},\n {'song_name': 'Funk Secreto - Ultra Slowed',\n  'song_id': '1XBarxRIZkpNzIqj2IlIMe',\n  'song_duration': 89773,\n  'song_url': 'https://open.spotify.com/track/1XBarxRIZkpNzIqj2IlIMe',\n  'song_popularity': 67,\n  'song_added': '2025-03-07T08:08:01Z',\n  'album_id': '2bqWrlHmNh4M41xOr0p7iN',\n  'artist_id': '2JrpgVMFW3Hpe1CwLaAORl'},\n {'song_name': 'void - super slowed',\n  'song_id': '4Pxm8GR4lQT1WnhvN2qNvx',\n  'song_duration': 101420,\n  'song_url': 'https://open.spotify.com/track/4Pxm8GR4lQT1WnhvN2qNvx',\n  'song_popularity': 76,\n  'song_added': '2025-03-07T08:08:06Z',\n  'album_id': '3HEJNpi4OtYpYQlGy2anVB',\n  'artist_id': '6JjQbtAO09K7qBEW2pdX5s'},\n {'song_name': 'BLUE HORIZON FUNK - SLOWED',\n  'song_id': '6ISgjQNYq70ahUOL9rOrcz',\n  'song_duration': 85642,\n  'song_url': 'https://open.spotify.com/track/6ISgjQNYq70ahUOL9rOrcz',\n  'song_popularity': 75,\n  'song_added': '2025-03-07T08:08:14Z',\n  'album_id': '5jXbkZ8fgtvq5OufR9LJz4',\n  'artist_id': '7lAaAGxYxk2GH8cMbTEwAL'},\n {'song_name': 'BLAH',\n  'song_id': '5kfzt2xCxOCrmt1H6H2d8O',\n  'song_duration': 141641,\n  'song_url': 'https://open.spotify.com/track/5kfzt2xCxOCrmt1H6H2d8O',\n  'song_popularity': 21,\n  'song_added': '2025-03-07T08:08:19Z',\n  'album_id': '7hNzImuUou9dBftesPXcAt',\n  'artist_id': '4H61c3XQu4PswXGtB0MJ6N'},\n {'song_name': 'DON`T STOP - Slowed',\n  'song_id': '52uQ2fQqo9hX5H4p7Niq0b',\n  'song_duration': 179904,\n  'song_url': 'https://open.spotify.com/track/52uQ2fQqo9hX5H4p7Niq0b',\n  'song_popularity': 77,\n  'song_added': '2025-03-07T08:18:37Z',\n  'album_id': '1Idktx9vdSSkm1yxABycnf',\n  'artist_id': '5Vd9shhZpzTYaaZ6KQNnjU'},\n {'song_name': 'SLAY!',\n  'song_id': '67smGwuPEtA6GAfeweAVNO',\n  'song_duration': 107076,\n  'song_url': 'https://open.spotify.com/track/67smGwuPEtA6GAfeweAVNO',\n  'song_popularity': 82,\n  'song_added': '2025-03-07T08:18:44Z',\n  'album_id': '3xCc8FxQsm6AE7ZWJ7h5sx',\n  'artist_id': '3Xd2WSaNywx5gn1pgRPFjF'},\n {'song_name': 'Beeper Funk - Slowed',\n  'song_id': '02WKo37gebkkQKor2TCuTk',\n  'song_duration': 103375,\n  'song_url': 'https://open.spotify.com/track/02WKo37gebkkQKor2TCuTk',\n  'song_popularity': 72,\n  'song_added': '2025-03-07T08:19:20Z',\n  'album_id': '5eEfzNcFaXPsBXJzkPiD3S',\n  'artist_id': '648ZoUpTM6iIMTCgo3lLCE'},\n {'song_name': 'FUNK DO BALKAN - Slowed',\n  'song_id': '5Nk4wgj4fmvue8sCs2kSlX',\n  'song_duration': 81336,\n  'song_url': 'https://open.spotify.com/track/5Nk4wgj4fmvue8sCs2kSlX',\n  'song_popularity': 71,\n  'song_added': '2025-03-07T08:19:39Z',\n  'album_id': '6PZBt4XZvd1ElHAHG31J1j',\n  'artist_id': '60vF1fLR6yzLxCQUlnAYYj'},\n {'song_name': 'Ela Vira Mortal',\n  'song_id': '28Qri8CIMxJUQauS8YOR7o',\n  'song_duration': 136370,\n  'song_url': 'https://open.spotify.com/track/28Qri8CIMxJUQauS8YOR7o',\n  'song_popularity': 70,\n  'song_added': '2025-03-07T08:19:45Z',\n  'album_id': '05EQpLFKhJ1m4YElm4zDHr',\n  'artist_id': '1yTrrABG9Vr2Y9lbHupN3f'},\n {'song_name': 'Death Is No More',\n  'song_id': '70FceppUZq9dQz1mDPcHcs',\n  'song_duration': 138500,\n  'song_url': 'https://open.spotify.com/track/70FceppUZq9dQz1mDPcHcs',\n  'song_popularity': 72,\n  'song_added': '2025-03-07T08:37:35Z',\n  'album_id': '5Ide1hRSwzUYUnTQhq6CBv',\n  'artist_id': '4RsEAdLhbUy7j3zHWauPwF'},\n {'song_name': 'YUM YUM',\n  'song_id': '0R902FnwJO8kBZYvtpQLrL',\n  'song_duration': 129697,\n  'song_url': 'https://open.spotify.com/track/0R902FnwJO8kBZYvtpQLrL',\n  'song_popularity': 69,\n  'song_added': '2025-03-07T08:37:45Z',\n  'album_id': '7Bc7xEWvkW01bvq5jAhCQS',\n  'artist_id': '5IpS1TN1Crp8Ym4zjiIrtK'},\n {'song_name': 'BAD PARENTING FUNK',\n  'song_id': '6kJjlOWBwnDwIBsvlwTNIF',\n  'song_duration': 87834,\n  'song_url': 'https://open.spotify.com/track/6kJjlOWBwnDwIBsvlwTNIF',\n  'song_popularity': 76,\n  'song_added': '2025-03-07T08:37:49Z',\n  'album_id': '2DNOGCn0szoh9f3rAnhF7b',\n  'artist_id': '1iKfUld50BOVBIgHy3GlGt'},\n {'song_name': 'MANDA BALA',\n  'song_id': '1lS2qOUk6GA20XvjjrWc25',\n  'song_duration': 100465,\n  'song_url': 'https://open.spotify.com/track/1lS2qOUk6GA20XvjjrWc25',\n  'song_popularity': 72,\n  'song_added': '2025-03-07T08:38:02Z',\n  'album_id': '4ibsk1iPM7xDpJkNXREmsl',\n  'artist_id': '09cKncAQn28NqTUORLMwSR'},\n {'song_name': 'RISADA CHUCK 01 - Super Slowed',\n  'song_id': '2iRiWUoB7tNnG23KlM3Ui7',\n  'song_duration': 130360,\n  'song_url': 'https://open.spotify.com/track/2iRiWUoB7tNnG23KlM3Ui7',\n  'song_popularity': 73,\n  'song_added': '2025-03-07T08:38:27Z',\n  'album_id': '7lolzbhq4moSJPfFpdosl5',\n  'artist_id': '3uA4unR7LBOcqjpbOeCs0Y'},\n {'song_name': 'ICEWHORE!',\n  'song_id': '0RgKtaVv27Nff2y29qaD8W',\n  'song_duration': 79052,\n  'song_url': 'https://open.spotify.com/track/0RgKtaVv27Nff2y29qaD8W',\n  'song_popularity': 67,\n  'song_added': '2025-03-07T08:44:35Z',\n  'album_id': '5J00ADHG1jlJiLjQDPURVh',\n  'artist_id': '1TTHC3GlNDaE5eVoC3BVxm'},\n {'song_name': 'MONTAGEM DIAMANTE ROSA',\n  'song_id': '6vEOZGTBgE6gASrzAWNxTH',\n  'song_duration': 99692,\n  'song_url': 'https://open.spotify.com/track/6vEOZGTBgE6gASrzAWNxTH',\n  'song_popularity': 67,\n  'song_added': '2025-03-07T08:44:41Z',\n  'album_id': '28N1pcdMLhrEajfJKkBkl1',\n  'artist_id': '3yn6fs9MkW1i4V3S2G8Dxs'},\n {'song_name': 'MTG - VINGANÇA',\n  'song_id': '7yIwT8zSR8dzl0rWXbW2jm',\n  'song_duration': 75692,\n  'song_url': 'https://open.spotify.com/track/7yIwT8zSR8dzl0rWXbW2jm',\n  'song_popularity': 62,\n  'song_added': '2025-03-07T08:44:46Z',\n  'album_id': '7DGsEVuwdKBKrzDx8fzEKn',\n  'artist_id': '3QMpCp3GHiHXgnX1LldXWe'},\n {'song_name': 'VAPO NO SETOR',\n  'song_id': '25MzUGleMnmyoeTNRZ8QF1',\n  'song_duration': 67596,\n  'song_url': 'https://open.spotify.com/track/25MzUGleMnmyoeTNRZ8QF1',\n  'song_popularity': 78,\n  'song_added': '2025-03-07T08:44:52Z',\n  'album_id': '6h4Lw0QisEuuAwmnMQvbse',\n  'artist_id': '3wQNcarvRuzhz2Fg1pVDxZ'},\n {'song_name': 'Montagem Melodia Explosiva - Slowed',\n  'song_id': '2SQp5yapF1ZwiuKgaFuFMJ',\n  'song_duration': 104347,\n  'song_url': 'https://open.spotify.com/track/2SQp5yapF1ZwiuKgaFuFMJ',\n  'song_popularity': 70,\n  'song_added': '2025-03-07T08:53:20Z',\n  'album_id': '3D2j7JQjj9Kjc8sOfikmV6',\n  'artist_id': '1PvcWjADPMezv8CTyJO9Uk'},\n {'song_name': 'MASHA ULTRAFUNK',\n  'song_id': '5VZ0soW5syQfefCUj603DW',\n  'song_duration': 93650,\n  'song_url': 'https://open.spotify.com/track/5VZ0soW5syQfefCUj603DW',\n  'song_popularity': 74,\n  'song_added': '2025-03-18T19:45:04Z',\n  'album_id': '43DSGSYCywacjEkdeSv4DC',\n  'artist_id': '5Z56BMrvQB2rBAa5kffTPD'},\n {'song_name': 'z-beta 2 - Super Slowed',\n  'song_id': '5WMrHMfkarliApsXvwUTrh',\n  'song_duration': 94040,\n  'song_url': 'https://open.spotify.com/track/5WMrHMfkarliApsXvwUTrh',\n  'song_popularity': 70,\n  'song_added': '2025-03-24T23:41:07Z',\n  'album_id': '6dRJ8zaG9oTGrwpfu0Itld',\n  'artist_id': '32Pxa55IN0QAmFtzWcT2w9'},\n {'song_name': 'MY TYPE - Slowed',\n  'song_id': '5smCqaAEcKpArEBVhtaryT',\n  'song_duration': 91585,\n  'song_url': 'https://open.spotify.com/track/5smCqaAEcKpArEBVhtaryT',\n  'song_popularity': 68,\n  'song_added': '2025-04-05T04:13:26Z',\n  'album_id': '4yUHDMHDEl6Th3jPimciMz',\n  'artist_id': '4pmKpROq7rAVibM7qR9h6P'},\n {'song_name': 'BLOODY! - ULTRA SLOWED',\n  'song_id': '03E0f4JneWZEtrQPU6EsIV',\n  'song_duration': 139384,\n  'song_url': 'https://open.spotify.com/track/03E0f4JneWZEtrQPU6EsIV',\n  'song_popularity': 74,\n  'song_added': '2025-04-05T04:13:55Z',\n  'album_id': '0yr5YRR7l813mmHITxmFWa',\n  'artist_id': '1qaCszXlFNPEnCELYBixa5'},\n {'song_name': 'life force',\n  'song_id': '7qvDmYmPjrIosceqmSriCa',\n  'song_duration': 109440,\n  'song_url': 'https://open.spotify.com/track/7qvDmYmPjrIosceqmSriCa',\n  'song_popularity': 80,\n  'song_added': '2025-05-10T16:33:18Z',\n  'album_id': '6OCivCvAUhsjgqn4EJXH87',\n  'artist_id': '6T9oTkBolkKzQJ5ltR7Yr8'},\n {'song_name': 'BOUNCE FUNK - Slowed',\n  'song_id': '0cJwt3tpaMOXPAXkaHAp7k',\n  'song_duration': 97368,\n  'song_url': 'https://open.spotify.com/track/0cJwt3tpaMOXPAXkaHAp7k',\n  'song_popularity': 75,\n  'song_added': '2025-03-26T23:51:24Z',\n  'album_id': '572YC1K4uc7PjFqb6xaICD',\n  'artist_id': '0pSdNszQKrzI6m9okVVSL5'},\n {'song_name': 'CUTE DEPRESSED',\n  'song_id': '06PqeO7IInus2yvzsZwZhf',\n  'song_duration': 96946,\n  'song_url': 'https://open.spotify.com/track/06PqeO7IInus2yvzsZwZhf',\n  'song_popularity': 78,\n  'song_added': '2025-05-10T16:34:30Z',\n  'album_id': '5qaY84OJqYT635rMGeWBzJ',\n  'artist_id': '12Swjg82MNiUOfl1GB3XFx'},\n {'song_name': 'COM MEDO!',\n  'song_id': '1jkqC2F17O5BugrmUj9KvO',\n  'song_duration': 69736,\n  'song_url': 'https://open.spotify.com/track/1jkqC2F17O5BugrmUj9KvO',\n  'song_popularity': 80,\n  'song_added': '2025-05-28T04:06:12Z',\n  'album_id': '2JCCZCrAWvohxlUXRRz36I',\n  'artist_id': '6s4LSwgbzTAfnN6OUfegJB'},\n {'song_name': 'MONTAGEM LADRAO',\n  'song_id': '48WnIIBbnttcwUQ77MBoMI',\n  'song_duration': 75240,\n  'song_url': 'https://open.spotify.com/track/48WnIIBbnttcwUQ77MBoMI',\n  'song_popularity': 83,\n  'song_added': '2025-04-01T18:18:31Z',\n  'album_id': '3Aw43kkDlLE5ZXwQPGHWgO',\n  'artist_id': '5SCDfg1YoEfI5gFtXqEWah'},\n {'song_name': 'VOLKSWAGEN FUNK - super slowed',\n  'song_id': '4WFgUkgd1gCHBFwgZ1Dj8K',\n  'song_duration': 108923,\n  'song_url': 'https://open.spotify.com/track/4WFgUkgd1gCHBFwgZ1Dj8K',\n  'song_popularity': 72,\n  'song_added': '2025-05-28T08:45:51Z',\n  'album_id': '1fsqVvld64Nym3Byfl6ekY',\n  'artist_id': '3wuzmgnvjw5FzJiz8wjrq1'},\n {'song_name': 'LOS VOLTAJE',\n  'song_id': '4LkkRLP8pldQer1YRrHwkx',\n  'song_duration': 99285,\n  'song_url': 'https://open.spotify.com/track/4LkkRLP8pldQer1YRrHwkx',\n  'song_popularity': 88,\n  'song_added': '2025-05-29T00:36:33Z',\n  'album_id': '7CWmZcjCHJWd7detYptzAX',\n  'artist_id': '6s4LSwgbzTAfnN6OUfegJB'},\n {'song_name': 'GHOST!',\n  'song_id': '3TzPVU3jj6YdTunVdKimiQ',\n  'song_duration': 231704,\n  'song_url': 'https://open.spotify.com/track/3TzPVU3jj6YdTunVdKimiQ',\n  'song_popularity': 71,\n  'song_added': '2025-05-29T00:37:31Z',\n  'album_id': '0TwAp1jAUFp1PQtdDlDDW3',\n  'artist_id': '3YNdAmDzM5zMbGYeaSCe6A'},\n {'song_name': 'Montagem sombra estelar 1.0',\n  'song_id': '7BRQ9eXqLLkYL8WdIYNRQq',\n  'song_duration': 88714,\n  'song_url': 'https://open.spotify.com/track/7BRQ9eXqLLkYL8WdIYNRQq',\n  'song_popularity': 71,\n  'song_added': '2025-05-29T00:38:41Z',\n  'album_id': '0JQT0alFPE0pKxgiLfhwYz',\n  'artist_id': '3Cd3LHNXuJd9NudRiH1IxS'},\n {'song_name': 'Scopin',\n  'song_id': '7KmbiagSkUbepU88x7NWjb',\n  'song_duration': 101632,\n  'song_url': 'https://open.spotify.com/track/7KmbiagSkUbepU88x7NWjb',\n  'song_popularity': 69,\n  'song_added': '2025-05-29T00:40:24Z',\n  'album_id': '6mjnYcgnUPMXZpadY3ctr1',\n  'artist_id': '2W6WP4pHQTFlbr2z9S4n54'},\n {'song_name': 'MONTAGEM BAILÃO',\n  'song_id': '1RnPdd7EKKhKN3E4o4DRsh',\n  'song_duration': 103727,\n  'song_url': 'https://open.spotify.com/track/1RnPdd7EKKhKN3E4o4DRsh',\n  'song_popularity': 89,\n  'song_added': '2025-05-29T00:41:34Z',\n  'album_id': '2VW8krMRkhGJmdlcHbyTfZ',\n  'artist_id': '0jrirfCZkRU3iA2sH9JEko'},\n {'song_name': 'Montagem Mysterious Game',\n  'song_id': '7vOmSP2647oNUGGEhWd1cr',\n  'song_duration': 103495,\n  'song_url': 'https://open.spotify.com/track/7vOmSP2647oNUGGEhWd1cr',\n  'song_popularity': 78,\n  'song_added': '2025-06-08T08:33:21Z',\n  'album_id': '1l8if9zQ8F0MEHVWYrMREe',\n  'artist_id': '5IpS1TN1Crp8Ym4zjiIrtK'},\n {'song_name': 'THOMAS',\n  'song_id': '3cjg55upztjI5bIsBQqSN1',\n  'song_duration': 90603,\n  'song_url': 'https://open.spotify.com/track/3cjg55upztjI5bIsBQqSN1',\n  'song_popularity': 68,\n  'song_added': '2025-06-08T08:36:24Z',\n  'album_id': '6s28IiIJ7ElbJfTPn03D6Y',\n  'artist_id': '33rnQWadiG2aauIwIxPxfB'},\n {'song_name': 'MAZKO',\n  'song_id': '7xsDWgQfb3szawKuUZyk5N',\n  'song_duration': 75692,\n  'song_url': 'https://open.spotify.com/track/7xsDWgQfb3szawKuUZyk5N',\n  'song_popularity': 79,\n  'song_added': '2025-07-04T12:50:36Z',\n  'album_id': '4F2WvpcBhSzlbn3WIITz2B',\n  'artist_id': '0oV5Z0bl2CEOKxeN8FZHi7'}]"
     ]
    }
   ],
   "source": [
    "songs_list"
   ]
  },
  {
   "cell_type": "code",
   "execution_count": 0,
   "metadata": {
    "application/vnd.databricks.v1+cell": {
     "cellMetadata": {
      "byteLimit": 2048000,
      "rowLimit": 10000
     },
     "inputWidgets": {},
     "nuid": "bf1e7829-c301-41bd-af89-5c5a28bd0fb3",
     "showTitle": false,
     "tableResultSettingsMap": {},
     "title": ""
    }
   },
   "outputs": [],
   "source": [
    " songs_df=pd.DataFrame(songs_list)"
   ]
  },
  {
   "cell_type": "code",
   "execution_count": 0,
   "metadata": {
    "application/vnd.databricks.v1+cell": {
     "cellMetadata": {
      "byteLimit": 2048000,
      "rowLimit": 10000
     },
     "inputWidgets": {},
     "nuid": "ea025457-2a3b-4fbb-a232-9ba60dec1999",
     "showTitle": false,
     "tableResultSettingsMap": {},
     "title": ""
    }
   },
   "outputs": [
    {
     "output_type": "display_data",
     "data": {
      "text/html": [
       "<div>\n",
       "<style scoped>\n",
       "    .dataframe tbody tr th:only-of-type {\n",
       "        vertical-align: middle;\n",
       "    }\n",
       "\n",
       "    .dataframe tbody tr th {\n",
       "        vertical-align: top;\n",
       "    }\n",
       "\n",
       "    .dataframe thead th {\n",
       "        text-align: right;\n",
       "    }\n",
       "</style>\n",
       "<table border=\"1\" class=\"dataframe\">\n",
       "  <thead>\n",
       "    <tr style=\"text-align: right;\">\n",
       "      <th></th>\n",
       "      <th>song_name</th>\n",
       "      <th>song_id</th>\n",
       "      <th>song_duration</th>\n",
       "      <th>song_url</th>\n",
       "      <th>song_popularity</th>\n",
       "      <th>song_added</th>\n",
       "      <th>album_id</th>\n",
       "      <th>artist_id</th>\n",
       "    </tr>\n",
       "  </thead>\n",
       "  <tbody>\n",
       "    <tr>\n",
       "      <th>0</th>\n",
       "      <td>NUNCA MUDA?</td>\n",
       "      <td>5EIjpM1B1VsLoKvv2iwd0P</td>\n",
       "      <td>81500</td>\n",
       "      <td>https://open.spotify.com/track/5EIjpM1B1VsLoKv...</td>\n",
       "      <td>86</td>\n",
       "      <td>2025-03-07T07:49:17Z</td>\n",
       "      <td>6xUYw5goKIoyJQi9C27UBy</td>\n",
       "      <td>5dDNNq04RjKXFOADdHd6VX</td>\n",
       "    </tr>\n",
       "    <tr>\n",
       "      <th>1</th>\n",
       "      <td>Funk de Beleza - Slowed</td>\n",
       "      <td>43jExF2HeZ6cJIGrWF0ie4</td>\n",
       "      <td>145115</td>\n",
       "      <td>https://open.spotify.com/track/43jExF2HeZ6cJIG...</td>\n",
       "      <td>85</td>\n",
       "      <td>2025-03-07T07:49:21Z</td>\n",
       "      <td>4s7LxMlh6RxgdMhldfMe8u</td>\n",
       "      <td>3g0UoyvaTaHUrfpHiRqsD1</td>\n",
       "    </tr>\n",
       "    <tr>\n",
       "      <th>2</th>\n",
       "      <td>MONTAGEM TOMADA - Slowed</td>\n",
       "      <td>1mfvWzF39LwVpAm8g0LhQT</td>\n",
       "      <td>84901</td>\n",
       "      <td>https://open.spotify.com/track/1mfvWzF39LwVpAm...</td>\n",
       "      <td>62</td>\n",
       "      <td>2025-04-10T07:43:26Z</td>\n",
       "      <td>5D17Gk0J7jPXLvWMszqijF</td>\n",
       "      <td>7kk9ucvRJim0NMM89Lml2Y</td>\n",
       "    </tr>\n",
       "    <tr>\n",
       "      <th>3</th>\n",
       "      <td>X-TALI</td>\n",
       "      <td>6yIkBXij6NSjmRGRpQupqO</td>\n",
       "      <td>72352</td>\n",
       "      <td>https://open.spotify.com/track/6yIkBXij6NSjmRG...</td>\n",
       "      <td>74</td>\n",
       "      <td>2025-03-07T07:52:21Z</td>\n",
       "      <td>6dNugoBYWvUDQDtLurImhw</td>\n",
       "      <td>7qIgmxSjoXEeifSVDh8nIt</td>\n",
       "    </tr>\n",
       "    <tr>\n",
       "      <th>4</th>\n",
       "      <td>MONTAGEM CONTIGO</td>\n",
       "      <td>38eZ1H5Mpr4YanTn5kY8JD</td>\n",
       "      <td>96808</td>\n",
       "      <td>https://open.spotify.com/track/38eZ1H5Mpr4YanT...</td>\n",
       "      <td>75</td>\n",
       "      <td>2025-05-28T08:50:02Z</td>\n",
       "      <td>0XoyJmD8cp3L8ixHoW3lB6</td>\n",
       "      <td>0jrirfCZkRU3iA2sH9JEko</td>\n",
       "    </tr>\n",
       "  </tbody>\n",
       "</table>\n",
       "</div>"
      ]
     },
     "metadata": {
      "application/vnd.databricks.v1+output": {
       "addedWidgets": {},
       "arguments": {},
       "data": "<div>\n<style scoped>\n    .dataframe tbody tr th:only-of-type {\n        vertical-align: middle;\n    }\n\n    .dataframe tbody tr th {\n        vertical-align: top;\n    }\n\n    .dataframe thead th {\n        text-align: right;\n    }\n</style>\n<table border=\"1\" class=\"dataframe\">\n  <thead>\n    <tr style=\"text-align: right;\">\n      <th></th>\n      <th>song_name</th>\n      <th>song_id</th>\n      <th>song_duration</th>\n      <th>song_url</th>\n      <th>song_popularity</th>\n      <th>song_added</th>\n      <th>album_id</th>\n      <th>artist_id</th>\n    </tr>\n  </thead>\n  <tbody>\n    <tr>\n      <th>0</th>\n      <td>NUNCA MUDA?</td>\n      <td>5EIjpM1B1VsLoKvv2iwd0P</td>\n      <td>81500</td>\n      <td>https://open.spotify.com/track/5EIjpM1B1VsLoKv...</td>\n      <td>86</td>\n      <td>2025-03-07T07:49:17Z</td>\n      <td>6xUYw5goKIoyJQi9C27UBy</td>\n      <td>5dDNNq04RjKXFOADdHd6VX</td>\n    </tr>\n    <tr>\n      <th>1</th>\n      <td>Funk de Beleza - Slowed</td>\n      <td>43jExF2HeZ6cJIGrWF0ie4</td>\n      <td>145115</td>\n      <td>https://open.spotify.com/track/43jExF2HeZ6cJIG...</td>\n      <td>85</td>\n      <td>2025-03-07T07:49:21Z</td>\n      <td>4s7LxMlh6RxgdMhldfMe8u</td>\n      <td>3g0UoyvaTaHUrfpHiRqsD1</td>\n    </tr>\n    <tr>\n      <th>2</th>\n      <td>MONTAGEM TOMADA - Slowed</td>\n      <td>1mfvWzF39LwVpAm8g0LhQT</td>\n      <td>84901</td>\n      <td>https://open.spotify.com/track/1mfvWzF39LwVpAm...</td>\n      <td>62</td>\n      <td>2025-04-10T07:43:26Z</td>\n      <td>5D17Gk0J7jPXLvWMszqijF</td>\n      <td>7kk9ucvRJim0NMM89Lml2Y</td>\n    </tr>\n    <tr>\n      <th>3</th>\n      <td>X-TALI</td>\n      <td>6yIkBXij6NSjmRGRpQupqO</td>\n      <td>72352</td>\n      <td>https://open.spotify.com/track/6yIkBXij6NSjmRG...</td>\n      <td>74</td>\n      <td>2025-03-07T07:52:21Z</td>\n      <td>6dNugoBYWvUDQDtLurImhw</td>\n      <td>7qIgmxSjoXEeifSVDh8nIt</td>\n    </tr>\n    <tr>\n      <th>4</th>\n      <td>MONTAGEM CONTIGO</td>\n      <td>38eZ1H5Mpr4YanTn5kY8JD</td>\n      <td>96808</td>\n      <td>https://open.spotify.com/track/38eZ1H5Mpr4YanT...</td>\n      <td>75</td>\n      <td>2025-05-28T08:50:02Z</td>\n      <td>0XoyJmD8cp3L8ixHoW3lB6</td>\n      <td>0jrirfCZkRU3iA2sH9JEko</td>\n    </tr>\n  </tbody>\n</table>\n</div>",
       "datasetInfos": [],
       "metadata": {},
       "removedWidgets": [],
       "textData": null,
       "type": "htmlSandbox"
      }
     },
     "output_type": "display_data"
    }
   ],
   "source": [
    "songs_df.head()"
   ]
  },
  {
   "cell_type": "code",
   "execution_count": 0,
   "metadata": {
    "application/vnd.databricks.v1+cell": {
     "cellMetadata": {
      "byteLimit": 2048000,
      "rowLimit": 10000
     },
     "inputWidgets": {},
     "nuid": "d943765f-bb13-4726-86e6-804f031e0a31",
     "showTitle": false,
     "tableResultSettingsMap": {},
     "title": ""
    }
   },
   "outputs": [
    {
     "output_type": "display_data",
     "data": {
      "text/html": [
       "<div>\n",
       "<style scoped>\n",
       "    .dataframe tbody tr th:only-of-type {\n",
       "        vertical-align: middle;\n",
       "    }\n",
       "\n",
       "    .dataframe tbody tr th {\n",
       "        vertical-align: top;\n",
       "    }\n",
       "\n",
       "    .dataframe thead th {\n",
       "        text-align: right;\n",
       "    }\n",
       "</style>\n",
       "<table border=\"1\" class=\"dataframe\">\n",
       "  <thead>\n",
       "    <tr style=\"text-align: right;\">\n",
       "      <th></th>\n",
       "      <th>artist_id</th>\n",
       "      <th>artist_name</th>\n",
       "      <th>external_url</th>\n",
       "    </tr>\n",
       "  </thead>\n",
       "  <tbody>\n",
       "    <tr>\n",
       "      <th>130</th>\n",
       "      <td>33rnQWadiG2aauIwIxPxfB</td>\n",
       "      <td>ZWE1HVNDXR</td>\n",
       "      <td>https://api.spotify.com/v1/artists/33rnQWadiG2...</td>\n",
       "    </tr>\n",
       "    <tr>\n",
       "      <th>131</th>\n",
       "      <td>2APh66XEiqOiDt3bKhBWmn</td>\n",
       "      <td>NONTHENSE</td>\n",
       "      <td>https://api.spotify.com/v1/artists/2APh66XEiqO...</td>\n",
       "    </tr>\n",
       "    <tr>\n",
       "      <th>132</th>\n",
       "      <td>7dUNKhz7HdxExteqcREGLi</td>\n",
       "      <td>Mc Denny</td>\n",
       "      <td>https://api.spotify.com/v1/artists/7dUNKhz7Hdx...</td>\n",
       "    </tr>\n",
       "    <tr>\n",
       "      <th>133</th>\n",
       "      <td>0oV5Z0bl2CEOKxeN8FZHi7</td>\n",
       "      <td>S4nri0</td>\n",
       "      <td>https://api.spotify.com/v1/artists/0oV5Z0bl2CE...</td>\n",
       "    </tr>\n",
       "    <tr>\n",
       "      <th>134</th>\n",
       "      <td>4fVQieL685dgYwFDrcYxsz</td>\n",
       "      <td>MC LyC4N</td>\n",
       "      <td>https://api.spotify.com/v1/artists/4fVQieL685d...</td>\n",
       "    </tr>\n",
       "  </tbody>\n",
       "</table>\n",
       "</div>"
      ]
     },
     "metadata": {
      "application/vnd.databricks.v1+output": {
       "addedWidgets": {},
       "arguments": {},
       "data": "<div>\n<style scoped>\n    .dataframe tbody tr th:only-of-type {\n        vertical-align: middle;\n    }\n\n    .dataframe tbody tr th {\n        vertical-align: top;\n    }\n\n    .dataframe thead th {\n        text-align: right;\n    }\n</style>\n<table border=\"1\" class=\"dataframe\">\n  <thead>\n    <tr style=\"text-align: right;\">\n      <th></th>\n      <th>artist_id</th>\n      <th>artist_name</th>\n      <th>external_url</th>\n    </tr>\n  </thead>\n  <tbody>\n    <tr>\n      <th>130</th>\n      <td>33rnQWadiG2aauIwIxPxfB</td>\n      <td>ZWE1HVNDXR</td>\n      <td>https://api.spotify.com/v1/artists/33rnQWadiG2...</td>\n    </tr>\n    <tr>\n      <th>131</th>\n      <td>2APh66XEiqOiDt3bKhBWmn</td>\n      <td>NONTHENSE</td>\n      <td>https://api.spotify.com/v1/artists/2APh66XEiqO...</td>\n    </tr>\n    <tr>\n      <th>132</th>\n      <td>7dUNKhz7HdxExteqcREGLi</td>\n      <td>Mc Denny</td>\n      <td>https://api.spotify.com/v1/artists/7dUNKhz7Hdx...</td>\n    </tr>\n    <tr>\n      <th>133</th>\n      <td>0oV5Z0bl2CEOKxeN8FZHi7</td>\n      <td>S4nri0</td>\n      <td>https://api.spotify.com/v1/artists/0oV5Z0bl2CE...</td>\n    </tr>\n    <tr>\n      <th>134</th>\n      <td>4fVQieL685dgYwFDrcYxsz</td>\n      <td>MC LyC4N</td>\n      <td>https://api.spotify.com/v1/artists/4fVQieL685d...</td>\n    </tr>\n  </tbody>\n</table>\n</div>",
       "datasetInfos": [],
       "metadata": {},
       "removedWidgets": [],
       "textData": null,
       "type": "htmlSandbox"
      }
     },
     "output_type": "display_data"
    }
   ],
   "source": [
    "artist_df.tail()"
   ]
  },
  {
   "cell_type": "code",
   "execution_count": 0,
   "metadata": {
    "application/vnd.databricks.v1+cell": {
     "cellMetadata": {
      "byteLimit": 2048000,
      "rowLimit": 10000
     },
     "inputWidgets": {},
     "nuid": "24365092-c4e9-46e1-b3d9-0ba0b7cb2870",
     "showTitle": false,
     "tableResultSettingsMap": {},
     "title": ""
    }
   },
   "outputs": [
    {
     "output_type": "stream",
     "name": "stdout",
     "output_type": "stream",
     "text": [
      "<class 'pandas.core.frame.DataFrame'>\nRangeIndex: 69 entries, 0 to 68\nData columns (total 5 columns):\n #   Column              Non-Null Count  Dtype \n---  ------              --------------  ----- \n 0   album_id            69 non-null     object\n 1   album_name          69 non-null     object\n 2   no_of_tracks        69 non-null     int64 \n 3   album_release_date  69 non-null     object\n 4   album_url           69 non-null     object\ndtypes: int64(1), object(4)\nmemory usage: 2.8+ KB\n<class 'pandas.core.frame.DataFrame'>\nRangeIndex: 135 entries, 0 to 134\nData columns (total 3 columns):\n #   Column        Non-Null Count  Dtype \n---  ------        --------------  ----- \n 0   artist_id     135 non-null    object\n 1   artist_name   135 non-null    object\n 2   external_url  135 non-null    object\ndtypes: object(3)\nmemory usage: 3.3+ KB\n<class 'pandas.core.frame.DataFrame'>\nRangeIndex: 69 entries, 0 to 68\nData columns (total 8 columns):\n #   Column           Non-Null Count  Dtype \n---  ------           --------------  ----- \n 0   song_name        69 non-null     object\n 1   song_id          69 non-null     object\n 2   song_duration    69 non-null     int64 \n 3   song_url         69 non-null     object\n 4   song_popularity  69 non-null     int64 \n 5   song_added       69 non-null     object\n 6   album_id         69 non-null     object\n 7   artist_id        69 non-null     object\ndtypes: int64(2), object(6)\nmemory usage: 4.4+ KB\n"
     ]
    }
   ],
   "source": [
    "album_df.info()\n",
    "artist_df.info()\n",
    "songs_df.info()"
   ]
  },
  {
   "cell_type": "code",
   "execution_count": 0,
   "metadata": {
    "application/vnd.databricks.v1+cell": {
     "cellMetadata": {
      "byteLimit": 2048000,
      "rowLimit": 10000
     },
     "inputWidgets": {},
     "nuid": "dab9c9ac-cfa8-4781-a9ef-5bf452617994",
     "showTitle": false,
     "tableResultSettingsMap": {},
     "title": ""
    }
   },
   "outputs": [],
   "source": [
    "album_df=album_df.drop_duplicates(subset=['album_id'])\n",
    "songs_df=songs_df.drop_duplicates(subset=['song_id'])\n",
    "artist_df=artist_df.drop_duplicates(subset=['artist_id'])"
   ]
  },
  {
   "cell_type": "code",
   "execution_count": 0,
   "metadata": {
    "application/vnd.databricks.v1+cell": {
     "cellMetadata": {
      "byteLimit": 2048000,
      "rowLimit": 10000
     },
     "inputWidgets": {},
     "nuid": "44560cb2-bbe8-460b-be53-1302aa4ae308",
     "showTitle": false,
     "tableResultSettingsMap": {},
     "title": ""
    }
   },
   "outputs": [],
   "source": [
    "album_df['album_release_date']=pd.to_datetime(album_df['album_release_date'])"
   ]
  },
  {
   "cell_type": "code",
   "execution_count": 0,
   "metadata": {
    "application/vnd.databricks.v1+cell": {
     "cellMetadata": {
      "byteLimit": 2048000,
      "rowLimit": 10000
     },
     "inputWidgets": {},
     "nuid": "ea60a846-6c08-40e6-ad08-fa8fb108f3c7",
     "showTitle": false,
     "tableResultSettingsMap": {},
     "title": ""
    }
   },
   "outputs": [
    {
     "output_type": "stream",
     "name": "stdout",
     "output_type": "stream",
     "text": [
      "<class 'pandas.core.frame.DataFrame'>\nInt64Index: 69 entries, 0 to 68\nData columns (total 5 columns):\n #   Column              Non-Null Count  Dtype         \n---  ------              --------------  -----         \n 0   album_id            69 non-null     object        \n 1   album_name          69 non-null     object        \n 2   no_of_tracks        69 non-null     int64         \n 3   album_release_date  69 non-null     datetime64[ns]\n 4   album_url           69 non-null     object        \ndtypes: datetime64[ns](1), int64(1), object(3)\nmemory usage: 3.2+ KB\n"
     ]
    }
   ],
   "source": [
    "album_df.info()"
   ]
  },
  {
   "cell_type": "code",
   "execution_count": 0,
   "metadata": {
    "application/vnd.databricks.v1+cell": {
     "cellMetadata": {
      "byteLimit": 2048000,
      "rowLimit": 10000
     },
     "inputWidgets": {},
     "nuid": "aab5561d-b4f5-47dc-9e9c-81bd0b2820bf",
     "showTitle": false,
     "tableResultSettingsMap": {},
     "title": ""
    }
   },
   "outputs": [],
   "source": [
    "songs_df['song_added']=pd.to_datetime(songs_df['song_added'])"
   ]
  },
  {
   "cell_type": "code",
   "execution_count": 0,
   "metadata": {
    "application/vnd.databricks.v1+cell": {
     "cellMetadata": {
      "byteLimit": 2048000,
      "rowLimit": 10000
     },
     "inputWidgets": {},
     "nuid": "cdeec70f-ca32-47bb-8b15-255539579844",
     "showTitle": false,
     "tableResultSettingsMap": {},
     "title": ""
    }
   },
   "outputs": [
    {
     "output_type": "stream",
     "name": "stdout",
     "output_type": "stream",
     "text": [
      "<class 'pandas.core.frame.DataFrame'>\nInt64Index: 69 entries, 0 to 68\nData columns (total 8 columns):\n #   Column           Non-Null Count  Dtype              \n---  ------           --------------  -----              \n 0   song_name        69 non-null     object             \n 1   song_id          69 non-null     object             \n 2   song_duration    69 non-null     int64              \n 3   song_url         69 non-null     object             \n 4   song_popularity  69 non-null     int64              \n 5   song_added       69 non-null     datetime64[ns, UTC]\n 6   album_id         69 non-null     object             \n 7   artist_id        69 non-null     object             \ndtypes: datetime64[ns, UTC](1), int64(2), object(5)\nmemory usage: 4.9+ KB\n"
     ]
    }
   ],
   "source": [
    "songs_df.info()"
   ]
  },
  {
   "cell_type": "code",
   "execution_count": 0,
   "metadata": {
    "application/vnd.databricks.v1+cell": {
     "cellMetadata": {
      "byteLimit": 2048000,
      "rowLimit": 10000
     },
     "inputWidgets": {},
     "nuid": "490cd5fd-d8bf-4b11-a357-77699941b073",
     "showTitle": false,
     "tableResultSettingsMap": {},
     "title": ""
    }
   },
   "outputs": [
    {
     "output_type": "display_data",
     "data": {
      "text/html": [
       "<div>\n",
       "<style scoped>\n",
       "    .dataframe tbody tr th:only-of-type {\n",
       "        vertical-align: middle;\n",
       "    }\n",
       "\n",
       "    .dataframe tbody tr th {\n",
       "        vertical-align: top;\n",
       "    }\n",
       "\n",
       "    .dataframe thead th {\n",
       "        text-align: right;\n",
       "    }\n",
       "</style>\n",
       "<table border=\"1\" class=\"dataframe\">\n",
       "  <thead>\n",
       "    <tr style=\"text-align: right;\">\n",
       "      <th></th>\n",
       "      <th>song_name</th>\n",
       "      <th>song_id</th>\n",
       "      <th>song_duration</th>\n",
       "      <th>song_url</th>\n",
       "      <th>song_popularity</th>\n",
       "      <th>song_added</th>\n",
       "      <th>album_id</th>\n",
       "      <th>artist_id</th>\n",
       "    </tr>\n",
       "  </thead>\n",
       "  <tbody>\n",
       "    <tr>\n",
       "      <th>0</th>\n",
       "      <td>NUNCA MUDA?</td>\n",
       "      <td>5EIjpM1B1VsLoKvv2iwd0P</td>\n",
       "      <td>81500</td>\n",
       "      <td>https://open.spotify.com/track/5EIjpM1B1VsLoKv...</td>\n",
       "      <td>86</td>\n",
       "      <td>2025-03-07 07:49:17+00:00</td>\n",
       "      <td>6xUYw5goKIoyJQi9C27UBy</td>\n",
       "      <td>5dDNNq04RjKXFOADdHd6VX</td>\n",
       "    </tr>\n",
       "    <tr>\n",
       "      <th>1</th>\n",
       "      <td>Funk de Beleza - Slowed</td>\n",
       "      <td>43jExF2HeZ6cJIGrWF0ie4</td>\n",
       "      <td>145115</td>\n",
       "      <td>https://open.spotify.com/track/43jExF2HeZ6cJIG...</td>\n",
       "      <td>85</td>\n",
       "      <td>2025-03-07 07:49:21+00:00</td>\n",
       "      <td>4s7LxMlh6RxgdMhldfMe8u</td>\n",
       "      <td>3g0UoyvaTaHUrfpHiRqsD1</td>\n",
       "    </tr>\n",
       "    <tr>\n",
       "      <th>2</th>\n",
       "      <td>MONTAGEM TOMADA - Slowed</td>\n",
       "      <td>1mfvWzF39LwVpAm8g0LhQT</td>\n",
       "      <td>84901</td>\n",
       "      <td>https://open.spotify.com/track/1mfvWzF39LwVpAm...</td>\n",
       "      <td>62</td>\n",
       "      <td>2025-04-10 07:43:26+00:00</td>\n",
       "      <td>5D17Gk0J7jPXLvWMszqijF</td>\n",
       "      <td>7kk9ucvRJim0NMM89Lml2Y</td>\n",
       "    </tr>\n",
       "    <tr>\n",
       "      <th>3</th>\n",
       "      <td>X-TALI</td>\n",
       "      <td>6yIkBXij6NSjmRGRpQupqO</td>\n",
       "      <td>72352</td>\n",
       "      <td>https://open.spotify.com/track/6yIkBXij6NSjmRG...</td>\n",
       "      <td>74</td>\n",
       "      <td>2025-03-07 07:52:21+00:00</td>\n",
       "      <td>6dNugoBYWvUDQDtLurImhw</td>\n",
       "      <td>7qIgmxSjoXEeifSVDh8nIt</td>\n",
       "    </tr>\n",
       "    <tr>\n",
       "      <th>4</th>\n",
       "      <td>MONTAGEM CONTIGO</td>\n",
       "      <td>38eZ1H5Mpr4YanTn5kY8JD</td>\n",
       "      <td>96808</td>\n",
       "      <td>https://open.spotify.com/track/38eZ1H5Mpr4YanT...</td>\n",
       "      <td>75</td>\n",
       "      <td>2025-05-28 08:50:02+00:00</td>\n",
       "      <td>0XoyJmD8cp3L8ixHoW3lB6</td>\n",
       "      <td>0jrirfCZkRU3iA2sH9JEko</td>\n",
       "    </tr>\n",
       "  </tbody>\n",
       "</table>\n",
       "</div>"
      ]
     },
     "metadata": {
      "application/vnd.databricks.v1+output": {
       "addedWidgets": {},
       "arguments": {},
       "data": "<div>\n<style scoped>\n    .dataframe tbody tr th:only-of-type {\n        vertical-align: middle;\n    }\n\n    .dataframe tbody tr th {\n        vertical-align: top;\n    }\n\n    .dataframe thead th {\n        text-align: right;\n    }\n</style>\n<table border=\"1\" class=\"dataframe\">\n  <thead>\n    <tr style=\"text-align: right;\">\n      <th></th>\n      <th>song_name</th>\n      <th>song_id</th>\n      <th>song_duration</th>\n      <th>song_url</th>\n      <th>song_popularity</th>\n      <th>song_added</th>\n      <th>album_id</th>\n      <th>artist_id</th>\n    </tr>\n  </thead>\n  <tbody>\n    <tr>\n      <th>0</th>\n      <td>NUNCA MUDA?</td>\n      <td>5EIjpM1B1VsLoKvv2iwd0P</td>\n      <td>81500</td>\n      <td>https://open.spotify.com/track/5EIjpM1B1VsLoKv...</td>\n      <td>86</td>\n      <td>2025-03-07 07:49:17+00:00</td>\n      <td>6xUYw5goKIoyJQi9C27UBy</td>\n      <td>5dDNNq04RjKXFOADdHd6VX</td>\n    </tr>\n    <tr>\n      <th>1</th>\n      <td>Funk de Beleza - Slowed</td>\n      <td>43jExF2HeZ6cJIGrWF0ie4</td>\n      <td>145115</td>\n      <td>https://open.spotify.com/track/43jExF2HeZ6cJIG...</td>\n      <td>85</td>\n      <td>2025-03-07 07:49:21+00:00</td>\n      <td>4s7LxMlh6RxgdMhldfMe8u</td>\n      <td>3g0UoyvaTaHUrfpHiRqsD1</td>\n    </tr>\n    <tr>\n      <th>2</th>\n      <td>MONTAGEM TOMADA - Slowed</td>\n      <td>1mfvWzF39LwVpAm8g0LhQT</td>\n      <td>84901</td>\n      <td>https://open.spotify.com/track/1mfvWzF39LwVpAm...</td>\n      <td>62</td>\n      <td>2025-04-10 07:43:26+00:00</td>\n      <td>5D17Gk0J7jPXLvWMszqijF</td>\n      <td>7kk9ucvRJim0NMM89Lml2Y</td>\n    </tr>\n    <tr>\n      <th>3</th>\n      <td>X-TALI</td>\n      <td>6yIkBXij6NSjmRGRpQupqO</td>\n      <td>72352</td>\n      <td>https://open.spotify.com/track/6yIkBXij6NSjmRG...</td>\n      <td>74</td>\n      <td>2025-03-07 07:52:21+00:00</td>\n      <td>6dNugoBYWvUDQDtLurImhw</td>\n      <td>7qIgmxSjoXEeifSVDh8nIt</td>\n    </tr>\n    <tr>\n      <th>4</th>\n      <td>MONTAGEM CONTIGO</td>\n      <td>38eZ1H5Mpr4YanTn5kY8JD</td>\n      <td>96808</td>\n      <td>https://open.spotify.com/track/38eZ1H5Mpr4YanT...</td>\n      <td>75</td>\n      <td>2025-05-28 08:50:02+00:00</td>\n      <td>0XoyJmD8cp3L8ixHoW3lB6</td>\n      <td>0jrirfCZkRU3iA2sH9JEko</td>\n    </tr>\n  </tbody>\n</table>\n</div>",
       "datasetInfos": [],
       "metadata": {},
       "removedWidgets": [],
       "textData": null,
       "type": "htmlSandbox"
      }
     },
     "output_type": "display_data"
    }
   ],
   "source": [
    "songs_df.head()"
   ]
  },
  {
   "cell_type": "code",
   "execution_count": 0,
   "metadata": {
    "application/vnd.databricks.v1+cell": {
     "cellMetadata": {
      "byteLimit": 2048000,
      "rowLimit": 10000
     },
     "inputWidgets": {},
     "nuid": "6225752d-6495-4aef-a6d3-2f563d922300",
     "showTitle": false,
     "tableResultSettingsMap": {},
     "title": ""
    }
   },
   "outputs": [],
   "source": []
  }
 ],
 "metadata": {
  "application/vnd.databricks.v1+notebook": {
   "computePreferences": null,
   "dashboards": [],
   "environmentMetadata": {
    "base_environment": "",
    "environment_version": "1"
   },
   "inputWidgetPreferences": null,
   "language": "python",
   "notebookMetadata": {
    "pythonIndentUnit": 4
   },
   "notebookName": "Spotify API Trigger",
   "widgets": {}
  }
 },
 "nbformat": 4,
 "nbformat_minor": 0
}